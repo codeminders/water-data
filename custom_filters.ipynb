{
 "cells": [
  {
   "cell_type": "code",
   "execution_count": 1,
   "metadata": {
    "collapsed": false
   },
   "outputs": [],
   "source": [
    "import sys\n",
    "import json\n",
    "import numpy as np\n",
    "import matplotlib.pyplot as plt\n",
    "import line_profiler\n",
    "\n",
    "from usgs.helpers import *\n",
    "from usgs.imputation.imputation import *\n",
    "from pymongo import MongoClient\n",
    "from numpy.lib.stride_tricks import as_strided\n",
    "\n",
    "client = MongoClient(\"localhost\", 27017)\n",
    "db = client['usgs']\n",
    "\n",
    "plt.rcParams['image.cmap'] = 'viridis'\n",
    "%matplotlib inline"
   ]
  },
  {
   "cell_type": "code",
   "execution_count": 225,
   "metadata": {
    "collapsed": false
   },
   "outputs": [],
   "source": [
    "def extreme_values(y, continuity, high = True, low = True):\n",
    "    n = y.size // 2\n",
    "    res = y.copy()\n",
    "    \n",
    "    z = np.sort(np.abs(y))\n",
    "    dz = z[1:] - z[:-1]\n",
    "    \n",
    "    if low:\n",
    "        mask_min = dz[:n][::-1] > continuity\n",
    "        if mask_min.sum() > 0:\n",
    "            i_min = n - np.argmax(mask_min)\n",
    "            thr_min = 0.5*(z[i_min] + z[i_min - 1])\n",
    "        else:\n",
    "            thr_min = z[0] - 1\n",
    "    else:\n",
    "        thr_min = z[0] - 1\n",
    "        \n",
    "    if high:\n",
    "        mask_max = dz[n:] > continuity\n",
    "        if mask_max.sum() > 0:\n",
    "            i_max = n + np.argmax(mask_max)\n",
    "            thr_max = 0.5*(z[i_max] + z[i_max + 1])\n",
    "        else:\n",
    "            thr_max = z[-1] + 1   \n",
    "    else:\n",
    "        thr_max = z[-1] + 1  \n",
    "    \n",
    "    idx = (res < thr_min) | (res > thr_max)\n",
    "    return idx\n",
    "\n",
    "\n",
    "def detect_spikes(y, dt, min_amp = 0.5, thr = 0.25):\n",
    "    mask = np.zeros(y.size, dtype = bool)\n",
    "    for i in range(1, y.size - 1):\n",
    "        dL = ( y[i] - y[i-1] ) / dt * 3600\n",
    "        dR = ( y[i] - y[i+1] ) / dt * 3600                 \n",
    "        if ( dL * dR > 0 ) and ( min(abs(dL), abs(dR)) > min_amp ):\n",
    "#          ( abs(abs(dL) - abs(dR)) < thr * max(abs(dL), abs(dR)) ) :\n",
    "            mask[i] = True            \n",
    "    return mask\n",
    "\n",
    "\n",
    "def detect_consts(y):\n",
    "    dy = np.hstack([1, y[1:] - y[:-1]])\n",
    "    return dy != 0\n",
    "        \n",
    "\n",
    "def fix_spikes(y, mask):\n",
    "    z = y.copy()\n",
    "    idx = np.where(mask)[0]\n",
    "    z[idx] = 0.5*(y[idx - 1] + y[idx + 1])\n",
    "    return z\n",
    "\n",
    "\n",
    "def rolling_window_1d(a, window_size, stride = 1, padded = True):\n",
    "    itemsize = a.dtype.itemsize\n",
    "    k = window_size // 2\n",
    "    if padded:\n",
    "        output = np.hstack([np.zeros(k + window_size % 2) + a[0], a, np.zeros(k) + a[-1]])\n",
    "    else:\n",
    "        output = a\n",
    "    return as_strided(output, \n",
    "                      strides = (stride*itemsize, itemsize), \n",
    "                      shape   = ((output.size - window_size) // stride, window_size))\n",
    "\n",
    "\n",
    "def erosion_filter_1d(y, k):\n",
    "    samples = rolling_window_1d(y, k)\n",
    "    return np.min(samples, axis = 1)\n",
    "\n",
    "\n",
    "def dilation_filter_1d(y, k):\n",
    "    samples = rolling_window_1d(y, k)\n",
    "    return np.max(samples, axis = 1)\n",
    "\n",
    "\n",
    "def median_filter_1d(y, k):\n",
    "    samples = rolling_window_1d(y, k)\n",
    "    return np.median(samples, axis = 1)\n",
    "\n",
    "\n",
    "def box_filter_1d(y, k):\n",
    "    kernel = np.ones(k) / k\n",
    "    return np.convolve(y, kernel, mode = 'same')\n",
    "\n",
    "\n",
    "def gaussian_filter_1d(y, k, sigma):\n",
    "    kernel = np.exp(-0.5*((np.arange(k) - k // 2) / s)**2) / s * 0.3989422804014327\n",
    "    return np.convolve(y, kernel, mode = 'same')\n",
    "    \n",
    "    \n",
    "def rolling_variance_1d(y, k)\n",
    "    samples = rolling_window_1d(y, k)\n",
    "    return np.var(samples, axis = 1)\n",
    "\n",
    "\n",
    "def adaptive_filter_1d(y, max_kernel_size, filter_func):\n",
    "    # Value-dependent kernel size: larger the value, smaller the kernel.\n",
    "    # Assumes, that smaller values are much smoother, than large ones.\n",
    "    # Does not filter large short spikes, but clears low valleys.\n",
    "    \n",
    "    n = y.size\n",
    "    k_max = max_kernel_size\n",
    "    res = y.copy\n",
    "    b = y.min()\n",
    "    a = np.log(k) / (y.max() - b)\n",
    "    for i in range(k_max, n-k_max-1):\n",
    "        k = np.int32(k_max * np.exp(-a*(y[i] - b))) #\n",
    "        res[i] = filter_func(y[i-k:i+k+1])\n",
    "    return res\n",
    "\n",
    "\n",
    "def find_zeros(y):\n",
    "    mask = np.zeros(y.size)\n",
    "    for i in range(1, y.size):\n",
    "        y_i = y[i]\n",
    "        y_j = y[i-1]\n",
    "        if y_i > 0 and y_j > 0 or y_i <= 0 and y_j <= 0:\n",
    "            continue\n",
    "        elif y_i > 0 and y_j <= 0:\n",
    "            mask[i] = +1\n",
    "        else:\n",
    "            mask[i] = -1\n",
    "    return mask"
   ]
  },
  {
   "cell_type": "code",
   "execution_count": null,
   "metadata": {
    "collapsed": false
   },
   "outputs": [],
   "source": [
    "# mis-alignment\n",
    "2198000, 2422500, 2318700, 15743850"
   ]
  },
  {
   "cell_type": "code",
   "execution_count": 3,
   "metadata": {
    "collapsed": true
   },
   "outputs": [],
   "source": [
    "sites     = db['cites']\n",
    "measured  = db['measured']\n",
    "corrected = db['corrected']\n",
    "\n",
    "cursor = sites.find()\n",
    "sid = [c['site_no'] for c in cursor]"
   ]
  },
  {
   "cell_type": "markdown",
   "metadata": {},
   "source": [
    "# Error checking"
   ]
  },
  {
   "cell_type": "code",
   "execution_count": null,
   "metadata": {
    "collapsed": false
   },
   "outputs": [],
   "source": [
    "def ts_process(q, db, site_list):\n",
    "    for site_id in site_list:\n",
    "        try:\n",
    "            t_raw, z_raw, t_true, z_true = get_data(db, site_id)\n",
    "        except:\n",
    "            continue\n",
    "\n",
    "        z_raw  = feet_to_meters(z_raw)\n",
    "        z_true = feet_to_meters(z_true)\n",
    "        dt, y_raw, y_true = align_measurements(t_raw, z_raw, t_true, z_true)\n",
    "\n",
    "        if dt < 300:\n",
    "            continue \n",
    "\n",
    "        idx = y_true > 0\n",
    "        mask = extreme_values(z_raw, continuity = 0.13, high = True, low = True)\n",
    "        z_new = z_raw.copy()\n",
    "        z_new[mask] = -1\n",
    "\n",
    "        _, y_new, _ = align_measurements(t_raw, z_new, t_true, z_true)\n",
    "\n",
    "        y_raw  = linear_interpolator(y_raw,  max_gap = y_raw.size)\n",
    "        y_new  = linear_interpolator(y_new,  max_gap = y_new.size)\n",
    "        y_true = linear_interpolator(y_true, max_gap = y_true.size)\n",
    "\n",
    "        is_spike = detect_spikes(y_new, dt, min_amp = 0.5, thr = 0.1)\n",
    "        y_new = fix_spikes(y_new, is_spike)\n",
    "\n",
    "        mae_raw = mae(y_raw[idx], y_true[idx])\n",
    "        mae_new = mae(y_new[idx], y_true[idx])\n",
    "        mxae_raw = mxae(y_raw[idx], y_true[idx])\n",
    "        mxae_new = mxae(y_new[idx], y_true[idx])\n",
    "\n",
    "        print(\"%i \\t%.6f   \\t%.6f   \\t%.6f   \\t%.6f\" % \\\n",
    "              (site_id, mae_raw, mae_new, mxae_raw, mxae_new))\n",
    "        sys.stdout.flush()\n",
    "        q.put((site_id, [mae_raw, mae_new, mxae_raw, mxae_new]))\n",
    "    return 0"
   ]
  },
  {
   "cell_type": "code",
   "execution_count": null,
   "metadata": {
    "collapsed": false,
    "scrolled": true
   },
   "outputs": [],
   "source": [
    "from multiprocessing import Process, Queue, Manager\n",
    "\n",
    "n_cores = 8\n",
    "n = len(sid)\n",
    "k = n // n_cores\n",
    "\n",
    "manager = Manager()\n",
    "q = manager.Queue()\n",
    "jobs = list()\n",
    "for i in range(n_cores):\n",
    "    sid_chunk = sid[i*k:min((i+1)*k, n)]\n",
    "    p = Process(target=ts_process, args=(q, db, sid_chunk))\n",
    "    jobs.append(p)\n",
    "    p.start()\n",
    "    \n",
    "for job in jobs:\n",
    "    job.join()\n",
    "    \n",
    "m = q.qsize()\n",
    "site_id = np.zeros(m)\n",
    "mae_raw = np.zeros(m)\n",
    "mae_new = np.zeros(m)\n",
    "mxae_raw = np.zeros(m)\n",
    "mxae_new = np.zeros(m)\n",
    "\n",
    "for i in range(m):\n",
    "    k, v = q.get()\n",
    "    site_id[i] = k\n",
    "    mae_raw[i] = v[0]\n",
    "    mae_new[i] = v[1]\n",
    "    mxae_raw[i] = v[2]\n",
    "    mxae_new[i] = v[3]\n",
    "\n",
    "print('...done.')\n",
    "sys.stdout.flush()"
   ]
  },
  {
   "cell_type": "code",
   "execution_count": null,
   "metadata": {
    "collapsed": false
   },
   "outputs": [],
   "source": [
    "idx = mae_raw > mae_new + 0.000001\n",
    "print('MAE reduced: %.1f%%' % (np.sum(idx) / idx.size * 100))\n",
    "\n",
    "idx = mxae_raw > mxae_new + 0.0001\n",
    "print('MxAE reduced: %.1f%%' % (np.sum(idx) / idx.size * 100))\n",
    "\n",
    "idx = mxae_raw > mxae_new + 1\n",
    "print('MxAE reduced (1m): %.1f%%' % (np.sum(idx) / idx.size * 100))\n",
    "\n",
    "idx = mae_raw > mae_new + 0.1\n",
    "print('MAE reduced (.1m): %.1f%%' % (np.sum(idx) / idx.size * 100))\n",
    "\n",
    "idx = (mxae_raw > 0.025) & (mxae_new < 0.025)\n",
    "print('MxAE reduced lower than 1ft: %.1f%%' % (np.sum(idx) / idx.size * 100))\n",
    "\n",
    "idx = mxae_raw < 0.01\n",
    "print('MxAE lower than 1ft: %.1f%%' % (np.sum(idx) / idx.size * 100))\n",
    "\n",
    "print('Avg error change: %.6f' % np.mean(mae_new - mae_raw))"
   ]
  },
  {
   "cell_type": "code",
   "execution_count": null,
   "metadata": {
    "collapsed": true
   },
   "outputs": [],
   "source": [
    "site_id_gold = [5124480, 8078000, 7151500, 4185000, 2198000, \n",
    "                8109700, 2422500, 3574500, 2318700, 2361000, \n",
    "                3543500, 9361500, 7268000, 6800000, 8041700,\n",
    "                2326000, 2329500, 11152000, ]\n",
    "8095300, 2233500, 12321500, 1601500"
   ]
  },
  {
   "cell_type": "code",
   "execution_count": null,
   "metadata": {
    "collapsed": true
   },
   "outputs": [],
   "source": [
    "erosions and dilations cut off high peaks and low valleys and can possibly help \n",
    "to remove pressure leaks and oscilations. After dilation/erosion remember locations \n",
    "of platos into \"mask\", then smooth the signal, then remove those points of platos and\n",
    "interpolate with bezier splines. "
   ]
  },
  {
   "cell_type": "code",
   "execution_count": null,
   "metadata": {
    "collapsed": false,
    "scrolled": true
   },
   "outputs": [],
   "source": [
    "site_id = sid[39]\n",
    "t_raw, z_raw, t_true, z_true = get_data(db, site_id)\n",
    "z_raw  = feet_to_meters(z_raw)\n",
    "z_true = feet_to_meters(z_true)\n",
    "dz = np.hstack([1,z_true[1:] - z_true[:-1]])\n",
    "z_true[dz == 0] = -1\n",
    "dt, y_raw, y_true = align_measurements(t_raw, z_raw, t_true, z_true)\n",
    "y_true = linear_interpolator(y_true, max_gap = 7*96)\n",
    "y_true[y_true < 0] = np.nan\n",
    "z = dilate(erode(erode(dilate(y_true, 96), 96), 96), 96)\n",
    "dz = np.hstack([1,z[1:] - z[:-1]])\n",
    "#z[dz == 0] = -1\n",
    "#y_true = linear_interpolator(y_true, max_gap = 96)\n",
    "dy  = np.hstack([0, (y_true[1:] - y_true[:-1]) / (dt / 3600)])\n",
    "ddy = np.hstack([0, (y_true[2:] + y_true[:-2] - 2*y_true[1:-1]) / (dt / 3600)**2])\n",
    "\n",
    "print(site_id, dt)\n",
    "step = 5000\n",
    "k = 2\n",
    "offset = 0\n",
    "plt.figure(figsize = (16,10))\n",
    "plt.subplot(3,1,1)\n",
    "plt.plot(y_true[k*step + offset:(k+1)*step], 'b-')\n",
    "plt.plot(z[k*step + offset:(k+1)*step], 'r-')\n",
    "plt.xlim(0,step)\n",
    "plt.grid(which = 'both')\n",
    "\n",
    "thr = 0.5\n",
    "plt.subplot(3,1,2)\n",
    "plt.plot(dy[k*step + offset:(k+1)*step], 'b-')\n",
    "plt.plot([0, step - offset], [thr, thr], 'k--')\n",
    "plt.plot([0, step - offset], [-thr, -thr], 'k--')\n",
    "plt.grid(which = 'both')\n",
    "\n",
    "thr = 0.5\n",
    "plt.subplot(3,1,3)\n",
    "plt.plot(ddy[k*step + offset:(k+1)*step], 'b-')\n",
    "plt.plot([0, step - offset], [thr, thr], 'k--')\n",
    "plt.plot([0, step - offset], [-thr, -thr], 'k--')\n",
    "plt.grid(which = 'both')"
   ]
  },
  {
   "cell_type": "code",
   "execution_count": 245,
   "metadata": {
    "collapsed": false
   },
   "outputs": [],
   "source": [
    "def adaptive_median_filter_1d(y, max_kernel_size):\n",
    "    # Value-dependent kernel size: larger the value, smaller the kernel.\n",
    "    # Assumes, that smaller values are much smoother, than large ones.\n",
    "    # Does not filter large short spikes, but clears low valleys.\n",
    "    \n",
    "    n = y.size\n",
    "    k_max = max_kernel_size\n",
    "    res = y.copy()\n",
    "    b = y.min()\n",
    "    a = np.log(k_max) / (y.max() - b)\n",
    "    for i in range(k_max, n-k_max-1):\n",
    "        k = np.int32(k_max * np.exp(-a*(y[i] - b))) #\n",
    "        res[i] = np.median(y[i-k:i+k+1])\n",
    "    return res\n",
    "\n",
    "\n",
    "def median_filter_1d(y, kernel_size):\n",
    "    samples = rolling_window_1d(y, kernel_size)\n",
    "    return np.median(samples, axis = 1)\n",
    "\n",
    "\n"
   ]
  },
  {
   "cell_type": "code",
   "execution_count": 216,
   "metadata": {
    "collapsed": false
   },
   "outputs": [],
   "source": [
    "from scipy.signal import medfilt\n",
    "\n",
    "site_id = sid[0]\n",
    "z_m, z_c = get_data(db, site_id)\n",
    "\n",
    "z_m['y'] = feet_to_meters(z_m['y'])\n",
    "z_c['y'] = feet_to_meters(z_c['y'])\n",
    "\n",
    "dz = np.hstack([1, z_c['y'][1:] - z_c['y'][:-1]])\n",
    "z_c['y'][dz == 0] = -1\n",
    "dt, y_raw, y_true = align_measurements(z_m, z_c)\n",
    "y_true = linear_interpolator(y_true, max_gap = 96)\n",
    "\n",
    "z = adaptive_median_filter_1d(y_true, 96)"
   ]
  },
  {
   "cell_type": "code",
   "execution_count": 276,
   "metadata": {
    "collapsed": false
   },
   "outputs": [
    {
     "data": {
      "image/png": "[encoded data removed]",
      "text/plain": [
       "<matplotlib.figure.Figure at 0x7fa3fe4c3f60>"
      ]
     },
     "metadata": {},
     "output_type": "display_data"
    }
   ],
   "source": [
    "k = 97\n",
    "s = 6\n",
    "\n",
    "kernel = np.exp(-0.5*((np.arange(k) - k // 2) / s)**2) / s * 0.3989422804014327\n",
    "#kernel /= kernel.sum()\n",
    "z = np.convolve(y_true, kernel, mode = 'same')\n",
    "#z = median_filter_1d(y_true, 48)\n",
    "dy = 0.5*(z[2:] - z[:-2])\n",
    "ddy = 0.5*(z[2:] - 2*z[1:-1] + z[:-2])\n",
    "\n",
    "plt.figure(figsize = (16,6))\n",
    "plt.subplot(2,1,1)\n",
    "#plt.plot(y_true)\n",
    "plt.plot(z)\n",
    "plt.xlim(128000,130000)\n",
    "plt.ylim(1.6,2.5)\n",
    "plt.grid()\n",
    "\n",
    "plt.subplot(2,1,2)\n",
    "plt.plot(ddy)\n",
    "plt.plot(np.hstack([0, ddy[1:] * ddy[:-1]]) <= 0)\n",
    "plt.xlim(128000,130000)\n",
    "plt.ylim(-0.001,0.001)\n",
    "plt.grid()"
   ]
  },
  {
   "cell_type": "code",
   "execution_count": 265,
   "metadata": {
    "collapsed": false
   },
   "outputs": [
    {
     "data": {
      "text/plain": [
       "0.3989422804014327"
      ]
     },
     "execution_count": 265,
     "metadata": {},
     "output_type": "execute_result"
    }
   ],
   "source": [
    "ddy[1:] * ddy[:-1]"
   ]
  }
 ],
 "metadata": {
  "kernelspec": {
   "display_name": "Python 3",
   "language": "python",
   "name": "python3"
  },
  "language_info": {
   "codemirror_mode": {
    "name": "ipython",
    "version": 3
   },
   "file_extension": ".py",
   "mimetype": "text/x-python",
   "name": "python",
   "nbconvert_exporter": "python",
   "pygments_lexer": "ipython3",
   "version": "3.5.2"
  }
 },
 "nbformat": 4,
 "nbformat_minor": 0
}
