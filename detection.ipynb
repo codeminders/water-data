{
 "cells": [
  {
   "cell_type": "code",
   "execution_count": 1,
   "metadata": {
    "collapsed": false
   },
   "outputs": [],
   "source": [
    "import json\n",
    "\n",
    "from pymongo import MongoClient\n",
    "\n",
    "import numpy as np\n",
    "import matplotlib.pyplot as plt\n",
    "import line_profiler\n",
    "\n",
    "from helpers import *\n",
    "from imputation import *\n",
    "\n",
    "client = MongoClient(\"localhost\", 27017)\n",
    "db = client['usgs']\n",
    "%matplotlib inline"
   ]
  },
  {
   "cell_type": "code",
   "execution_count": null,
   "metadata": {
    "collapsed": true
   },
   "outputs": [],
   "source": [
    "def extreme_values(y, continuity, high = True, low = True):\n",
    "    n = y.size // 2\n",
    "    res = y.copy()\n",
    "    \n",
    "    z = np.sort(np.abs(y))\n",
    "    dz = z[1:] - z[:-1]\n",
    "    \n",
    "    if low:\n",
    "        mask_min = dz[:n][::-1] > continuity\n",
    "        if mask_min.sum() > 0:\n",
    "            i_min = n - np.argmax(dz[:n][::-1] > continuity)\n",
    "            thr_min = 0.5*(z[i_min] + z[i_min - 1])\n",
    "        else:\n",
    "            thr_min = z[0] - 1\n",
    "    else:\n",
    "        thr_min = z[0] - 1\n",
    "        \n",
    "    if high:\n",
    "        mask_max = dz[n:] > continuity\n",
    "        if mask_max.sum() > 0:\n",
    "            i_max = n + np.argmax(dz[n:] > continuity)\n",
    "            thr_max = 0.5*(z[i_max] + z[i_max + 1])\n",
    "        else:\n",
    "            thr_max = z[-1] + 1   \n",
    "    else:\n",
    "        thr_max = z[-1] + 1  \n",
    "    \n",
    "    idx = np.logical_or(res < thr_min, res > thr_max)\n",
    "    return idx\n",
    "\n",
    "\n",
    "def detect_spikes(y, min_amp = 0.5, thr = 0.25):\n",
    "    mask = np.zeros(y.size, dtype = bool)\n",
    "    for i in range(1, y.size - 1):\n",
    "        dL = ( y[i] - y[i-1] ) / dt * 3600\n",
    "        dR = ( y[i] - y[i+1] ) / dt * 3600 \n",
    "        \n",
    "        absL = abs(dL)\n",
    "        absR = abs(dR)\n",
    "        \n",
    "        d = abs(absL - absR)\n",
    "        \n",
    "        if ( dL * dR > 0 ) and ( absL > min_amp ) and ( absR > min_amp ) and ( d < thr * max(absL, absR) ) :\n",
    "            mask[i] = True\n",
    "            \n",
    "    return mask\n",
    "\n",
    "\n",
    "def fix_spikes(y, mask):\n",
    "    z = y.copy()\n",
    "    idx = np.where(mask)[0]\n",
    "    z[idx] = 0.5*(y[idx - 1] + y[idx + 1])\n",
    "    return z"
   ]
  },
  {
   "cell_type": "code",
   "execution_count": null,
   "metadata": {
    "collapsed": false
   },
   "outputs": [],
   "source": [
    "sid = json.load(open('revision_list_d.json'))['to_review']"
   ]
  },
  {
   "cell_type": "code",
   "execution_count": null,
   "metadata": {
    "collapsed": false
   },
   "outputs": [],
   "source": [
    "# mis-alignment\n",
    "2198000, 2422500, 2318700, 15743850"
   ]
  },
  {
   "cell_type": "code",
   "execution_count": null,
   "metadata": {
    "collapsed": false
   },
   "outputs": [],
   "source": [
    "good = [5124480, 2378500, 11057500, 6061500, 9447800, 2361000, 1022500, 3550000, 2329500, 11152000, 1372500, 3049000, \n",
    "        12043300, 10293000, 1193500, 9124500]"
   ]
  },
  {
   "cell_type": "code",
   "execution_count": null,
   "metadata": {
    "collapsed": true
   },
   "outputs": [],
   "source": [
    "e_raw = np.zeros(len(sid)) - 1\n",
    "e_new = np.zeros(len(sid)) - 1"
   ]
  },
  {
   "cell_type": "code",
   "execution_count": null,
   "metadata": {
    "collapsed": false
   },
   "outputs": [],
   "source": [
    "si = 0\n",
    "t_raw, z_raw, t_true, z_true = get_data(db, sid[si])\n",
    "z_raw  = feet_to_meters(z_raw)\n",
    "z_true = feet_to_meters(z_true)\n",
    "dt, y_raw, y_true = align_measurements(t_raw, z_raw, t_true, z_true)\n",
    "print(sid[si], dt)"
   ]
  },
  {
   "cell_type": "code",
   "execution_count": null,
   "metadata": {
    "collapsed": false,
    "scrolled": true
   },
   "outputs": [],
   "source": [
    "for si in range(len(sid)):\n",
    "    try:\n",
    "        t_raw, z_raw, t_true, z_true = get_data(db, sid[si])\n",
    "    except:\n",
    "        continue\n",
    "    \n",
    "    z_raw  = feet_to_meters(z_raw)\n",
    "    z_true = feet_to_meters(z_true)\n",
    "    dt, y_raw, y_true = align_measurements(t_raw, z_raw, t_true, z_true)\n",
    "    \n",
    "    if dt < 300:\n",
    "        continue\n",
    "\n",
    "    z = z_raw.copy()\n",
    "    mask = extreme_values(z, continuity = 0.13, high = True, low = True)\n",
    "    z[mask] = -1\n",
    "\n",
    "    z = fill_gaps(z,  max_gap = 30 * 86400 // dt, spike_size = 2, window_size = 10)\n",
    "    dt, y_new, _ = align_measurements(t_raw, z, t_true, z_true)\n",
    "\n",
    "    y_raw  = fill_gaps(y_raw,  max_gap = 30 * 86400 // dt, spike_size = 2, window_size = 10)\n",
    "    y_true = fill_gaps(y_true, max_gap = 30 * 86400 // dt, spike_size = 2, window_size = 10)\n",
    "    y_new  = fill_gaps(y_new,  max_gap = 30 * 86400 // dt, spike_size = 2, window_size = 10)\n",
    "\n",
    "    is_spike = detect_spikes(y_new, min_amp = 0.5, thr = 0.25)\n",
    "    y_new = fix_spikes(y_new, is_spike)\n",
    "\n",
    "    e_raw[si] = xae(y_raw, y_true)\n",
    "    e_new[si] = xae(y_new, y_true)\n",
    "    \n",
    "    print(sid[si], '\\t%.4f  \\t%.4f' % (e_raw[si], e_new[si]))"
   ]
  },
  {
   "cell_type": "code",
   "execution_count": null,
   "metadata": {
    "collapsed": false
   },
   "outputs": [],
   "source": [
    "diff = e_raw - e_new\n",
    "mask = np.logical_not(np.logical_or(np.isnan(e_raw), np.isnan(e_new)))\n",
    "sorted(list(zip(diff[diff < 0], np.array(sid)[diff < 0])))"
   ]
  },
  {
   "cell_type": "code",
   "execution_count": null,
   "metadata": {
    "collapsed": false
   },
   "outputs": [],
   "source": [
    "t_raw, z_raw, t_true, z_true = get_data(db, 9418500)\n",
    "\n",
    "z_raw  = feet_to_meters(z_raw)\n",
    "z_true = feet_to_meters(z_true)\n",
    "dt, y_raw, y_true = align_measurements(t_raw, z_raw, t_true, z_true)\n",
    "\n",
    "z = z_raw.copy()\n",
    "mask = extreme_values(z, continuity = 0.13, high = True, low = True)\n",
    "z[mask] = -1\n",
    "\n",
    "z = fill_gaps(z,  max_gap = 30 * 86400 // dt, spike_size = 2, window_size = 10)\n",
    "dt, y_new, _ = align_measurements(t_raw, z, t_true, z_true)\n",
    "\n",
    "y_raw  = fill_gaps(y_raw,  max_gap = 30 * 86400 // dt, spike_size = 2, window_size = 10)\n",
    "y_true = fill_gaps(y_true, max_gap = 30 * 86400 // dt, spike_size = 2, window_size = 10)\n",
    "y_new  = fill_gaps(y_new,  max_gap = 30 * 86400 // dt, spike_size = 2, window_size = 10)\n",
    "\n",
    "is_spike = detect_spikes(y_new, min_amp = 0.5, thr = 0.25)\n",
    "y_new = fix_spikes(y_new, is_spike)\n",
    "\n",
    "plt.figure(figsize = (16,4))\n",
    "plt.plot(y_raw, 'b-')\n",
    "#plt.plot(y_true, 'g-')\n",
    "plt.plot(y_new, 'r.-')\n",
    "#plt.xlim(106000, 108000)"
   ]
  },
  {
   "cell_type": "code",
   "execution_count": null,
   "metadata": {
    "collapsed": false
   },
   "outputs": [],
   "source": [
    "cursor = db['cites'].find()\n",
    "\n",
    "X_raw = list()\n",
    "X_true = list()\n",
    "\n",
    "n_in = 1024\n",
    "\n",
    "for c in cursor:\n",
    "    sid = c['site_no']\n",
    "    try:\n",
    "        t_raw, z_raw, t_true, z_true = get_data(db, sid)\n",
    "    except:\n",
    "        continue\n",
    "        \n",
    "    z_raw  = feet_to_meters(z_raw)\n",
    "    z_true = feet_to_meters(z_true)\n",
    "    dt, y_raw, y_true = align_measurements(t_raw, z_raw, t_true, z_true)\n",
    "    \n",
    "    if dt != 900:\n",
    "        continue\n",
    "\n",
    "    y_raw  = fill_gaps(y_raw,  max_gap = 7 * 86400 // dt, spike_size = 2, window_size = 10)\n",
    "    y_true = fill_gaps(y_true, max_gap = 7 * 86400 // dt, spike_size = 2, window_size = 10)\n",
    "    \n",
    "    if y_raw.size > n_in:\n",
    "        X_raw.append(y_raw[:n_in])\n",
    "        X_true.append(y_true[:n_in])\n",
    "        \n",
    "X_raw = np.array(X_raw, dtype = np.float32)\n",
    "X_true = np.array(X_true, dtype = np.float32)\n",
    "\n",
    "X_raw  = X_raw.reshape(X_raw.shape[0], X_raw.shape[1], 1)\n",
    "X_true = X_true.reshape(X_true.shape[0], X_true.shape[1], 1)"
   ]
  },
  {
   "cell_type": "code",
   "execution_count": null,
   "metadata": {
    "collapsed": true
   },
   "outputs": [],
   "source": []
  },
  {
   "cell_type": "code",
   "execution_count": null,
   "metadata": {
    "collapsed": true
   },
   "outputs": [],
   "source": []
  },
  {
   "cell_type": "code",
   "execution_count": 2,
   "metadata": {
    "collapsed": false
   },
   "outputs": [
    {
     "name": "stderr",
     "output_type": "stream",
     "text": [
      "Using Theano backend.\n",
      "Using gpu device 0: GeForce GTS 450 (CNMeM is disabled, cuDNN not available)\n",
      "/home/dlevin/anaconda3/lib/python3.5/site-packages/theano/tensor/signal/downsample.py:6: UserWarning: downsample module has been moved to the theano.tensor.signal.pool module.\n",
      "  \"downsample module has been moved to the theano.tensor.signal.pool module.\")\n"
     ]
    }
   ],
   "source": [
    "from keras.models import Sequential\n",
    "from keras.layers import InputLayer, Dense, Activation, Flatten\n",
    "from keras.layers.convolutional import Convolution1D, Convolution2D\n",
    "from keras.layers.pooling import MaxPooling1D, MaxPooling2D, AveragePooling1D\n",
    "from keras.optimizers import RMSprop, Adam"
   ]
  },
  {
   "cell_type": "code",
   "execution_count": 28,
   "metadata": {
    "collapsed": false
   },
   "outputs": [],
   "source": [
    "n = 1024\n",
    "N = 1000\n",
    "t = np.linspace(-np.pi, np.pi, n)\n",
    "\n",
    "X = np.zeros((N, n, 1))\n",
    "Y = np.zeros((N, n))\n",
    "\n",
    "for i in range(N):\n",
    "    x = np.random.randn() * np.sin(np.random.randn()*t + np.random.randn()) + 0.02*np.random.randn(n)\n",
    "\n",
    "    y = x.copy()\n",
    "    i = np.random.randint(0, n//2 - 1)\n",
    "    j = np.random.randint(0, n//3 - 1)\n",
    "    y[i:i+j] += 2*y.max() + np.random.randn()\n",
    "    idx = np.random.choice(np.arange(n), 32, replace = False)\n",
    "    y[idx] += 2*y.max() + np.random.randn(idx.size)\n",
    "    \n",
    "    X[i, :, 0] = x\n",
    "    Y[i, :] = x"
   ]
  },
  {
   "cell_type": "code",
   "execution_count": 29,
   "metadata": {
    "collapsed": false
   },
   "outputs": [],
   "source": [
    "model = Sequential()\n",
    "\n",
    "model.add(Convolution1D(nb_filter = 16, filter_length = 3, activation = 'relu', input_shape = (n, 1), init = 'lecun_uniform'))\n",
    "\n",
    "model.add(Convolution1D(nb_filter = 32, filter_length = 5, activation = 'relu', init = 'lecun_uniform'))\n",
    "\n",
    "model.add(Convolution1D(nb_filter = 64, filter_length = 5, activation = 'relu', init = 'lecun_uniform'))\n",
    "\n",
    "model.add(MaxPooling1D(pool_length = 4))\n",
    "\n",
    "model.add(Convolution1D(nb_filter = 64, filter_length = 5, activation = 'relu', init = 'lecun_uniform'))\n",
    "\n",
    "model.add(MaxPooling1D(pool_length = 3))\n",
    "\n",
    "model.add(Flatten())\n",
    "\n",
    "model.add(Dense(n // 4, activation = 'relu'))\n",
    "\n",
    "model.add(Dense(n, activation = 'linear'))\n",
    "\n",
    "opt = Adam(lr = 1e-3)\n",
    "model.compile(optimizer = opt, loss = 'mse')"
   ]
  },
  {
   "cell_type": "code",
   "execution_count": 30,
   "metadata": {
    "collapsed": false,
    "scrolled": true
   },
   "outputs": [
    {
     "name": "stdout",
     "output_type": "stream",
     "text": [
      "Epoch 1/100\n",
      "4s - loss: 0.1571\n",
      "Epoch 2/100\n",
      "4s - loss: 0.0436\n",
      "Epoch 3/100\n",
      "4s - loss: 0.0183\n",
      "Epoch 4/100\n",
      "4s - loss: 0.0124\n",
      "Epoch 5/100\n",
      "4s - loss: 0.0085\n",
      "Epoch 6/100\n",
      "4s - loss: 0.0055\n",
      "Epoch 7/100\n",
      "4s - loss: 0.0042\n",
      "Epoch 8/100\n",
      "4s - loss: 0.0034\n",
      "Epoch 9/100\n",
      "4s - loss: 0.0025\n",
      "Epoch 10/100\n",
      "4s - loss: 0.0027\n",
      "Epoch 11/100\n",
      "4s - loss: 0.0023\n",
      "Epoch 12/100\n",
      "4s - loss: 0.0022\n",
      "Epoch 13/100\n",
      "4s - loss: 0.0025\n",
      "Epoch 14/100\n",
      "4s - loss: 0.0020\n",
      "Epoch 15/100\n",
      "4s - loss: 0.0025\n",
      "Epoch 16/100\n",
      "4s - loss: 0.0018\n",
      "Epoch 17/100\n",
      "4s - loss: 0.0015\n",
      "Epoch 18/100\n",
      "4s - loss: 0.0014\n",
      "Epoch 19/100\n",
      "4s - loss: 0.0012\n",
      "Epoch 20/100\n",
      "4s - loss: 0.0011\n",
      "Epoch 21/100\n",
      "4s - loss: 0.0010\n",
      "Epoch 22/100\n",
      "4s - loss: 0.0015\n",
      "Epoch 23/100\n",
      "4s - loss: 0.0016\n",
      "Epoch 24/100\n",
      "4s - loss: 0.0018\n",
      "Epoch 25/100\n",
      "4s - loss: 0.0021\n",
      "Epoch 26/100\n",
      "4s - loss: 0.0017\n",
      "Epoch 27/100\n",
      "4s - loss: 0.0015\n",
      "Epoch 28/100\n",
      "4s - loss: 0.0015\n",
      "Epoch 29/100\n",
      "4s - loss: 0.0022\n",
      "Epoch 30/100\n",
      "4s - loss: 0.0014\n",
      "Epoch 31/100\n",
      "4s - loss: 9.4549e-04\n",
      "Epoch 32/100\n",
      "4s - loss: 7.4606e-04\n",
      "Epoch 33/100\n",
      "4s - loss: 6.2732e-04\n",
      "Epoch 34/100\n",
      "4s - loss: 6.1412e-04\n",
      "Epoch 35/100\n",
      "4s - loss: 5.3514e-04\n",
      "Epoch 36/100\n",
      "4s - loss: 5.0871e-04\n",
      "Epoch 37/100\n",
      "4s - loss: 4.6119e-04\n",
      "Epoch 38/100\n",
      "4s - loss: 5.5160e-04\n",
      "Epoch 39/100\n",
      "4s - loss: 5.5632e-04\n",
      "Epoch 40/100\n",
      "4s - loss: 4.9811e-04\n",
      "Epoch 41/100\n",
      "4s - loss: 4.7048e-04\n",
      "Epoch 42/100\n",
      "4s - loss: 4.4848e-04\n",
      "Epoch 43/100\n",
      "4s - loss: 5.4485e-04\n",
      "Epoch 44/100\n",
      "4s - loss: 4.6082e-04\n",
      "Epoch 45/100\n",
      "4s - loss: 5.3788e-04\n",
      "Epoch 46/100\n",
      "4s - loss: 5.0683e-04\n",
      "Epoch 47/100\n",
      "4s - loss: 5.8602e-04\n",
      "Epoch 48/100\n",
      "4s - loss: 7.5670e-04\n",
      "Epoch 49/100\n",
      "4s - loss: 7.1727e-04\n",
      "Epoch 50/100\n",
      "4s - loss: 6.0701e-04\n",
      "Epoch 51/100\n",
      "4s - loss: 6.7588e-04\n",
      "Epoch 52/100\n",
      "4s - loss: 6.9184e-04\n",
      "Epoch 53/100\n",
      "4s - loss: 0.0013\n",
      "Epoch 54/100\n",
      "4s - loss: 0.0017\n",
      "Epoch 55/100\n",
      "4s - loss: 0.0017\n",
      "Epoch 56/100\n",
      "4s - loss: 8.7862e-04\n",
      "Epoch 57/100\n",
      "4s - loss: 5.9737e-04\n",
      "Epoch 58/100\n",
      "4s - loss: 5.8708e-04\n",
      "Epoch 59/100\n",
      "4s - loss: 6.5058e-04\n",
      "Epoch 60/100\n"
     ]
    },
    {
     "ename": "KeyboardInterrupt",
     "evalue": "",
     "output_type": "error",
     "traceback": [
      "\u001b[1;31m---------------------------------------------------------------------------\u001b[0m",
      "\u001b[1;31mKeyboardInterrupt\u001b[0m                         Traceback (most recent call last)",
      "\u001b[1;32m<ipython-input-30-7ad34801f6ea>\u001b[0m in \u001b[0;36m<module>\u001b[1;34m()\u001b[0m\n\u001b[0;32m      2\u001b[0m           \u001b[0mnb_epoch\u001b[0m \u001b[1;33m=\u001b[0m \u001b[1;36m100\u001b[0m\u001b[1;33m,\u001b[0m\u001b[1;33m\u001b[0m\u001b[0m\n\u001b[0;32m      3\u001b[0m           \u001b[0mverbose\u001b[0m \u001b[1;33m=\u001b[0m \u001b[1;36m2\u001b[0m\u001b[1;33m,\u001b[0m\u001b[1;33m\u001b[0m\u001b[0m\n\u001b[1;32m----> 4\u001b[1;33m           batch_size = 64)\n\u001b[0m",
      "\u001b[1;32m/home/dlevin/anaconda3/lib/python3.5/site-packages/keras/models.py\u001b[0m in \u001b[0;36mfit\u001b[1;34m(self, x, y, batch_size, nb_epoch, verbose, callbacks, validation_split, validation_data, shuffle, class_weight, sample_weight, **kwargs)\u001b[0m\n\u001b[0;32m    427\u001b[0m                               \u001b[0mshuffle\u001b[0m\u001b[1;33m=\u001b[0m\u001b[0mshuffle\u001b[0m\u001b[1;33m,\u001b[0m\u001b[1;33m\u001b[0m\u001b[0m\n\u001b[0;32m    428\u001b[0m                               \u001b[0mclass_weight\u001b[0m\u001b[1;33m=\u001b[0m\u001b[0mclass_weight\u001b[0m\u001b[1;33m,\u001b[0m\u001b[1;33m\u001b[0m\u001b[0m\n\u001b[1;32m--> 429\u001b[1;33m                               sample_weight=sample_weight)\n\u001b[0m\u001b[0;32m    430\u001b[0m \u001b[1;33m\u001b[0m\u001b[0m\n\u001b[0;32m    431\u001b[0m     def evaluate(self, x, y, batch_size=32, verbose=1,\n",
      "\u001b[1;32m/home/dlevin/anaconda3/lib/python3.5/site-packages/keras/engine/training.py\u001b[0m in \u001b[0;36mfit\u001b[1;34m(self, x, y, batch_size, nb_epoch, verbose, callbacks, validation_split, validation_data, shuffle, class_weight, sample_weight)\u001b[0m\n\u001b[0;32m   1106\u001b[0m                               \u001b[0mverbose\u001b[0m\u001b[1;33m=\u001b[0m\u001b[0mverbose\u001b[0m\u001b[1;33m,\u001b[0m \u001b[0mcallbacks\u001b[0m\u001b[1;33m=\u001b[0m\u001b[0mcallbacks\u001b[0m\u001b[1;33m,\u001b[0m\u001b[1;33m\u001b[0m\u001b[0m\n\u001b[0;32m   1107\u001b[0m                               \u001b[0mval_f\u001b[0m\u001b[1;33m=\u001b[0m\u001b[0mval_f\u001b[0m\u001b[1;33m,\u001b[0m \u001b[0mval_ins\u001b[0m\u001b[1;33m=\u001b[0m\u001b[0mval_ins\u001b[0m\u001b[1;33m,\u001b[0m \u001b[0mshuffle\u001b[0m\u001b[1;33m=\u001b[0m\u001b[0mshuffle\u001b[0m\u001b[1;33m,\u001b[0m\u001b[1;33m\u001b[0m\u001b[0m\n\u001b[1;32m-> 1108\u001b[1;33m                               callback_metrics=callback_metrics)\n\u001b[0m\u001b[0;32m   1109\u001b[0m \u001b[1;33m\u001b[0m\u001b[0m\n\u001b[0;32m   1110\u001b[0m     \u001b[1;32mdef\u001b[0m \u001b[0mevaluate\u001b[0m\u001b[1;33m(\u001b[0m\u001b[0mself\u001b[0m\u001b[1;33m,\u001b[0m \u001b[0mx\u001b[0m\u001b[1;33m,\u001b[0m \u001b[0my\u001b[0m\u001b[1;33m,\u001b[0m \u001b[0mbatch_size\u001b[0m\u001b[1;33m=\u001b[0m\u001b[1;36m32\u001b[0m\u001b[1;33m,\u001b[0m \u001b[0mverbose\u001b[0m\u001b[1;33m=\u001b[0m\u001b[1;36m1\u001b[0m\u001b[1;33m,\u001b[0m \u001b[0msample_weight\u001b[0m\u001b[1;33m=\u001b[0m\u001b[1;32mNone\u001b[0m\u001b[1;33m)\u001b[0m\u001b[1;33m:\u001b[0m\u001b[1;33m\u001b[0m\u001b[0m\n",
      "\u001b[1;32m/home/dlevin/anaconda3/lib/python3.5/site-packages/keras/engine/training.py\u001b[0m in \u001b[0;36m_fit_loop\u001b[1;34m(self, f, ins, out_labels, batch_size, nb_epoch, verbose, callbacks, val_f, val_ins, shuffle, callback_metrics)\u001b[0m\n\u001b[0;32m    824\u001b[0m                 \u001b[0mbatch_logs\u001b[0m\u001b[1;33m[\u001b[0m\u001b[1;34m'size'\u001b[0m\u001b[1;33m]\u001b[0m \u001b[1;33m=\u001b[0m \u001b[0mlen\u001b[0m\u001b[1;33m(\u001b[0m\u001b[0mbatch_ids\u001b[0m\u001b[1;33m)\u001b[0m\u001b[1;33m\u001b[0m\u001b[0m\n\u001b[0;32m    825\u001b[0m                 \u001b[0mcallbacks\u001b[0m\u001b[1;33m.\u001b[0m\u001b[0mon_batch_begin\u001b[0m\u001b[1;33m(\u001b[0m\u001b[0mbatch_index\u001b[0m\u001b[1;33m,\u001b[0m \u001b[0mbatch_logs\u001b[0m\u001b[1;33m)\u001b[0m\u001b[1;33m\u001b[0m\u001b[0m\n\u001b[1;32m--> 826\u001b[1;33m                 \u001b[0mouts\u001b[0m \u001b[1;33m=\u001b[0m \u001b[0mf\u001b[0m\u001b[1;33m(\u001b[0m\u001b[0mins_batch\u001b[0m\u001b[1;33m)\u001b[0m\u001b[1;33m\u001b[0m\u001b[0m\n\u001b[0m\u001b[0;32m    827\u001b[0m                 \u001b[1;32mif\u001b[0m \u001b[0mtype\u001b[0m\u001b[1;33m(\u001b[0m\u001b[0mouts\u001b[0m\u001b[1;33m)\u001b[0m \u001b[1;33m!=\u001b[0m \u001b[0mlist\u001b[0m\u001b[1;33m:\u001b[0m\u001b[1;33m\u001b[0m\u001b[0m\n\u001b[0;32m    828\u001b[0m                     \u001b[0mouts\u001b[0m \u001b[1;33m=\u001b[0m \u001b[1;33m[\u001b[0m\u001b[0mouts\u001b[0m\u001b[1;33m]\u001b[0m\u001b[1;33m\u001b[0m\u001b[0m\n",
      "\u001b[1;32m/home/dlevin/anaconda3/lib/python3.5/site-packages/keras/backend/theano_backend.py\u001b[0m in \u001b[0;36m__call__\u001b[1;34m(self, inputs)\u001b[0m\n\u001b[0;32m    560\u001b[0m     \u001b[1;32mdef\u001b[0m \u001b[0m__call__\u001b[0m\u001b[1;33m(\u001b[0m\u001b[0mself\u001b[0m\u001b[1;33m,\u001b[0m \u001b[0minputs\u001b[0m\u001b[1;33m)\u001b[0m\u001b[1;33m:\u001b[0m\u001b[1;33m\u001b[0m\u001b[0m\n\u001b[0;32m    561\u001b[0m         \u001b[1;32massert\u001b[0m \u001b[0mtype\u001b[0m\u001b[1;33m(\u001b[0m\u001b[0minputs\u001b[0m\u001b[1;33m)\u001b[0m \u001b[1;32min\u001b[0m \u001b[1;33m{\u001b[0m\u001b[0mlist\u001b[0m\u001b[1;33m,\u001b[0m \u001b[0mtuple\u001b[0m\u001b[1;33m}\u001b[0m\u001b[1;33m\u001b[0m\u001b[0m\n\u001b[1;32m--> 562\u001b[1;33m         \u001b[1;32mreturn\u001b[0m \u001b[0mself\u001b[0m\u001b[1;33m.\u001b[0m\u001b[0mfunction\u001b[0m\u001b[1;33m(\u001b[0m\u001b[1;33m*\u001b[0m\u001b[0minputs\u001b[0m\u001b[1;33m)\u001b[0m\u001b[1;33m\u001b[0m\u001b[0m\n\u001b[0m\u001b[0;32m    563\u001b[0m \u001b[1;33m\u001b[0m\u001b[0m\n\u001b[0;32m    564\u001b[0m \u001b[1;33m\u001b[0m\u001b[0m\n",
      "\u001b[1;32m/home/dlevin/anaconda3/lib/python3.5/site-packages/theano/compile/function_module.py\u001b[0m in \u001b[0;36m__call__\u001b[1;34m(self, *args, **kwargs)\u001b[0m\n\u001b[0;32m    857\u001b[0m         \u001b[0mt0_fn\u001b[0m \u001b[1;33m=\u001b[0m \u001b[0mtime\u001b[0m\u001b[1;33m.\u001b[0m\u001b[0mtime\u001b[0m\u001b[1;33m(\u001b[0m\u001b[1;33m)\u001b[0m\u001b[1;33m\u001b[0m\u001b[0m\n\u001b[0;32m    858\u001b[0m         \u001b[1;32mtry\u001b[0m\u001b[1;33m:\u001b[0m\u001b[1;33m\u001b[0m\u001b[0m\n\u001b[1;32m--> 859\u001b[1;33m             \u001b[0moutputs\u001b[0m \u001b[1;33m=\u001b[0m \u001b[0mself\u001b[0m\u001b[1;33m.\u001b[0m\u001b[0mfn\u001b[0m\u001b[1;33m(\u001b[0m\u001b[1;33m)\u001b[0m\u001b[1;33m\u001b[0m\u001b[0m\n\u001b[0m\u001b[0;32m    860\u001b[0m         \u001b[1;32mexcept\u001b[0m \u001b[0mException\u001b[0m\u001b[1;33m:\u001b[0m\u001b[1;33m\u001b[0m\u001b[0m\n\u001b[0;32m    861\u001b[0m             \u001b[1;32mif\u001b[0m \u001b[0mhasattr\u001b[0m\u001b[1;33m(\u001b[0m\u001b[0mself\u001b[0m\u001b[1;33m.\u001b[0m\u001b[0mfn\u001b[0m\u001b[1;33m,\u001b[0m \u001b[1;34m'position_of_error'\u001b[0m\u001b[1;33m)\u001b[0m\u001b[1;33m:\u001b[0m\u001b[1;33m\u001b[0m\u001b[0m\n",
      "\u001b[1;32m/home/dlevin/anaconda3/lib/python3.5/site-packages/theano/gof/op.py\u001b[0m in \u001b[0;36mrval\u001b[1;34m(p, i, o, n)\u001b[0m\n\u001b[0;32m    909\u001b[0m         \u001b[1;32mif\u001b[0m \u001b[0mparams\u001b[0m \u001b[1;32mis\u001b[0m \u001b[0mgraph\u001b[0m\u001b[1;33m.\u001b[0m\u001b[0mNoParams\u001b[0m\u001b[1;33m:\u001b[0m\u001b[1;33m\u001b[0m\u001b[0m\n\u001b[0;32m    910\u001b[0m             \u001b[1;31m# default arguments are stored in the closure of `rval`\u001b[0m\u001b[1;33m\u001b[0m\u001b[1;33m\u001b[0m\u001b[0m\n\u001b[1;32m--> 911\u001b[1;33m             \u001b[1;32mdef\u001b[0m \u001b[0mrval\u001b[0m\u001b[1;33m(\u001b[0m\u001b[0mp\u001b[0m\u001b[1;33m=\u001b[0m\u001b[0mp\u001b[0m\u001b[1;33m,\u001b[0m \u001b[0mi\u001b[0m\u001b[1;33m=\u001b[0m\u001b[0mnode_input_storage\u001b[0m\u001b[1;33m,\u001b[0m \u001b[0mo\u001b[0m\u001b[1;33m=\u001b[0m\u001b[0mnode_output_storage\u001b[0m\u001b[1;33m,\u001b[0m \u001b[0mn\u001b[0m\u001b[1;33m=\u001b[0m\u001b[0mnode\u001b[0m\u001b[1;33m)\u001b[0m\u001b[1;33m:\u001b[0m\u001b[1;33m\u001b[0m\u001b[0m\n\u001b[0m\u001b[0;32m    912\u001b[0m                 \u001b[0mr\u001b[0m \u001b[1;33m=\u001b[0m \u001b[0mp\u001b[0m\u001b[1;33m(\u001b[0m\u001b[0mn\u001b[0m\u001b[1;33m,\u001b[0m \u001b[1;33m[\u001b[0m\u001b[0mx\u001b[0m\u001b[1;33m[\u001b[0m\u001b[1;36m0\u001b[0m\u001b[1;33m]\u001b[0m \u001b[1;32mfor\u001b[0m \u001b[0mx\u001b[0m \u001b[1;32min\u001b[0m \u001b[0mi\u001b[0m\u001b[1;33m]\u001b[0m\u001b[1;33m,\u001b[0m \u001b[0mo\u001b[0m\u001b[1;33m)\u001b[0m\u001b[1;33m\u001b[0m\u001b[0m\n\u001b[0;32m    913\u001b[0m                 \u001b[1;32mfor\u001b[0m \u001b[0mo\u001b[0m \u001b[1;32min\u001b[0m \u001b[0mnode\u001b[0m\u001b[1;33m.\u001b[0m\u001b[0moutputs\u001b[0m\u001b[1;33m:\u001b[0m\u001b[1;33m\u001b[0m\u001b[0m\n",
      "\u001b[1;31mKeyboardInterrupt\u001b[0m: "
     ]
    }
   ],
   "source": [
    "model.fit(X, Y, \n",
    "          nb_epoch = 100, \n",
    "          verbose = 2, \n",
    "          batch_size = 64)"
   ]
  },
  {
   "cell_type": "code",
   "execution_count": null,
   "metadata": {
    "collapsed": false
   },
   "outputs": [],
   "source": [
    "y_pred = model.predict(X)"
   ]
  },
  {
   "cell_type": "code",
   "execution_count": 26,
   "metadata": {
    "collapsed": false
   },
   "outputs": [
    {
     "data": {
      "text/plain": [
       "[<matplotlib.lines.Line2D at 0x7fe3963ce630>]"
      ]
     },
     "execution_count": 26,
     "metadata": {},
     "output_type": "execute_result"
    },
    {
     "data": {
      "image/png": "[encoded data removed]",
      "text/plain": [
       "<matplotlib.figure.Figure at 0x7fe39640bc50>"
      ]
     },
     "metadata": {},
     "output_type": "display_data"
    }
   ],
   "source": [
    "i = 0\n",
    "plt.figure(figsize = (16,4))\n",
    "plt.plot(X[i,:,0],  'k.-')\n",
    "plt.plot(Y[i],      'r.-')\n",
    "plt.plot(y_pred[i], 'g.-')"
   ]
  },
  {
   "cell_type": "code",
   "execution_count": null,
   "metadata": {
    "collapsed": true
   },
   "outputs": [],
   "source": []
  },
  {
   "cell_type": "code",
   "execution_count": null,
   "metadata": {
    "collapsed": true
   },
   "outputs": [],
   "source": []
  },
  {
   "cell_type": "code",
   "execution_count": null,
   "metadata": {
    "collapsed": true
   },
   "outputs": [],
   "source": []
  },
  {
   "cell_type": "code",
   "execution_count": null,
   "metadata": {
    "collapsed": true
   },
   "outputs": [],
   "source": []
  }
 ],
 "metadata": {
  "kernelspec": {
   "display_name": "Python 3",
   "language": "python",
   "name": "python3"
  },
  "language_info": {
   "codemirror_mode": {
    "name": "ipython",
    "version": 3
   },
   "file_extension": ".py",
   "mimetype": "text/x-python",
   "name": "python",
   "nbconvert_exporter": "python",
   "pygments_lexer": "ipython3",
   "version": "3.5.2"
  }
 },
 "nbformat": 4,
 "nbformat_minor": 0
}
