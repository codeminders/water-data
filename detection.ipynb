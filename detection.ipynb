{
 "cells": [
  {
   "cell_type": "code",
   "execution_count": 2,
   "metadata": {
    "collapsed": false
   },
   "outputs": [],
   "source": [
    "import json\n",
    "\n",
    "from pymongo import MongoClient\n",
    "\n",
    "import numpy as np\n",
    "import matplotlib.pyplot as plt\n",
    "import line_profiler\n",
    "\n",
    "from helpers import *\n",
    "from imputation import *\n",
    "\n",
    "client = MongoClient(\"localhost\", 27017)\n",
    "db = client['usgs']\n",
    "%matplotlib inline"
   ]
  },
  {
   "cell_type": "code",
   "execution_count": null,
   "metadata": {
    "collapsed": true
   },
   "outputs": [],
   "source": [
    "def extreme_values(y, continuity, high = True, low = True):\n",
    "    n = y.size // 2\n",
    "    res = y.copy()\n",
    "    \n",
    "    z = np.sort(np.abs(y))\n",
    "    dz = z[1:] - z[:-1]\n",
    "    \n",
    "    if low:\n",
    "        mask_min = dz[:n][::-1] > continuity\n",
    "        if mask_min.sum() > 0:\n",
    "            i_min = n - np.argmax(dz[:n][::-1] > continuity)\n",
    "            thr_min = 0.5*(z[i_min] + z[i_min - 1])\n",
    "        else:\n",
    "            thr_min = z[0] - 1\n",
    "    else:\n",
    "        thr_min = z[0] - 1\n",
    "        \n",
    "    if high:\n",
    "        mask_max = dz[n:] > continuity\n",
    "        if mask_max.sum() > 0:\n",
    "            i_max = n + np.argmax(dz[n:] > continuity)\n",
    "            thr_max = 0.5*(z[i_max] + z[i_max + 1])\n",
    "        else:\n",
    "            thr_max = z[-1] + 1   \n",
    "    else:\n",
    "        thr_max = z[-1] + 1  \n",
    "    \n",
    "    idx = np.logical_or(res < thr_min, res > thr_max)\n",
    "    return idx\n",
    "\n",
    "\n",
    "def detect_spikes(y, min_amp = 0.5, thr = 0.25):\n",
    "    mask = np.zeros(y.size, dtype = bool)\n",
    "    for i in range(1, y.size - 1):\n",
    "        dL = ( y[i] - y[i-1] ) / dt * 3600\n",
    "        dR = ( y[i] - y[i+1] ) / dt * 3600 \n",
    "        \n",
    "        absL = abs(dL)\n",
    "        absR = abs(dR)\n",
    "        \n",
    "        d = abs(absL - absR)\n",
    "        \n",
    "        if ( dL * dR > 0 ) and ( absL > min_amp ) and ( absR > min_amp ) and ( d < thr * max(absL, absR) ) :\n",
    "            mask[i] = True\n",
    "            \n",
    "    return mask\n",
    "\n",
    "\n",
    "def fix_spikes(y, mask):\n",
    "    z = y.copy()\n",
    "    idx = np.where(mask)[0]\n",
    "    z[idx] = 0.5*(y[idx - 1] + y[idx + 1])\n",
    "    return z"
   ]
  },
  {
   "cell_type": "code",
   "execution_count": null,
   "metadata": {
    "collapsed": false
   },
   "outputs": [],
   "source": [
    "sid = json.load(open('revision_list_d.json'))['to_review']"
   ]
  },
  {
   "cell_type": "code",
   "execution_count": null,
   "metadata": {
    "collapsed": false
   },
   "outputs": [],
   "source": [
    "# mis-alignment\n",
    "2198000, 2422500, 2318700, 15743850"
   ]
  },
  {
   "cell_type": "code",
   "execution_count": null,
   "metadata": {
    "collapsed": false
   },
   "outputs": [],
   "source": [
    "good = [5124480, 2378500, 11057500, 6061500, 9447800, 2361000, 1022500, 3550000, 2329500, 11152000, 1372500, 3049000, \n",
    "        12043300, 10293000, 1193500, 9124500]"
   ]
  },
  {
   "cell_type": "code",
   "execution_count": null,
   "metadata": {
    "collapsed": true
   },
   "outputs": [],
   "source": [
    "e_raw = np.zeros(len(sid)) - 1\n",
    "e_new = np.zeros(len(sid)) - 1"
   ]
  },
  {
   "cell_type": "code",
   "execution_count": null,
   "metadata": {
    "collapsed": false
   },
   "outputs": [],
   "source": [
    "si = 0\n",
    "t_raw, z_raw, t_true, z_true = get_data(db, sid[si])\n",
    "z_raw  = feet_to_meters(z_raw)\n",
    "z_true = feet_to_meters(z_true)\n",
    "dt, y_raw, y_true = align_measurements(t_raw, z_raw, t_true, z_true)\n",
    "print(sid[si], dt)"
   ]
  },
  {
   "cell_type": "code",
   "execution_count": null,
   "metadata": {
    "collapsed": false,
    "scrolled": true
   },
   "outputs": [],
   "source": [
    "for si in range(len(sid)):\n",
    "    try:\n",
    "        t_raw, z_raw, t_true, z_true = get_data(db, sid[si])\n",
    "    except:\n",
    "        continue\n",
    "    \n",
    "    z_raw  = feet_to_meters(z_raw)\n",
    "    z_true = feet_to_meters(z_true)\n",
    "    dt, y_raw, y_true = align_measurements(t_raw, z_raw, t_true, z_true)\n",
    "    \n",
    "    if dt < 300:\n",
    "        continue\n",
    "\n",
    "    z = z_raw.copy()\n",
    "    mask = extreme_values(z, continuity = 0.13, high = True, low = True)\n",
    "    z[mask] = -1\n",
    "\n",
    "    z = fill_gaps(z,  max_gap = 30 * 86400 // dt, spike_size = 2, window_size = 10)\n",
    "    dt, y_new, _ = align_measurements(t_raw, z, t_true, z_true)\n",
    "\n",
    "    y_raw  = fill_gaps(y_raw,  max_gap = 30 * 86400 // dt, spike_size = 2, window_size = 10)\n",
    "    y_true = fill_gaps(y_true, max_gap = 30 * 86400 // dt, spike_size = 2, window_size = 10)\n",
    "    y_new  = fill_gaps(y_new,  max_gap = 30 * 86400 // dt, spike_size = 2, window_size = 10)\n",
    "\n",
    "    is_spike = detect_spikes(y_new, min_amp = 0.5, thr = 0.25)\n",
    "    y_new = fix_spikes(y_new, is_spike)\n",
    "\n",
    "    e_raw[si] = xae(y_raw, y_true)\n",
    "    e_new[si] = xae(y_new, y_true)\n",
    "    \n",
    "    print(sid[si], '\\t%.4f  \\t%.4f' % (e_raw[si], e_new[si]))"
   ]
  },
  {
   "cell_type": "code",
   "execution_count": null,
   "metadata": {
    "collapsed": false
   },
   "outputs": [],
   "source": [
    "diff = e_raw - e_new\n",
    "mask = np.logical_not(np.logical_or(np.isnan(e_raw), np.isnan(e_new)))\n",
    "sorted(list(zip(diff[diff < 0], np.array(sid)[diff < 0])))"
   ]
  },
  {
   "cell_type": "code",
   "execution_count": null,
   "metadata": {
    "collapsed": false
   },
   "outputs": [],
   "source": [
    "t_raw, z_raw, t_true, z_true = get_data(db, 9418500)\n",
    "\n",
    "z_raw  = feet_to_meters(z_raw)\n",
    "z_true = feet_to_meters(z_true)\n",
    "dt, y_raw, y_true = align_measurements(t_raw, z_raw, t_true, z_true)\n",
    "\n",
    "z = z_raw.copy()\n",
    "mask = extreme_values(z, continuity = 0.13, high = True, low = True)\n",
    "z[mask] = -1\n",
    "\n",
    "z = fill_gaps(z,  max_gap = 30 * 86400 // dt, spike_size = 2, window_size = 10)\n",
    "dt, y_new, _ = align_measurements(t_raw, z, t_true, z_true)\n",
    "\n",
    "y_raw  = fill_gaps(y_raw,  max_gap = 30 * 86400 // dt, spike_size = 2, window_size = 10)\n",
    "y_true = fill_gaps(y_true, max_gap = 30 * 86400 // dt, spike_size = 2, window_size = 10)\n",
    "y_new  = fill_gaps(y_new,  max_gap = 30 * 86400 // dt, spike_size = 2, window_size = 10)\n",
    "\n",
    "is_spike = detect_spikes(y_new, min_amp = 0.5, thr = 0.25)\n",
    "y_new = fix_spikes(y_new, is_spike)\n",
    "\n",
    "plt.figure(figsize = (16,4))\n",
    "plt.plot(y_raw, 'b-')\n",
    "#plt.plot(y_true, 'g-')\n",
    "plt.plot(y_new, 'r.-')\n",
    "#plt.xlim(106000, 108000)"
   ]
  },
  {
   "cell_type": "code",
   "execution_count": 3,
   "metadata": {
    "collapsed": false
   },
   "outputs": [
    {
     "name": "stderr",
     "output_type": "stream",
     "text": [
      "/home/dlevin/anaconda3/lib/python3.5/site-packages/ipykernel/__main__.py:40: RuntimeWarning: divide by zero encountered in true_divide\n",
      "/home/dlevin/anaconda3/lib/python3.5/site-packages/ipykernel/__main__.py:40: RuntimeWarning: invalid value encountered in true_divide\n",
      "/home/dlevin/anaconda3/lib/python3.5/site-packages/ipykernel/__main__.py:41: RuntimeWarning: divide by zero encountered in true_divide\n",
      "/home/dlevin/anaconda3/lib/python3.5/site-packages/ipykernel/__main__.py:41: RuntimeWarning: invalid value encountered in true_divide\n"
     ]
    }
   ],
   "source": [
    "cursor = db['cites'].find()\n",
    "\n",
    "X = list()\n",
    "Y = list()\n",
    "\n",
    "n = 30 * 86400 // 900\n",
    "\n",
    "for c in cursor:\n",
    "    sid = c['site_no']\n",
    "    try:\n",
    "        t_raw, z_raw, t_true, z_true = get_data(db, sid)\n",
    "    except:\n",
    "        continue\n",
    "        \n",
    "    z_raw  = feet_to_meters(z_raw)\n",
    "    z_true = feet_to_meters(z_true)\n",
    "    dt, x, y = align_measurements(t_raw, z_raw, t_true, z_true)\n",
    "    \n",
    "    if dt != 900:\n",
    "        continue\n",
    "\n",
    "    x = fill_gaps(x, max_gap = 30 * 86400 // dt, spike_size = 2, window_size = 10)\n",
    "    y = fill_gaps(y, max_gap = 30 * 86400 // dt, spike_size = 2, window_size = 10)\n",
    "    \n",
    "    k = n // 2\n",
    "    if k > 3:\n",
    "        for i in range(0, x.size - n, k):        \n",
    "            X.append(x[i:i+n])\n",
    "            Y.append(y[i:i+n])\n",
    "\n",
    "X = np.nan_to_num(np.array(X, dtype = np.float32))\n",
    "Y = np.nan_to_num(np.array(Y, dtype = np.float32))\n",
    "\n",
    "X = np.minimum(np.maximum(X, -1), 40)\n",
    "Y = np.minimum(np.maximum(Y, -1), 40)\n",
    "\n",
    "m = X.mean(1)\n",
    "iqr = np.percentile(X, 95, axis = 1) - np.percentile(X, 5, axis = 1)\n",
    "\n",
    "X = ((X.T - m) / iqr).T\n",
    "Y = ((Y.T - m) / iqr).T\n",
    "\n",
    "X = X.reshape(X.shape[0], X.shape[1], 1)"
   ]
  },
  {
   "cell_type": "code",
   "execution_count": 5,
   "metadata": {
    "collapsed": false
   },
   "outputs": [
    {
     "data": {
      "text/plain": [
       "[<matplotlib.lines.Line2D at 0x7fac663a53c8>]"
      ]
     },
     "execution_count": 5,
     "metadata": {},
     "output_type": "execute_result"
    },
    {
     "data": {
      "image/png": "[encoded data removed]",
      "text/plain": [
       "<matplotlib.figure.Figure at 0x7fac6c555c18>"
      ]
     },
     "metadata": {},
     "output_type": "display_data"
    }
   ],
   "source": [
    "plt.plot(iqr)"
   ]
  },
  {
   "cell_type": "code",
   "execution_count": null,
   "metadata": {
    "collapsed": true
   },
   "outputs": [],
   "source": []
  },
  {
   "cell_type": "code",
   "execution_count": 7,
   "metadata": {
    "collapsed": false
   },
   "outputs": [],
   "source": [
    "from keras.models import Sequential\n",
    "from keras.layers import InputLayer, Dense, Activation, Flatten\n",
    "from keras.optimizers import RMSprop, Adam\n",
    "from keras.layers.pooling import MaxPooling1D, MaxPooling2D, AveragePooling1D\n",
    "from keras.layers.recurrent import LSTM\n",
    "from keras.layers.convolutional import Convolution1D, Convolution2D"
   ]
  },
  {
   "cell_type": "code",
   "execution_count": null,
   "metadata": {
    "collapsed": false
   },
   "outputs": [],
   "source": [
    "model = Sequential()\n",
    "\n",
    "model.add(Convolution1D(nb_filter = 16, filter_length = 3, activation = 'relu', input_shape = (n, 1), init = 'lecun_uniform'))\n",
    "\n",
    "model.add(Convolution1D(nb_filter = 32, filter_length = 5, activation = 'relu', init = 'lecun_uniform'))\n",
    "\n",
    "model.add(Convolution1D(nb_filter = 64, filter_length = 5, activation = 'relu', init = 'lecun_uniform'))\n",
    "\n",
    "model.add(MaxPooling1D(pool_length = 4))\n",
    "\n",
    "model.add(Convolution1D(nb_filter = 64, filter_length = 5, activation = 'relu', init = 'lecun_uniform'))\n",
    "\n",
    "model.add(MaxPooling1D(pool_length = 3))\n",
    "\n",
    "model.add(Flatten())\n",
    "\n",
    "model.add(Dense(n // 4, activation = 'relu'))\n",
    "\n",
    "model.add(Dense(n, activation = 'linear'))\n",
    "\n",
    "opt = Adam(lr = 1e-3)\n",
    "model.compile(optimizer = opt, loss = 'mse')"
   ]
  },
  {
   "cell_type": "code",
   "execution_count": 65,
   "metadata": {
    "collapsed": true
   },
   "outputs": [],
   "source": [
    "n = 1024\n",
    "N = 1000\n",
    "t = np.linspace(-np.pi, np.pi, n)\n",
    "\n",
    "X = np.zeros((N, n, 1))\n",
    "Y = np.zeros((N, n))\n",
    "\n",
    "for i in range(N):\n",
    "    c = 1 - 2*np.random.rand()\n",
    "    A = 1 + 2*np.random.rand()\n",
    "    w = 2*np.random.rand()\n",
    "    phi = 3 - 6*np.random.rand()\n",
    "    sigma = 0.05   \n",
    "    \n",
    "    y = c + A*np.sin(w*t + phi) + sigma*np.random.randn(n)\n",
    "    x = y.copy()\n",
    "    \n",
    "    j = np.random.randint(0, n//2 - 1)\n",
    "    k = np.random.randint(0, n//3 - 1)\n",
    "    a = 2*x.max() + np.random.randn()\n",
    "    b = a + np.random.randn()\n",
    "    x[j:j+k] += np.linspace(a, b, k) \n",
    "    \n",
    "    idx = np.random.choice(np.arange(n), 16, replace = False)\n",
    "    x[idx] += 2*x.max() + np.random.randn(idx.size)\n",
    "    \n",
    "    X[i, :, 0] = x\n",
    "    Y[i, :] = y"
   ]
  },
  {
   "cell_type": "code",
   "execution_count": 72,
   "metadata": {
    "collapsed": false
   },
   "outputs": [],
   "source": [
    "model = Sequential()\n",
    "\n",
    "model.add(LSTM(output_dim = 16, return_sequences = False, activation = 'tanh', input_shape = (1024, 1)))\n",
    "model.add(Dense(n, activation = 'linear'))\n",
    "opt = Adam(lr = 1e-2)\n",
    "model.compile(optimizer = 'adam', loss = 'mse')"
   ]
  },
  {
   "cell_type": "code",
   "execution_count": 73,
   "metadata": {
    "collapsed": false,
    "scrolled": true
   },
   "outputs": [
    {
     "name": "stderr",
     "output_type": "stream",
     "text": [
      "INFO (theano.gof.compilelock): Refreshing lock /home/dlevin/.theano/compiledir_Linux-3.19--generic-x86_64-with-debian-jessie-sid-x86_64-3.5.2-64/lock_dir/lock\n",
      "INFO:theano.gof.compilelock:Refreshing lock /home/dlevin/.theano/compiledir_Linux-3.19--generic-x86_64-with-debian-jessie-sid-x86_64-3.5.2-64/lock_dir/lock\n"
     ]
    },
    {
     "name": "stdout",
     "output_type": "stream",
     "text": [
      "Train on 500 samples, validate on 500 samples\n",
      "Epoch 1/100\n",
      "4s - loss: 2.5178 - val_loss: 2.5217\n",
      "Epoch 2/100\n",
      "4s - loss: 2.5058 - val_loss: 2.5093\n",
      "Epoch 3/100\n",
      "4s - loss: 2.4939 - val_loss: 2.4964\n",
      "Epoch 4/100\n",
      "4s - loss: 2.4814 - val_loss: 2.4833\n",
      "Epoch 5/100\n",
      "4s - loss: 2.4684 - val_loss: 2.4696\n",
      "Epoch 6/100\n",
      "4s - loss: 2.4555 - val_loss: 2.4554\n",
      "Epoch 7/100\n",
      "4s - loss: 2.4413 - val_loss: 2.4408\n",
      "Epoch 8/100\n",
      "4s - loss: 2.4273 - val_loss: 2.4258\n",
      "Epoch 9/100\n",
      "4s - loss: 2.4136 - val_loss: 2.4103\n",
      "Epoch 10/100\n",
      "4s - loss: 2.3980 - val_loss: 2.3950\n",
      "Epoch 11/100\n",
      "4s - loss: 2.3844 - val_loss: 2.3787\n",
      "Epoch 12/100\n",
      "4s - loss: 2.3685 - val_loss: 2.3620\n",
      "Epoch 13/100\n",
      "4s - loss: 2.3533 - val_loss: 2.3451\n",
      "Epoch 14/100\n",
      "4s - loss: 2.3363 - val_loss: 2.3268\n",
      "Epoch 15/100\n",
      "4s - loss: 2.3214 - val_loss: 2.3095\n",
      "Epoch 16/100\n",
      "4s - loss: 2.3068 - val_loss: 2.2948\n",
      "Epoch 17/100\n",
      "4s - loss: 2.2920 - val_loss: 2.2813\n",
      "Epoch 18/100\n",
      "4s - loss: 2.2798 - val_loss: 2.2650\n",
      "Epoch 19/100\n",
      "4s - loss: 2.2660 - val_loss: 2.2497\n",
      "Epoch 20/100\n",
      "4s - loss: 2.2517 - val_loss: 2.2294\n",
      "Epoch 21/100\n",
      "4s - loss: 2.2359 - val_loss: 2.2129\n",
      "Epoch 22/100\n",
      "4s - loss: 2.2241 - val_loss: 2.1969\n",
      "Epoch 23/100\n",
      "4s - loss: 2.2093 - val_loss: 2.1795\n",
      "Epoch 24/100\n",
      "4s - loss: 2.1913 - val_loss: 2.1633\n",
      "Epoch 25/100\n",
      "4s - loss: 2.1735 - val_loss: 2.1474\n",
      "Epoch 26/100\n",
      "4s - loss: 2.1607 - val_loss: 2.1314\n",
      "Epoch 27/100\n",
      "4s - loss: 2.1417 - val_loss: 2.1100\n",
      "Epoch 28/100\n",
      "4s - loss: 2.1286 - val_loss: 2.0993\n",
      "Epoch 29/100\n",
      "4s - loss: 2.1273 - val_loss: 2.0907\n",
      "Epoch 30/100\n",
      "4s - loss: 2.1186 - val_loss: 2.0792\n",
      "Epoch 31/100\n",
      "4s - loss: 2.1070 - val_loss: 2.0714\n",
      "Epoch 32/100\n",
      "4s - loss: 2.0997 - val_loss: 2.0686\n",
      "Epoch 33/100\n",
      "4s - loss: 2.0947 - val_loss: 2.0633\n",
      "Epoch 34/100\n",
      "4s - loss: 2.0948 - val_loss: 2.0540\n",
      "Epoch 35/100\n",
      "4s - loss: 2.0919 - val_loss: 2.0461\n",
      "Epoch 36/100\n",
      "4s - loss: 2.0909 - val_loss: 2.0383\n",
      "Epoch 37/100\n",
      "4s - loss: 2.0839 - val_loss: 2.0364\n",
      "Epoch 38/100\n",
      "4s - loss: 2.0877 - val_loss: 2.0322\n",
      "Epoch 39/100\n",
      "4s - loss: 2.0953 - val_loss: 2.0329\n",
      "Epoch 40/100\n",
      "4s - loss: 2.0886 - val_loss: 2.0321\n",
      "Epoch 41/100\n",
      "4s - loss: 2.0845 - val_loss: 2.0242\n",
      "Epoch 42/100\n",
      "4s - loss: 2.0829 - val_loss: 2.0216\n",
      "Epoch 43/100\n",
      "4s - loss: 2.0755 - val_loss: 2.0073\n",
      "Epoch 44/100\n",
      "4s - loss: 2.0732 - val_loss: 2.0102\n",
      "Epoch 45/100\n",
      "4s - loss: 2.0808 - val_loss: 2.0038\n",
      "Epoch 46/100\n",
      "4s - loss: 2.0722 - val_loss: 1.9991\n",
      "Epoch 47/100\n",
      "4s - loss: 2.0632 - val_loss: 2.0223\n",
      "Epoch 48/100\n",
      "4s - loss: 2.0590 - val_loss: 2.0151\n",
      "Epoch 49/100\n",
      "4s - loss: 2.0568 - val_loss: 2.0114\n",
      "Epoch 50/100\n",
      "4s - loss: 2.0681 - val_loss: 2.0202\n",
      "Epoch 51/100\n",
      "4s - loss: 2.0733 - val_loss: 2.0091\n",
      "Epoch 52/100\n",
      "4s - loss: 2.0572 - val_loss: 1.9945\n",
      "Epoch 53/100\n",
      "4s - loss: 2.0446 - val_loss: 1.9831\n",
      "Epoch 54/100\n",
      "4s - loss: 2.0323 - val_loss: 1.9657\n",
      "Epoch 55/100\n",
      "4s - loss: 2.0204 - val_loss: 1.9528\n",
      "Epoch 56/100\n",
      "4s - loss: 2.0088 - val_loss: 1.9429\n",
      "Epoch 57/100\n",
      "4s - loss: 1.9963 - val_loss: 1.9351\n",
      "Epoch 58/100\n",
      "4s - loss: 1.9935 - val_loss: 1.9352\n",
      "Epoch 59/100\n",
      "4s - loss: 1.9921 - val_loss: 1.9427\n",
      "Epoch 60/100\n",
      "4s - loss: 1.9845 - val_loss: 1.9322\n",
      "Epoch 61/100\n",
      "4s - loss: 1.9715 - val_loss: 1.9232\n",
      "Epoch 62/100\n",
      "4s - loss: 1.9524 - val_loss: 1.9003\n",
      "Epoch 63/100\n",
      "4s - loss: 1.9432 - val_loss: 1.8987\n",
      "Epoch 64/100\n",
      "4s - loss: 1.9340 - val_loss: 1.8994\n",
      "Epoch 65/100\n",
      "4s - loss: 1.9393 - val_loss: 1.8894\n",
      "Epoch 66/100\n",
      "4s - loss: 1.9309 - val_loss: 1.8738\n",
      "Epoch 67/100\n",
      "4s - loss: 1.9215 - val_loss: 1.8623\n",
      "Epoch 68/100\n",
      "4s - loss: 1.9112 - val_loss: 1.8675\n",
      "Epoch 69/100\n",
      "4s - loss: 1.8790 - val_loss: 1.8679\n",
      "Epoch 70/100\n",
      "4s - loss: 1.8629 - val_loss: 1.8533\n",
      "Epoch 71/100\n",
      "4s - loss: 1.8605 - val_loss: 1.8403\n",
      "Epoch 72/100\n",
      "4s - loss: 1.8507 - val_loss: 1.8507\n",
      "Epoch 73/100\n",
      "4s - loss: 1.8586 - val_loss: 1.8682\n",
      "Epoch 74/100\n",
      "4s - loss: 1.8860 - val_loss: 1.8615\n",
      "Epoch 75/100\n",
      "4s - loss: 1.8876 - val_loss: 1.8583\n",
      "Epoch 76/100\n",
      "4s - loss: 1.8742 - val_loss: 1.9008\n",
      "Epoch 77/100\n",
      "4s - loss: 1.8942 - val_loss: 1.9016\n",
      "Epoch 78/100\n",
      "4s - loss: 1.8918 - val_loss: 1.8963\n",
      "Epoch 79/100\n",
      "4s - loss: 1.8879 - val_loss: 1.8940\n",
      "Epoch 80/100\n",
      "4s - loss: 1.8868 - val_loss: 1.8901\n",
      "Epoch 81/100\n",
      "4s - loss: 1.8793 - val_loss: 1.8876\n",
      "Epoch 82/100\n",
      "4s - loss: 1.8759 - val_loss: 1.8834\n",
      "Epoch 83/100\n",
      "4s - loss: 1.8688 - val_loss: 1.8764\n",
      "Epoch 84/100\n",
      "4s - loss: 1.8596 - val_loss: 1.8673\n",
      "Epoch 85/100\n",
      "4s - loss: 1.8481 - val_loss: 1.8548\n",
      "Epoch 86/100\n",
      "4s - loss: 1.8249 - val_loss: 1.8302\n",
      "Epoch 87/100\n",
      "4s - loss: 1.8124 - val_loss: 1.8261\n",
      "Epoch 88/100\n",
      "4s - loss: 1.8162 - val_loss: 1.8349\n",
      "Epoch 89/100\n",
      "4s - loss: 1.8159 - val_loss: 1.8299\n",
      "Epoch 90/100\n",
      "4s - loss: 1.8163 - val_loss: 1.8256\n",
      "Epoch 91/100\n",
      "4s - loss: 1.8094 - val_loss: 1.8101\n",
      "Epoch 92/100\n",
      "4s - loss: 1.7939 - val_loss: 1.8323\n",
      "Epoch 93/100\n",
      "4s - loss: 1.8209 - val_loss: 1.8469\n",
      "Epoch 94/100\n",
      "4s - loss: 1.8169 - val_loss: 1.8516\n",
      "Epoch 95/100\n",
      "4s - loss: 1.8236 - val_loss: 1.8361\n",
      "Epoch 96/100\n",
      "4s - loss: 1.8146 - val_loss: 1.8293\n",
      "Epoch 97/100\n",
      "4s - loss: 1.8028 - val_loss: 1.8144\n",
      "Epoch 98/100\n",
      "4s - loss: 1.7890 - val_loss: 1.8075\n",
      "Epoch 99/100\n",
      "4s - loss: 1.7752 - val_loss: 1.7857\n",
      "Epoch 100/100\n",
      "4s - loss: 1.7709 - val_loss: 1.7857\n"
     ]
    },
    {
     "data": {
      "text/plain": [
       "<keras.callbacks.History at 0x7fac258bb978>"
      ]
     },
     "execution_count": 73,
     "metadata": {},
     "output_type": "execute_result"
    }
   ],
   "source": [
    "model.fit(X, Y, \n",
    "          nb_epoch = 100, \n",
    "          verbose = 2, \n",
    "          validation_split = 0.5,\n",
    "          batch_size = 100)"
   ]
  },
  {
   "cell_type": "code",
   "execution_count": 74,
   "metadata": {
    "collapsed": false
   },
   "outputs": [],
   "source": [
    "y_pred = model.predict(X)"
   ]
  },
  {
   "cell_type": "code",
   "execution_count": 122,
   "metadata": {
    "collapsed": false
   },
   "outputs": [
    {
     "data": {
      "text/plain": [
       "[<matplotlib.lines.Line2D at 0x7fac1db106d8>]"
      ]
     },
     "execution_count": 122,
     "metadata": {},
     "output_type": "execute_result"
    },
    {
     "data": {
      "image/png": "[encoded data removed]",
      "text/plain": [
       "<matplotlib.figure.Figure at 0x7fac1db41128>"
      ]
     },
     "metadata": {},
     "output_type": "display_data"
    }
   ],
   "source": [
    "i = np.random.randint(500, 1000)\n",
    "plt.figure(figsize = (16,4))\n",
    "plt.plot(X[i],  'b.-')\n",
    "plt.plot(Y[i],  'r-')\n",
    "plt.plot(y_pred[i], 'k-', lw = 2)"
   ]
  },
  {
   "cell_type": "code",
   "execution_count": null,
   "metadata": {
    "collapsed": true
   },
   "outputs": [],
   "source": []
  },
  {
   "cell_type": "code",
   "execution_count": null,
   "metadata": {
    "collapsed": true
   },
   "outputs": [],
   "source": []
  },
  {
   "cell_type": "code",
   "execution_count": null,
   "metadata": {
    "collapsed": true
   },
   "outputs": [],
   "source": []
  },
  {
   "cell_type": "code",
   "execution_count": null,
   "metadata": {
    "collapsed": true
   },
   "outputs": [],
   "source": []
  }
 ],
 "metadata": {
  "kernelspec": {
   "display_name": "Python 3",
   "language": "python",
   "name": "python3"
  },
  "language_info": {
   "codemirror_mode": {
    "name": "ipython",
    "version": 3
   },
   "file_extension": ".py",
   "mimetype": "text/x-python",
   "name": "python",
   "nbconvert_exporter": "python",
   "pygments_lexer": "ipython3",
   "version": "3.5.2"
  }
 },
 "nbformat": 4,
 "nbformat_minor": 0
}
