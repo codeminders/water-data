{
 "cells": [
  {
   "cell_type": "code",
   "execution_count": 1,
   "metadata": {
    "collapsed": false
   },
   "outputs": [],
   "source": [
    "import json\n",
    "\n",
    "from pymongo import MongoClient\n",
    "\n",
    "import numpy as np\n",
    "import matplotlib.pyplot as plt\n",
    "import line_profiler\n",
    "\n",
    "from helpers import *\n",
    "from imputation import *\n",
    "\n",
    "client = MongoClient(\"localhost\", 27017)\n",
    "db = client['usgs']\n",
    "%matplotlib inline"
   ]
  },
  {
   "cell_type": "code",
   "execution_count": null,
   "metadata": {
    "collapsed": true
   },
   "outputs": [],
   "source": [
    "def extreme_values(y, continuity, high = True, low = True):\n",
    "    n = y.size // 2\n",
    "    res = y.copy()\n",
    "    \n",
    "    z = np.sort(np.abs(y))\n",
    "    dz = z[1:] - z[:-1]\n",
    "    \n",
    "    if low:\n",
    "        mask_min = dz[:n][::-1] > continuity\n",
    "        if mask_min.sum() > 0:\n",
    "            i_min = n - np.argmax(dz[:n][::-1] > continuity)\n",
    "            thr_min = 0.5*(z[i_min] + z[i_min - 1])\n",
    "        else:\n",
    "            thr_min = z[0] - 1\n",
    "    else:\n",
    "        thr_min = z[0] - 1\n",
    "        \n",
    "    if high:\n",
    "        mask_max = dz[n:] > continuity\n",
    "        if mask_max.sum() > 0:\n",
    "            i_max = n + np.argmax(dz[n:] > continuity)\n",
    "            thr_max = 0.5*(z[i_max] + z[i_max + 1])\n",
    "        else:\n",
    "            thr_max = z[-1] + 1   \n",
    "    else:\n",
    "        thr_max = z[-1] + 1  \n",
    "    \n",
    "    idx = np.logical_or(res < thr_min, res > thr_max)\n",
    "    return idx\n",
    "\n",
    "\n",
    "def detect_spikes(y, min_amp = 0.5, thr = 0.25):\n",
    "    mask = np.zeros(y.size, dtype = bool)\n",
    "    for i in range(1, y.size - 1):\n",
    "        dL = ( y[i] - y[i-1] ) / dt * 3600\n",
    "        dR = ( y[i] - y[i+1] ) / dt * 3600 \n",
    "        \n",
    "        absL = abs(dL)\n",
    "        absR = abs(dR)\n",
    "        \n",
    "        d = abs(absL - absR)\n",
    "        \n",
    "        if ( dL * dR > 0 ) and ( absL > min_amp ) and ( absR > min_amp ) and ( d < thr * max(absL, absR) ) :\n",
    "            mask[i] = True\n",
    "            \n",
    "    return mask\n",
    "\n",
    "\n",
    "def fix_spikes(y, mask):\n",
    "    z = y.copy()\n",
    "    idx = np.where(mask)[0]\n",
    "    z[idx] = 0.5*(y[idx - 1] + y[idx + 1])\n",
    "    return z"
   ]
  },
  {
   "cell_type": "code",
   "execution_count": null,
   "metadata": {
    "collapsed": false
   },
   "outputs": [],
   "source": [
    "sid = json.load(open('revision_list_d.json'))['to_review']"
   ]
  },
  {
   "cell_type": "code",
   "execution_count": null,
   "metadata": {
    "collapsed": false
   },
   "outputs": [],
   "source": [
    "# mis-alignment\n",
    "2198000, 2422500, 2318700, 15743850"
   ]
  },
  {
   "cell_type": "code",
   "execution_count": null,
   "metadata": {
    "collapsed": false
   },
   "outputs": [],
   "source": [
    "good = [5124480, 2378500, 11057500, 6061500, 9447800, 2361000, 1022500, 3550000, 2329500, 11152000, 1372500, 3049000, \n",
    "        12043300, 10293000, 1193500, 9124500]"
   ]
  },
  {
   "cell_type": "code",
   "execution_count": null,
   "metadata": {
    "collapsed": true
   },
   "outputs": [],
   "source": [
    "e_raw = np.zeros(len(sid)) - 1\n",
    "e_new = np.zeros(len(sid)) - 1"
   ]
  },
  {
   "cell_type": "code",
   "execution_count": null,
   "metadata": {
    "collapsed": false
   },
   "outputs": [],
   "source": [
    "si = 0\n",
    "t_raw, z_raw, t_true, z_true = get_data(db, sid[si])\n",
    "z_raw  = feet_to_meters(z_raw)\n",
    "z_true = feet_to_meters(z_true)\n",
    "dt, y_raw, y_true = align_measurements(t_raw, z_raw, t_true, z_true)\n",
    "print(sid[si], dt)"
   ]
  },
  {
   "cell_type": "code",
   "execution_count": null,
   "metadata": {
    "collapsed": true
   },
   "outputs": [],
   "source": [
    "for si in range(len(sid)):\n",
    "    try:\n",
    "        t_raw, z_raw, t_true, z_true = get_data(db, sid[si])\n",
    "    except:\n",
    "        continue\n",
    "    \n",
    "    z_raw  = feet_to_meters(z_raw)\n",
    "    z_true = feet_to_meters(z_true)\n",
    "    dt, y_raw, y_true = align_measurements(t_raw, z_raw, t_true, z_true)\n",
    "    \n",
    "    if dt < 300:\n",
    "        continue\n",
    "\n",
    "    z = z_raw.copy()\n",
    "    mask = extreme_values(z, continuity = 0.13, high = True, low = True)\n",
    "    z[mask] = -1\n",
    "\n",
    "    z = fill_gaps(z,  max_gap = 30 * 86400 // dt, spike_size = 2, window_size = 10)\n",
    "    dt, y_new, _ = align_measurements(t_raw, z, t_true, z_true)\n",
    "\n",
    "    y_raw  = fill_gaps(y_raw,  max_gap = 30 * 86400 // dt, spike_size = 2, window_size = 10)\n",
    "    y_true = fill_gaps(y_true, max_gap = 30 * 86400 // dt, spike_size = 2, window_size = 10)\n",
    "    y_new  = fill_gaps(y_new,  max_gap = 30 * 86400 // dt, spike_size = 2, window_size = 10)\n",
    "\n",
    "    is_spike = detect_spikes(y_new, min_amp = 0.5, thr = 0.25)\n",
    "    y_new = fix_spikes(y_new, is_spike)\n",
    "\n",
    "    e_raw[si] = xae(y_raw, y_true)\n",
    "    e_new[si] = xae(y_new, y_true)\n",
    "    \n",
    "    print(sid[si], '\\t%.4f  \\t%.4f' % (e_raw[si], e_new[si]))"
   ]
  },
  {
   "cell_type": "code",
   "execution_count": null,
   "metadata": {
    "collapsed": false
   },
   "outputs": [],
   "source": [
    "diff = e_raw - e_new\n",
    "mask = np.logical_not(np.logical_or(np.isnan(e_raw), np.isnan(e_new)))\n",
    "sorted(list(zip(diff[diff < 0], np.array(sid)[diff < 0])))"
   ]
  },
  {
   "cell_type": "code",
   "execution_count": null,
   "metadata": {
    "collapsed": false
   },
   "outputs": [],
   "source": [
    "t_raw, z_raw, t_true, z_true = get_data(db, 9418500)\n",
    "\n",
    "z_raw  = feet_to_meters(z_raw)\n",
    "z_true = feet_to_meters(z_true)\n",
    "dt, y_raw, y_true = align_measurements(t_raw, z_raw, t_true, z_true)\n",
    "\n",
    "z = z_raw.copy()\n",
    "mask = extreme_values(z, continuity = 0.13, high = True, low = True)\n",
    "z[mask] = -1\n",
    "\n",
    "z = fill_gaps(z,  max_gap = 30 * 86400 // dt, spike_size = 2, window_size = 10)\n",
    "dt, y_new, _ = align_measurements(t_raw, z, t_true, z_true)\n",
    "\n",
    "y_raw  = fill_gaps(y_raw,  max_gap = 30 * 86400 // dt, spike_size = 2, window_size = 10)\n",
    "y_true = fill_gaps(y_true, max_gap = 30 * 86400 // dt, spike_size = 2, window_size = 10)\n",
    "y_new  = fill_gaps(y_new,  max_gap = 30 * 86400 // dt, spike_size = 2, window_size = 10)\n",
    "\n",
    "is_spike = detect_spikes(y_new, min_amp = 0.5, thr = 0.25)\n",
    "y_new = fix_spikes(y_new, is_spike)\n",
    "\n",
    "plt.figure(figsize = (16,4))\n",
    "plt.plot(y_raw, 'b-')\n",
    "#plt.plot(y_true, 'g-')\n",
    "plt.plot(y_new, 'r.-')\n",
    "#plt.xlim(106000, 108000)"
   ]
  },
  {
   "cell_type": "code",
   "execution_count": 2,
   "metadata": {
    "collapsed": false
   },
   "outputs": [],
   "source": [
    "cursor = db['cites'].find()\n",
    "\n",
    "X = list()\n",
    "Y = list()\n",
    "\n",
    "n = 30 * 86400 // 900\n",
    "\n",
    "for c in cursor:\n",
    "    sid = c['site_no']\n",
    "    try:\n",
    "        t_raw, z_raw, t_true, z_true = get_data(db, sid)\n",
    "    except:\n",
    "        continue\n",
    "        \n",
    "    z_raw  = feet_to_meters(z_raw)\n",
    "    z_true = feet_to_meters(z_true)\n",
    "    dt, x, y = align_measurements(t_raw, z_raw, t_true, z_true)\n",
    "    \n",
    "    if dt != 900:\n",
    "        continue\n",
    "\n",
    "    x = fill_gaps(x, max_gap = 30 * 86400 // dt, spike_size = 2, window_size = 10)\n",
    "    y = fill_gaps(y, max_gap = 30 * 86400 // dt, spike_size = 2, window_size = 10)\n",
    "    \n",
    "    k = n // 2\n",
    "    if k > 3:\n",
    "        for i in range(0, x.size - n, k):        \n",
    "            X.append(x[i:i+n])\n",
    "            Y.append(y[i:i+n])"
   ]
  },
  {
   "cell_type": "code",
   "execution_count": 11,
   "metadata": {
    "collapsed": false
   },
   "outputs": [],
   "source": [
    "X_train = np.array(X, dtype = np.float32)\n",
    "Y_train = np.array(Y, dtype = np.float32)\n",
    "\n",
    "X_train[np.logical_or(np.isnan(X_train), np.isinf(X_train))] = 0\n",
    "Y_train[np.logical_or(np.isnan(Y_train), np.isinf(Y_train))] = 0\n",
    "\n",
    "X_train = np.minimum(np.maximum(X_train, 0), 40)\n",
    "Y_train = np.minimum(np.maximum(Y_train, 0), 40)\n",
    "\n",
    "m = np.min(X_train, axis = 0)\n",
    "X_train -= m\n",
    "\n",
    "s = np.max(X_train, axis = 0) - np.min(X_train, axis = 0)\n",
    "X_train /= s\n",
    "\n",
    "Y_train -= m\n",
    "Y_train /= s\n",
    "\n",
    "X_train = X_train.reshape(X_train.shape[0], X_train.shape[1], 1)\n",
    "#Y_train = Y_train.reshape(Y_train.shape[0], Y_train.shape[1], 1)"
   ]
  },
  {
   "cell_type": "code",
   "execution_count": 28,
   "metadata": {
    "collapsed": false
   },
   "outputs": [],
   "source": [
    "import time\n",
    "import theano\n",
    "import theano.tensor as T\n",
    "\n",
    "from lasagne.layers import Conv1DLayer, MaxPool1DLayer, LSTMLayer, InputLayer, FlattenLayer\n",
    "from lasagne.layers import get_output, get_all_params\n",
    "from lasagne.objectives import squared_error\n",
    "from lasagne.nonlinearities import rectify\n",
    "from lasagne.updates import adam"
   ]
  },
  {
   "cell_type": "code",
   "execution_count": 29,
   "metadata": {
    "collapsed": false
   },
   "outputs": [
    {
     "name": "stdout",
     "output_type": "stream",
     "text": [
      "Building network ...\n"
     ]
    },
    {
     "name": "stderr",
     "output_type": "stream",
     "text": [
      "/home/dlevin/anaconda3/lib/python3.5/site-packages/lasagne/theano_extensions/conv.py:66: UserWarning: The `image_shape` keyword argument to `tensor.nnet.conv2d` is deprecated, it has been renamed to `input_shape`.\n",
      "  border_mode=border_mode)\n"
     ]
    }
   ],
   "source": [
    "print(\"Building network ...\")\n",
    "\n",
    "n = X_train.shape[1]\n",
    "\n",
    "target_var = T.fmatrix('target')\n",
    "input_var  = T.ftensor3('input')\n",
    "\n",
    "model = InputLayer(shape = (None, 1, n), input_var = input_var)\n",
    "model = Conv1DLayer(model, num_filters = 16, filter_size = 3, nonlinearity = rectify, pad = 1)\n",
    "model = Conv1DLayer(model, num_filters = 1, filter_size = 3, nonlinearity = rectify, pad = 1)\n",
    "#model = Conv1DLayer(model, num_filters = 1,  filter_size = 1, nonlinearity = rectify)\n",
    "model = FlattenLayer(model)\n",
    "\n",
    "output = get_output(model)\n",
    "loss = squared_error(output, target_var).mean()\n",
    "\n",
    "params  = get_all_params(model, trainable = True)\n",
    "train_prediction = get_output(model, deterministic = True)\n"
   ]
  },
  {
   "cell_type": "code",
   "execution_count": null,
   "metadata": {
    "collapsed": false
   },
   "outputs": [
    {
     "name": "stdout",
     "output_type": "stream",
     "text": [
      "... done.\n"
     ]
    }
   ],
   "source": [
    "updates = adam(loss, params, learning_rate = 0.001)\n",
    "train_fn = theano.function([input_var, target_var], loss, updates = updates)\n",
    "val_fn = theano.function([input_var, target_var], loss)\n",
    "print(\"... done.\")"
   ]
  },
  {
   "cell_type": "code",
   "execution_count": null,
   "metadata": {
    "collapsed": false
   },
   "outputs": [
    {
     "name": "stdout",
     "output_type": "stream",
     "text": [
      "Epoch \t| Train loss \t| Test loss \t| Time\n",
      "=========================================================\n",
      "0 \t| 0.0040236 \t| 0.0036040 \t| 16.8308 \t|\n",
      "1 \t| 0.0016836 \t| 0.0007224 \t| 16.8945 \t|\n",
      "2 \t| 0.0008543 \t| 0.0006474 \t| 17.2491 \t|\n",
      "3 \t| 0.0007946 \t| 0.0006477 \t| 16.8654 \t|\n",
      "4 \t| 0.0009644 \t| 0.0006220 \t| 17.0670 \t|\n",
      "5 \t| 0.0007845 \t| 0.0006164 \t| 16.9078 \t|\n",
      "6 \t| 0.0007975 \t| 0.0006201 \t| 16.8762 \t|\n",
      "7 \t| 0.0007492 \t| 0.0006114 \t| 16.8455 \t|\n",
      "8 \t| 0.0007471 \t| 0.0005957 \t| 16.8266 \t|\n",
      "9 \t| 0.0008185 \t| 0.0006079 \t| 16.8147 \t|\n",
      "10 \t| 0.0007332 \t| 0.0005914 \t| 16.8200 \t|\n",
      "11 \t| 0.0007015 \t| 0.0005766 \t| 16.8095 \t|\n",
      "12 \t| 0.0007047 \t| 0.0005908 \t| 16.8986 \t|\n",
      "13 \t| 0.0006679 \t| 0.0005689 \t| 16.8085 \t|"
     ]
    }
   ],
   "source": [
    "print(\"Epoch \\t| Train loss \\t| Test loss \\t| Time\")\n",
    "print(\"=========================================================\")\n",
    "\n",
    "def iterate_minibatches(X, Y, batch_size = 128):    \n",
    "    x = np.zeros((batch_size, X.shape[1], 1), dtype = np.float32)\n",
    "    y = np.zeros((batch_size, Y.shape[1]), dtype = np.float32)\n",
    "    k = 0\n",
    "    for i in range(X.shape[0]):\n",
    "        x[k] = X[i]\n",
    "        y[k] = Y[i]\n",
    "        k += 1\n",
    "        if k >= batch_size:\n",
    "            k = 0\n",
    "            idx = np.random.permutation(batch_size)\n",
    "            yield x[idx], y[idx]\n",
    "\n",
    "\n",
    "nb = 256\n",
    "k = int(X_train.shape[0] * 0.7)\n",
    "\n",
    "for epoch in range(100):    \n",
    "    t = time.time()\n",
    "    \n",
    "    loss_train = 0\n",
    "    loss_test  = 0\n",
    "    \n",
    "    i = 0\n",
    "    for x, y in iterate_minibatches(X_train[:k], Y_train[:k], nb):\n",
    "        loss_train += train_fn(np.swapaxes(x, 1, 2), y)\n",
    "        i += 1\n",
    "    loss_train /= i\n",
    "    \n",
    "    i = 0\n",
    "    for x, y in iterate_minibatches(X_train[k:], Y_train[k:], nb):\n",
    "        loss_test += val_fn(np.swapaxes(x, 1, 2), y)\n",
    "        i += 1\n",
    "    loss_test /= i\n",
    "    \n",
    "    t = time.time() - t\n",
    "    \n",
    "    print(\"%i \\t| %.7f \\t| %.7f \\t| %.4f \\t|\" % (epoch, loss_train, loss_test, t))"
   ]
  },
  {
   "cell_type": "code",
   "execution_count": null,
   "metadata": {
    "collapsed": false
   },
   "outputs": [],
   "source": [
    "network = theano.function([input_var], output)"
   ]
  },
  {
   "cell_type": "code",
   "execution_count": null,
   "metadata": {
    "collapsed": false
   },
   "outputs": [],
   "source": [
    "y_pred = network(np.swapaxes(X_train[:1000], 1, 2))"
   ]
  },
  {
   "cell_type": "code",
   "execution_count": null,
   "metadata": {
    "collapsed": false
   },
   "outputs": [],
   "source": [
    "i = np.random.randint(0, 1000)\n",
    "plt.figure(figsize = (16,4))\n",
    "plt.plot(X_train[i,:,0], 'b.-')\n",
    "plt.plot(Y_train[i], 'r-')\n",
    "plt.plot( y_pred[i], 'k-', lw = 2)"
   ]
  },
  {
   "cell_type": "code",
   "execution_count": null,
   "metadata": {
    "collapsed": false
   },
   "outputs": [],
   "source": [
    "n = 1024\n",
    "N = 10000\n",
    "\n",
    "X = np.zeros((N, n, 1))\n",
    "Y = np.zeros((N, n))\n",
    "\n",
    "for i in range(N):\n",
    "    k = np.random.randint(1, 6)\n",
    "    u = np.zeros(n)\n",
    "    idx = np.sort(np.random.randint(0, n, 2*k))\n",
    "    \n",
    "    for j in range(0, 2*k, 2):\n",
    "        u[idx[j]:idx[j+1]] = 0.5 + 3*np.random.rand()\n",
    "\n",
    "    idx = np.random.choice(np.arange(n), np.random.randint(10*k), replace = False)\n",
    "    u[idx] = 0.5 + 3*np.random.rand(idx.size)\n",
    "\n",
    "    c = 1 + 3*np.random.rand()\n",
    "    y = np.zeros(n) + c\n",
    "\n",
    "    a = np.zeros(2)\n",
    "    a[0] = 0.6*np.random.rand()\n",
    "    a[1] = 0.6 - a[0]\n",
    "    b = np.random.rand(2)\n",
    "\n",
    "    for j in range(2, n):\n",
    "        y[j] = c + np.dot(a, y[j-2:j]) + np.dot(b, u[j-2:j]) + 0.01*np.random.randn()\n",
    "\n",
    "    x = y.copy()\n",
    "\n",
    "    j = np.random.randint(0, n//2 - 1)\n",
    "    k = np.random.randint(0, n//3 - 1)\n",
    "    a = np.random.randn()\n",
    "    b = a + np.random.randn()\n",
    "    x[j:j+k] += np.linspace(a, b, k) \n",
    "\n",
    "    idx = np.random.choice(np.arange(n), 16, replace = False)\n",
    "    x[idx] += x.mean() + np.random.randn(idx.size)\n",
    "\n",
    "    X[i,:,0] = x\n",
    "    Y[i] = y"
   ]
  },
  {
   "cell_type": "code",
   "execution_count": null,
   "metadata": {
    "collapsed": true
   },
   "outputs": [],
   "source": []
  },
  {
   "cell_type": "code",
   "execution_count": null,
   "metadata": {
    "collapsed": true
   },
   "outputs": [],
   "source": []
  },
  {
   "cell_type": "code",
   "execution_count": null,
   "metadata": {
    "collapsed": true
   },
   "outputs": [],
   "source": []
  },
  {
   "cell_type": "code",
   "execution_count": null,
   "metadata": {
    "collapsed": true
   },
   "outputs": [],
   "source": []
  }
 ],
 "metadata": {
  "kernelspec": {
   "display_name": "Python 3",
   "language": "python",
   "name": "python3"
  },
  "language_info": {
   "codemirror_mode": {
    "name": "ipython",
    "version": 3
   },
   "file_extension": ".py",
   "mimetype": "text/x-python",
   "name": "python",
   "nbconvert_exporter": "python",
   "pygments_lexer": "ipython3",
   "version": "3.5.2"
  }
 },
 "nbformat": 4,
 "nbformat_minor": 0
}
