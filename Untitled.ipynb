{
 "cells": [
  {
   "cell_type": "code",
   "execution_count": 53,
   "metadata": {
    "collapsed": false
   },
   "outputs": [
    {
     "data": {
      "text/plain": [
       "(506, 506)"
      ]
     },
     "execution_count": 53,
     "metadata": {},
     "output_type": "execute_result"
    }
   ],
   "source": [
    "import json\n",
    "import time\n",
    "import os\n",
    "\n",
    "from pymongo import MongoClient\n",
    "\n",
    "import pandas as pd\n",
    "import numpy as np\n",
    "import datetime as dt\n",
    "import matplotlib.pyplot as plt\n",
    "\n",
    "client = MongoClient(\"localhost\", 27017)\n",
    "db = client['usgs']\n",
    "\n",
    "%matplotlib inline"
   ]
  },
  {
   "cell_type": "code",
   "execution_count": null,
   "metadata": {
    "collapsed": true
   },
   "outputs": [],
   "source": [
    "words = set()\n",
    "\n",
    "for nm in df['STATION_NM']:\n",
    "    s = nm.lower().translate({ord('.') : None, ord(',') : None})\n",
    "    s = s.replace(' r ',    ' river ' )\n",
    "    s = s.replace(' c ',    ' creek ' )\n",
    "    s = s.replace(' ck ',   ' creek ' )\n",
    "    s = s.replace(' cr ',   ' creek ' )\n",
    "    s = s.replace(' crk ',  ' creek ' )\n",
    "    s = s.replace(' brdg ', ' bridge ')\n",
    "    s = s.replace(' blw ',  ' below ' )\n",
    "    s = s.replace(' ab ',   ' above ' )\n",
    "    s = s.replace(' abv ',  ' above ' )\n",
    "    s = s.replace(' nr ',   ' near '  )\n",
    "    \n",
    "    p = [(s.find(' near '), 6), \n",
    "         (s.find(' at '), 4),\n",
    "         (s.find(' below '), 7),\n",
    "         (s.find(' above '), 7)]\n",
    "    i_min = -1\n",
    "    for i in range(4):\n",
    "        if i >= 0 and p[i][0] > p[i_min][0]:\n",
    "            i_min = i\n",
    "    if i < 0:\n",
    "        print(s, ':')\n",
    "        continue\n",
    "        \n",
    "    name = s[:p[i_min][0]]\n",
    "    loc = s[p[i_min][0]+p[i_min][1]:]\n",
    "    state = 'N/A'\n",
    "    if len(loc.split()[-1]) == 2:\n",
    "        state = loc[-2:]\n",
    "        loc = loc[:-3]       \n",
    "        \n",
    "    #print(s, ':', name, '-', loc, '-', state)    "
   ]
  }
 ],
 "metadata": {
  "kernelspec": {
   "display_name": "Python 3",
   "language": "python",
   "name": "python3"
  },
  "language_info": {
   "codemirror_mode": {
    "name": "ipython",
    "version": 3
   },
   "file_extension": ".py",
   "mimetype": "text/x-python",
   "name": "python",
   "nbconvert_exporter": "python",
   "pygments_lexer": "ipython3",
   "version": "3.5.1"
  }
 },
 "nbformat": 4,
 "nbformat_minor": 0
}
