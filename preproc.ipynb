{
 "cells": [
  {
   "cell_type": "code",
   "execution_count": 1,
   "metadata": {
    "collapsed": false
   },
   "outputs": [],
   "source": [
    "import json\n",
    "import time\n",
    "import os\n",
    "\n",
    "from pymongo import MongoClient\n",
    "\n",
    "import pandas as pd\n",
    "import numpy as np\n",
    "import datetime as dt\n",
    "import matplotlib.pyplot as plt\n",
    "\n",
    "client = MongoClient(\"localhost\", 27017)\n",
    "db = client['usgs']\n",
    "\n",
    "%matplotlib inline"
   ]
  },
  {
   "cell_type": "raw",
   "metadata": {},
   "source": [
    "cites = db['cites']\n",
    "cursor = cites.find()\n",
    "\n",
    "for c in cursor:\n",
    "    s = c['description'].lower().translate({ord('.') : None, ord(',') : None})\n",
    "    s = s.replace(' r ',    ' river ' )\n",
    "    s = s.replace(' rv ',   ' river ' )\n",
    "    s = s.replace(' rvr ',  ' river ' )\n",
    "    s = s.replace(' c ',    ' creek ' )\n",
    "    s = s.replace(' ck ',   ' creek ' )\n",
    "    s = s.replace(' cr ',   ' creek ' )\n",
    "    s = s.replace(' crk ',  ' creek ' )\n",
    "    s = s.replace(' lk ',   ' lake '  )\n",
    "    s = s.replace(' brdg ', ' bridge ')\n",
    "    s = s.replace(' blw ',  ' below ' )\n",
    "    s = s.replace(' bl ',   ' below ' )\n",
    "    s = s.replace(' ab ',   ' above ' )\n",
    "    s = s.replace(' abv ',  ' above ' )\n",
    "    s = s.replace(' nr ',   ' near '  )\n",
    "    \n",
    "    s = s.replace(' fla',  ' fl'  )\n",
    "    s = s.replace(' nebr', ' ne'  )\n",
    "    s = s.replace(' slc ', ' salt lake city '  )\n",
    "    \n",
    "    p = [(s.find(' near '),  6), \n",
    "         (s.find(' at '),    4),\n",
    "         (s.find(' below '), 7),\n",
    "         (s.find(' above '), 7)]\n",
    "    i_min = -1\n",
    "    for i in range(4):\n",
    "        if i >= 0 and p[i][0] > p[i_min][0]:\n",
    "            i_min = i\n",
    "    if i < 0:\n",
    "        print(s, ':')\n",
    "        continue\n",
    "        \n",
    "    name = s[:p[i_min][0]]\n",
    "    loc = s[p[i_min][0]+p[i_min][1]:]\n",
    "    state = 'N/A'\n",
    "    if len(loc.split()[-1]) == 2:\n",
    "        state = loc[-2:]\n",
    "        loc = loc[:-3]       \n",
    "        \n",
    "    print(s, ':', name, '-', loc, '-', state)    "
   ]
  },
  {
   "cell_type": "code",
   "execution_count": 2,
   "metadata": {
    "collapsed": false
   },
   "outputs": [],
   "source": [
    "def align_measurements(t_meas, y_meas, t_corr, y_corr):\n",
    "    dt_corr, n_corr = np.unique(t_corr[1:] - t_corr[:-1], return_counts=True)\n",
    "    dt_meas, n_meas = np.unique(t_meas[1:] - t_meas[:-1], return_counts=True)\n",
    "    dt = min(dt_corr[np.argmax(n_corr)], dt_meas[np.argmax(n_meas)])\n",
    "    \n",
    "    offset_corr = max(t_corr[0] - t_meas[0], 0)\n",
    "    offset_meas = max(t_meas[0] - t_corr[0], 0)\n",
    "    N = (max(t_corr[-1], t_meas[-1]) - min(t_corr[0], t_meas[0])) // dt + 1\n",
    "    \n",
    "    y_corr_new = np.zeros(N) - 1\n",
    "    y_meas_new = np.zeros(N) - 1\n",
    "    \n",
    "    idx_corr = np.cumsum((t_corr[1:] - t_corr[:-1]) // dt) + offset_corr // dt\n",
    "    idx_meas = np.cumsum((t_meas[1:] - t_meas[:-1]) // dt) + offset_meas // dt\n",
    "    \n",
    "    y_corr_new[idx_corr] = y_corr[1:]\n",
    "    y_meas_new[idx_meas] = y_meas[1:]\n",
    "    \n",
    "    y_corr_new[0] = y_corr[0]\n",
    "    y_meas_new[0] = y_meas[0]\n",
    "    \n",
    "    return y_meas_new, y_corr_new\n",
    "\n",
    "\n",
    "def mark_anomaly(y_m, y_c, anomaly_thresh):\n",
    "    return np.logical_or(y_c < 0, np.abs(y_c - y_m) > anomaly_thresh)   "
   ]
  },
  {
   "cell_type": "code",
   "execution_count": 3,
   "metadata": {
    "collapsed": false
   },
   "outputs": [],
   "source": [
    "sites = db['cites']\n",
    "measured = db['measured']\n",
    "corrected = db['corrected']\n",
    "\n",
    "cursor = sites.find()\n",
    "sid = [c['site_no'] for c in cursor]"
   ]
  },
  {
   "cell_type": "code",
   "execution_count": 12,
   "metadata": {
    "collapsed": false
   },
   "outputs": [
    {
     "name": "stdout",
     "output_type": "stream",
     "text": [
      "0 130029\n",
      "10 130023\n",
      "20 130037\n",
      "30 130030\n",
      "40 130021\n",
      "50 130027\n",
      "60 130027\n",
      "70 130020\n",
      "80 130024\n",
      "90 130032\n",
      "100 130029\n",
      "110 130028\n",
      "120 130024\n",
      "130 130004\n",
      "140 130023\n",
      "150 130017\n",
      "160 130025\n",
      "170 130030\n",
      "180 130031\n",
      "190 65012\n",
      "200 130031\n",
      "210 65014\n",
      "220 130027\n",
      "230 32507\n",
      "240 130025\n",
      "250 130025\n",
      "260 130026\n",
      "270 130032\n",
      "280 130021\n",
      "290 67189\n",
      "300 130031\n",
      "310 130022\n",
      "320 130019\n",
      "330 130025\n",
      "340 130029\n",
      "350 130032\n",
      "360 130023\n",
      "370 130030\n",
      "380 130022\n",
      "390 130037\n",
      "400 130028\n",
      "410 130025\n",
      "420 130021\n",
      "430 130018\n",
      "440 112294\n",
      "450 130032\n",
      "460 130049\n",
      "470 130028\n",
      "480 130017\n",
      "490 32507\n",
      "500 130026\n"
     ]
    }
   ],
   "source": [
    "impurity = list() \n",
    "i = 0\n",
    "for si in range(cursor.count()):\n",
    "    datam = measured.find_one({'site_no': sid[si]})\n",
    "    if datam is None:\n",
    "        continue\n",
    "    t_meas = np.array(datam['utc'], dtype=np.int32)\n",
    "    z_meas = np.array(datam['gh'],  dtype=np.float32)\n",
    "\n",
    "    datac = corrected.find_one({'site_no': sid[si]})\n",
    "    if datac is None:\n",
    "        continue\n",
    "    t_corr = np.array(datac['utc'], dtype=np.int32)\n",
    "    z_corr = np.array(datac['gh'],  dtype=np.float32)\n",
    "\n",
    "    y_m, y_c = align_measurements(t_meas, z_meas, t_corr, z_corr)\n",
    "\n",
    "    abs_thresh = 200\n",
    "    y_m[np.where(y_m <= 0)[0]] = -1\n",
    "    y_m[np.where(y_m > abs_thresh)[0]] = -1\n",
    "    \n",
    "    impurity.append((np.sum(y_m <= 0) / y_m.size, np.sum(y_c <= 0) / y_c.size, y_m.size, sid[si]))\n",
    "    if i % 10 == 0:\n",
    "        print(i, y_m.size)\n",
    "    i += 1\n",
    "\n",
    "#is_outlier = mark_anomaly(y_m, y_c, 0.05)"
   ]
  },
  {
   "cell_type": "code",
   "execution_count": 145,
   "metadata": {
    "collapsed": false
   },
   "outputs": [
    {
     "data": {
      "text/plain": [
       "(0.1381965006729475, 0.13430494135743126, 130025, 5379500)"
      ]
     },
     "execution_count": 145,
     "metadata": {},
     "output_type": "execute_result"
    }
   ],
   "source": [
    "z = [t[0] for t in impurity]\n",
    "w = [t[1] for t in impurity]\n",
    "\n",
    "sorted(impurity)[-28]"
   ]
  },
  {
   "cell_type": "code",
   "execution_count": 176,
   "metadata": {
    "collapsed": false
   },
   "outputs": [
    {
     "name": "stdout",
     "output_type": "stream",
     "text": [
      "(0.083571736188015264, 0.083302571674664691, 130032, 3183500)\n"
     ]
    },
    {
     "data": {
      "image/png": "[encoded data removed]",
      "text/plain": [
       "<matplotlib.figure.Figure at 0x7f3e4f7152b0>"
      ]
     },
     "metadata": {},
     "output_type": "display_data"
    }
   ],
   "source": [
    "si = sorted(impurity)[-41]\n",
    "\n",
    "datam = measured.find_one({'site_no': si[3]})\n",
    "t_meas = np.array(datam['utc'], dtype=np.int32)\n",
    "z_meas = np.array(datam['gh'],  dtype=np.float32)\n",
    "\n",
    "datac = corrected.find_one({'site_no': si[3]})\n",
    "t_corr = np.array(datac['utc'], dtype=np.int32)\n",
    "z_corr = np.array(datac['gh'],  dtype=np.float32)\n",
    "\n",
    "y_m, y_c = align_measurements(t_meas, z_meas, t_corr, z_corr)\n",
    "\n",
    "abs_thresh = 200\n",
    "y_m[np.where(y_m <= 0)[0]] = -1\n",
    "#y_m[np.where(y_m > abs_thresh)[0]] = -1\n",
    "\n",
    "plt.figure(figsize = (16,4))\n",
    "plt.plot(y_m, 'b-')\n",
    "plt.plot(y_c, 'r-')\n",
    "plt.ylim(-1.5, 10)\n",
    "#plt.xlim(0,1000)\n",
    "\n",
    "print(si)"
   ]
  },
  {
   "cell_type": "raw",
   "metadata": {},
   "source": [
    "site no. 14137000 - average level > 600 ft. ( 100.0% /  1.3% )\n",
    "site no. 7377500  - average level < 0 ft. ( 79.9% / 79.9% )\n",
    "site no. 3144000  - measured and computed update frequencies aren't equal (dt_c = 4*dt_m) ( 75.5% / 53.9% )\n",
    "site no. 2247510  - change in update frequency ( 58.0% / 57.9% )\n",
    "site no. 16200000 - change in update frequency ( 47.1% / 47.3% )\n",
    "site no. 4057510  - change in update frequency ( 46.9% / 47.4% )\n",
    "site no. 2359000  - change in update frequency ( 45.0% / 45.0% )\n",
    "site no. 8186500  - average level < 0 ft. ( 39.6% / 38.9% )\n",
    "site no. 16847000 - change in update frequency ( 38.0% / 38.0% )\n",
    "site no. 11456000 - average level < 0 ft. ( 37.6% / 37.6% )\n",
    "site no. 4040500  - change in update frequency ( 37.5% / 37.6% )\n",
    "site no. 7144200  - change in update frequency ( 36.7% / 36.6% )\n",
    "site no. 8169000  - huge gap in measurement data ( 32.9% /  0.0% )\n",
    "site no. 1495000  - huge gap in measurement data ( 32.6% / 22.8% )\n",
    "site no. 3118500  - huge gap in measurement data ( 31.0% / 31.1% )\n",
    "site no. 6340500  - huge gap in measurement data ( 29.9% /  3.6% )\n",
    "site no. 8013000  - change in update frequency ( 29.8% / 29.8% )\n",
    "site no. 8025500  - change in update frequency ( 27.9% / 27.8% )\n",
    "site no. 5588000  - change in update frequency ( 24.5% / 32.4% )\n",
    "site no. 6911490  - huge gap in measurement data ( 20.5% / 20.5% )\n",
    "site no. 7151500  - change in update frequency ( 19.2% / 21.6% )\n",
    "site no. 15743850 - huge gaps in measurement data ( 19.1% / 12.3% )\n",
    "site no. 7332500  - huge gaps in measurement data ( 19.0% / 25.8% )\n",
    "site no. 7172000  - change in update frequency ( 18.4% / 18.4% )\n",
    "site no. 15302000 - huge gaps in measurement data ( 18.3% / 0.0% )\n",
    "site no. 5342000  - huge gap in measurement data ( 14.4% / 14.9% )\n",
    "site no. 8376300  - no change in sensor readings ( 14.4% / 14.4% )\n",
    "site no. 5379500  - change in update frequency ( 13.8% / 13.4% )\n",
    "site no. 14178000 - huge gap in measurement data and mis-alignment( 13.2% / 8.1% )\n",
    "site no. 16620000 - huge gaps in measurement data ( 12.4% / 12.4% )\n",
    "site no. 11152000 - huge gaps in measurement data ( 12.3% / 12.7% )\n",
    "site no. 7288500  - huge gaps in measurement data ( 11.9% / 12.2% )\n",
    "site no. 6037500  - huge gaps in measurement data ( 11.9% / 1.3% )\n",
    "site no. 16103000 - huge gap in measurement data ( 11.6% / 10.9% )\n",
    "site no. 9507980  - huge gap in measurement data ( 11.1% / 11.0% )\n",
    "site no. 4086000  - huge gap in measurement data ( 10.0% / 10.4% )\n",
    "site no. 7263580  - heavily corrupted ( 10.0% / 15.9% )\n",
    "site no. 7301420  - huge gap in measurement data ( 9.8% / 12.9% )\n",
    "site no. 5379500  - change in update frequency ( 9.3% / 9.2% )\n",
    "site no. 11151300 - huge gap in measurement data ( 8.4% / 8.7% )\n",
    "site no. 3183500  - change in update frequency ( 8.4% / 8.3% )"
   ]
  },
  {
   "cell_type": "code",
   "execution_count": null,
   "metadata": {
    "collapsed": false
   },
   "outputs": [],
   "source": [
    "k = 256\n",
    "step = k // 2\n",
    "m = k // 2 + 1\n",
    "n = y_m.size // step + 1\n",
    "spectrogram = np.zeros((m, n))\n",
    "\n",
    "for i in range(0, y_m.size - 2*step, step):\n",
    "    amp = np.abs(np.fft.rfft(y_m[i:i+k]))\n",
    "    spectrogram[:,i // step] = amp\n",
    "\n",
    "plt.figure(figsize=(16,4))\n",
    "plt.imshow(np.log(1 + np.flipud(spectrogram)), aspect='auto')"
   ]
  },
  {
   "cell_type": "code",
   "execution_count": null,
   "metadata": {
    "collapsed": false
   },
   "outputs": [],
   "source": [
    "plt.figure(figsize = (16,4))\n",
    "plt.plot(y_m)\n",
    "plt.xlim(0, y_m.size)"
   ]
  },
  {
   "cell_type": "code",
   "execution_count": null,
   "metadata": {
    "collapsed": false
   },
   "outputs": [],
   "source": [
    "abs_thresh = 200\n",
    "\n",
    "y_m[np.where(y_m <= 0)[0]] = -1\n",
    "y_m[np.where(y_m > abs_thresh)[0]] = -1\n",
    "\n",
    "dy = np.hstack([y_m[1:] - y_m[:-1], 0])\n",
    "ddy = np.hstack([0, dy[1:] - dy[:-1]])\n",
    "\n",
    "# max_dy = np.zeros(dy.size)\n",
    "# k = 10\n",
    "# for j in range(k, dy.size):\n",
    "#     max_dy[j] = np.max(np.abs(dy[j-k:j]))\n",
    "\n",
    "plt.figure(figsize = (16,6))\n",
    "\n",
    "plt.title('Site ID %i' % sid[si])\n",
    "plt.plot(y_m, 'b-')\n",
    "plt.plot(y_c, 'r-')\n",
    "\n",
    "z = np.convolve(y_m, [-1,2,-1], mode='same')\n",
    "\n",
    "#plt.plot(np.arange(y_c.size)[is_outlier], y_c[is_outlier], 'r.')\n",
    "#plt.plot(z, 'r-')\n",
    "# plt.plot()\n",
    "plt.legend(['Measured', 'Fixed'])\n",
    "\n",
    "plt.grid()\n",
    "plt.ylim(2.5,3.5)\n",
    "#plt.xlim(10000,20000)"
   ]
  },
  {
   "cell_type": "code",
   "execution_count": null,
   "metadata": {
    "collapsed": false
   },
   "outputs": [],
   "source": [
    "e = y_c - y_m\n",
    "plt.hist(e[np.abs(e) < 1]);"
   ]
  },
  {
   "cell_type": "code",
   "execution_count": null,
   "metadata": {
    "collapsed": true
   },
   "outputs": [],
   "source": []
  }
 ],
 "metadata": {
  "kernelspec": {
   "display_name": "Python 3",
   "language": "python",
   "name": "python3"
  },
  "language_info": {
   "codemirror_mode": {
    "name": "ipython",
    "version": 3
   },
   "file_extension": ".py",
   "mimetype": "text/x-python",
   "name": "python",
   "nbconvert_exporter": "python",
   "pygments_lexer": "ipython3",
   "version": "3.5.1"
  }
 },
 "nbformat": 4,
 "nbformat_minor": 0
}
