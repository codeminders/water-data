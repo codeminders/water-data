{
 "cells": [
  {
   "cell_type": "code",
   "execution_count": 1,
   "metadata": {
    "collapsed": false
   },
   "outputs": [],
   "source": [
    "import json\n",
    "import time\n",
    "import os\n",
    "\n",
    "from pymongo import MongoClient\n",
    "\n",
    "import pandas as pd\n",
    "import numpy as np\n",
    "import datetime as dt\n",
    "import matplotlib.pyplot as plt\n",
    "import line_profiler\n",
    "\n",
    "from imputation import *\n",
    "from solve_cubic import *\n",
    "\n",
    "%load_ext line_profiler\n",
    "%load_ext Cython\n",
    "%matplotlib inline\n",
    "\n",
    "client = MongoClient(\"localhost\", 27017)\n",
    "db = client['usgs']"
   ]
  },
  {
   "cell_type": "raw",
   "metadata": {},
   "source": [
    "cites = db['cites']\n",
    "cursor = cites.find()\n",
    "\n",
    "for c in cursor:\n",
    "    s = c['description'].lower().translate({ord('.') : None, ord(',') : None})\n",
    "    s = s.replace(' r ',    ' river ' )\n",
    "    s = s.replace(' rv ',   ' river ' )\n",
    "    s = s.replace(' rvr ',  ' river ' )\n",
    "    s = s.replace(' c ',    ' creek ' )\n",
    "    s = s.replace(' ck ',   ' creek ' )\n",
    "    s = s.replace(' cr ',   ' creek ' )\n",
    "    s = s.replace(' crk ',  ' creek ' )\n",
    "    s = s.replace(' lk ',   ' lake '  )\n",
    "    s = s.replace(' brdg ', ' bridge ')\n",
    "    s = s.replace(' blw ',  ' below ' )\n",
    "    s = s.replace(' bl ',   ' below ' )\n",
    "    s = s.replace(' ab ',   ' above ' )\n",
    "    s = s.replace(' abv ',  ' above ' )\n",
    "    s = s.replace(' nr ',   ' near '  )\n",
    "    \n",
    "    s = s.replace(' fla',  ' fl'  )\n",
    "    s = s.replace(' nebr', ' ne'  )\n",
    "    s = s.replace(' slc ', ' salt lake city '  )\n",
    "    \n",
    "    p = [(s.find(' near '),  6), \n",
    "         (s.find(' at '),    4),\n",
    "         (s.find(' below '), 7),\n",
    "         (s.find(' above '), 7)]\n",
    "    i_min = -1\n",
    "    for i in range(4):\n",
    "        if i >= 0 and p[i][0] > p[i_min][0]:\n",
    "            i_min = i\n",
    "    if i < 0:\n",
    "        print(s, ':')\n",
    "        continue\n",
    "        \n",
    "    name = s[:p[i_min][0]]\n",
    "    loc = s[p[i_min][0]+p[i_min][1]:]\n",
    "    state = 'N/A'\n",
    "    if len(loc.split()[-1]) == 2:\n",
    "        state = loc[-2:]\n",
    "        loc = loc[:-3]       \n",
    "        \n",
    "    print(s, ':', name, '-', loc, '-', state)    "
   ]
  },
  {
   "cell_type": "code",
   "execution_count": 2,
   "metadata": {
    "collapsed": true
   },
   "outputs": [],
   "source": [
    "to_shift = {\n",
    "    14137000 : -687,\n",
    "    7377500  : +2,\n",
    "    8186500  : +2,\n",
    "    11456000 : +2\n",
    "}\n",
    "\n",
    "\n",
    "def align_measurements(t_meas, y_meas, t_corr, y_corr):\n",
    "    dt_corr, n_corr = np.unique(t_corr[1:] - t_corr[:-1], return_counts=True)\n",
    "    dt_meas, n_meas = np.unique(t_meas[1:] - t_meas[:-1], return_counts=True)\n",
    "    dt = min(dt_corr[np.argmax(n_corr)], dt_meas[np.argmax(n_meas)])\n",
    "    \n",
    "    offset_corr = max(t_corr[0] - t_meas[0], 0)\n",
    "    offset_meas = max(t_meas[0] - t_corr[0], 0)\n",
    "    N = (max(t_corr[-1], t_meas[-1]) - min(t_corr[0], t_meas[0])) // dt + 1\n",
    "    \n",
    "    y_corr_new = np.zeros(N) - 1\n",
    "    y_meas_new = np.zeros(N) - 1\n",
    "    \n",
    "    idx_corr = np.cumsum((t_corr[1:] - t_corr[:-1]) // dt) + offset_corr // dt\n",
    "    idx_meas = np.cumsum((t_meas[1:] - t_meas[:-1]) // dt) + offset_meas // dt\n",
    "    \n",
    "    y_corr_new[idx_corr] = y_corr[1:]\n",
    "    y_meas_new[idx_meas] = y_meas[1:]\n",
    "    \n",
    "    y_corr_new[0] = y_corr[0]\n",
    "    y_meas_new[0] = y_meas[0]\n",
    "    \n",
    "    return y_meas_new, y_corr_new\n",
    "\n",
    "\n",
    "def get_data(db, site_id):\n",
    "    data_m = db['measured'].find_one({'site_no': site_id})\n",
    "    data_c = db['corrected'].find_one({'site_no': site_id})\n",
    "    \n",
    "    if data_m is None or data_c is None:\n",
    "        raise Exception(\"Site not found\")\n",
    "        \n",
    "    Tm = np.array(data_m['utc'], dtype=np.int32)\n",
    "    Zm = np.array(data_m['gh'],  dtype=np.float32)\n",
    "    \n",
    "    Tc = np.array(data_c['utc'], dtype=np.int32)\n",
    "    Zc = np.array(data_c['gh'],  dtype=np.float32)\n",
    "    \n",
    "    if site_id in to_shift:\n",
    "        Zm += to_shift[site_id]\n",
    "        Zc += to_shift[site_id]\n",
    "    \n",
    "    return Tm, Zm, Tc, Zc\n",
    "\n",
    "\n",
    "def mark_anomaly(y_m, y_c, anomaly_thresh):\n",
    "    return np.logical_or(y_c < 0, np.abs(y_c - y_m) > anomaly_thresh)  "
   ]
  },
  {
   "cell_type": "code",
   "execution_count": 3,
   "metadata": {
    "collapsed": false
   },
   "outputs": [],
   "source": [
    "sites = db['cites']\n",
    "measured = db['measured']\n",
    "corrected = db['corrected']\n",
    "\n",
    "cursor = sites.find()\n",
    "sid = [c['site_no'] for c in cursor]"
   ]
  },
  {
   "cell_type": "raw",
   "metadata": {
    "collapsed": false
   },
   "source": [
    "# contamination estimation\n",
    "\n",
    "impurity = list() \n",
    "i = 0\n",
    "for si in range(cursor.count()):\n",
    "    datam = measured.find_one({'site_no': sid[si]})\n",
    "    if datam is None:\n",
    "        continue\n",
    "    t_meas = np.array(datam['utc'], dtype=np.int32)\n",
    "    z_meas = np.array(datam['gh'],  dtype=np.float32)\n",
    "\n",
    "    datac = corrected.find_one({'site_no': sid[si]})\n",
    "    if datac is None:\n",
    "        continue\n",
    "    t_corr = np.array(datac['utc'], dtype=np.int32)\n",
    "    z_corr = np.array(datac['gh'],  dtype=np.float32)\n",
    "\n",
    "    y_m, y_c = align_measurements(t_meas, z_meas, t_corr, z_corr)\n",
    "\n",
    "    abs_thresh = 200\n",
    "    y_m[np.where(y_m <= 0)[0]] = -1\n",
    "    y_m[np.where(y_m > abs_thresh)[0]] = -1\n",
    "    \n",
    "    impurity.append((np.sum(y_m <= 0) / y_m.size, np.sum(y_c <= 0) / y_c.size, y_m.size, sid[si]))\n",
    "    if i % 10 == 0:\n",
    "        print(i, y_m.size)\n",
    "    i += 1"
   ]
  },
  {
   "cell_type": "code",
   "execution_count": null,
   "metadata": {
    "collapsed": true
   },
   "outputs": [],
   "source": [
    "good_list = [14211550, 5124480, 1658500, 2378500, 8078000, 16103000, 7151500, 6479010, 4185000, 2198000, 8109700, 2422500,\n",
    "             3574500, 2318700, 2361000, 3543500, 2233500, 12321500]"
   ]
  },
  {
   "cell_type": "code",
   "execution_count": null,
   "metadata": {
    "collapsed": false
   },
   "outputs": [],
   "source": [
    "n_b = 1000\n",
    "H = np.zeros(n_b)\n",
    "\n",
    "for i in range(len(sid)):\n",
    "    try:\n",
    "        _, _, Tc, Zc = get_data(db, sid[i])\n",
    "    except:\n",
    "        pass\n",
    "    \n",
    "    dZc = (Zc[1:] - Zc[:-1]) / (Tc[1:] - Tc[:-1])\n",
    "    h, b = np.histogram(dZc, bins = n_b, range = (-0.01, 0.01))\n",
    "    H += h\n",
    "    if i % 10 == 0:\n",
    "        print(i, sid[i])"
   ]
  },
  {
   "cell_type": "code",
   "execution_count": null,
   "metadata": {
    "collapsed": false
   },
   "outputs": [],
   "source": [
    "plt.plot(b[:-1], H / H.sum())\n",
    "plt.xlim(-0.0005, 0.001)"
   ]
  },
  {
   "cell_type": "code",
   "execution_count": null,
   "metadata": {
    "collapsed": false
   },
   "outputs": [],
   "source": [
    "b = np.linspace(-0.01,0.01,1001)\n",
    "n = np.where(b > -0.0005)[0][0]\n",
    "k = np.where(b <  0.0005)[0][-1]\n",
    "\n",
    "H[:n].sum() / H.sum() + H[k:].sum() / H.sum()"
   ]
  },
  {
   "cell_type": "code",
   "execution_count": 4,
   "metadata": {
    "collapsed": false
   },
   "outputs": [],
   "source": [
    "def confusion_matrix(y_true, y_pred):\n",
    "    TN = np.logical_and(np.logical_not(y_true), np.logical_not(y_pred))\n",
    "    TP = np.logical_and(y_true, y_pred)\n",
    "    FN = np.logical_and(y_true, np.logical_not(y_pred))\n",
    "    FP = np.logical_and(np.logical_not(y_true), y_pred)\n",
    "    cm = np.array([[TN, FP],[FN, TP]])\n",
    "    return cm"
   ]
  },
  {
   "cell_type": "code",
   "execution_count": 5,
   "metadata": {
    "collapsed": true
   },
   "outputs": [],
   "source": [
    "def func():\n",
    "    si = sid[23]\n",
    "\n",
    "    Tm, Zm, Tc, Zc = get_data(db, si)\n",
    "    dt = min((Tc[1:] - Tc[:-1]).min(), (Tm[1:] - Tm[:-1]).min())\n",
    "\n",
    "    abs_thresh = np.median(Zm) + 15*np.subtract(*np.percentile(Zm, [90, 10]))\n",
    "    dy_thr_max = +0.0010\n",
    "    dy_thr_min = -0.0005\n",
    "    Zm[Zm <= 0] = -1\n",
    "\n",
    "    Ym, Yc = align_measurements(Tm, Zm, Tc, Zc)\n",
    "    Qm = fill_gaps(Ym, max_gap = 2000, spike_size = 2, window_size = 1 * 86400 // dt)\n",
    "    Qc = fill_gaps(Yc, max_gap = 2000, spike_size = 2, window_size = 1 * 86400 // dt)\n",
    "    dQm = np.hstack([0, (Qm[1:] - Qm[:-1]) / dt])\n",
    "    y_true = mark_anomaly(Qm, Qc, 0.05)\n",
    "    y_pred = np.logical_or(dQm > dy_thr_max, dQm < dy_thr_min)\n",
    "    \n",
    "    cm = confusion_matrix(y_true, y_pred)"
   ]
  },
  {
   "cell_type": "code",
   "execution_count": null,
   "metadata": {
    "collapsed": false
   },
   "outputs": [],
   "source": [
    "%lprun -f fill_gaps func()"
   ]
  },
  {
   "cell_type": "code",
   "execution_count": 31,
   "metadata": {
    "collapsed": false,
    "scrolled": true
   },
   "outputs": [],
   "source": [
    "%%cython\n",
    "import cython\n",
    "import numpy as np\n",
    "cimport numpy as np\n",
    "\n",
    "cdef extern from \"complex.h\":\n",
    "    double complex I\n",
    "    double complex csqrt(double complex z) nogil   \n",
    "    double sqrt(double z) nogil   \n",
    "    \n",
    "cdef struct roots:\n",
    "    double complex r0\n",
    "    double complex r1\n",
    "    double complex r2\n",
    "    \n",
    "ctypedef np.float64_t DTYPE_t\n",
    "\n",
    "@cython.cdivision(True)\n",
    "cdef roots solve_cubic(float a, float b, float c, float d):\n",
    "    cdef roots res\n",
    "    if a == 0 and b == 0:\n",
    "        res.r0 = <double complex>(-d/c)\n",
    "        res.r1 = <double complex>(-d/c)\n",
    "        res.r1 = <double complex>(-d/c)\n",
    "        return res\n",
    "    \n",
    "    cdef:\n",
    "        double D0 = b*b - 3*a*c\n",
    "        double D1 = 2*b*b*b - 9*a*b*c + 27*a*a*d\n",
    "        double D2 = D1*D1 - 4*D0*D0*D0\n",
    "        double complex D3 = csqrt(D2)   \n",
    "        double complex D4 = D1 + D3 \n",
    "        double complex D5 = D4 if D4 != 0 else D1 - D3    \n",
    "        double complex C = (0.5*D5) ** 0.3333333333333333\n",
    "        double complex k = -0.5 - 0.8660254037844386j # -1/2 - 1/2*np.sqrt(3)j\n",
    "        \n",
    "    # r_i = -(b + C*k**i + D0 / (C*k**i)) / (3*a)\n",
    "    res.r0 = -(b + C + D0 / C) / (3*a)            # i = 0\n",
    "    res.r1 = -(b + C*k + D0 / (C*k)) / (3*a)      # i = 1\n",
    "    res.r2 = -(b + C*k*k + D0 / (C*k*k)) / (3*a)  # i = 2\n",
    "    return res\n",
    "\n",
    "\n",
    "@cython.boundscheck(False)\n",
    "@cython.wraparound(False)\n",
    "def bezier_interpolator(double x_a, double y_a, double dy_a, \n",
    "                        double x_b, double y_b, double dy_b, \n",
    "                        x, \n",
    "                        double eps = 1e-10):\n",
    "    \n",
    "    cdef: \n",
    "        int n = x.size\n",
    "        double x_1, x_2, y_1, y_2\n",
    "        double c_3, c_2, c_1, c_0\n",
    "        roots R\n",
    "     \n",
    "    if n == 2:\n",
    "        By = np.array([y_a, 0.5*(y_a + y_b)])\n",
    "    \n",
    "    else:\n",
    "        # cubic bezier curve\n",
    "        x_1 = x[n // 3]  \n",
    "        x_2 = x[n - n // 3] \n",
    "        y_1 = y_a + dy_a*(x_1 - x_a)        \n",
    "        y_2 = y_b + dy_b*(x_2 - x_b)        \n",
    "        t = np.zeros(n)\n",
    "        \n",
    "        c_3 = x_b - 3*x_2 + 3*x_1 - 1*x_a\n",
    "        c_2 =       3*x_2 - 6*x_1 - 3*x_a \n",
    "        c_1 =               3*x_1 - 3*x_a \n",
    "        c_0 =                       1*x_a\n",
    "        \n",
    "        for i in range(n):\n",
    "            c_0 = x_a - x[i]\n",
    "            R = solve_cubic(c_3, c_2, c_1, c_0)\n",
    "\n",
    "            if abs(R.r0.imag) < eps and -eps <= R.r0.real <= 1+eps:\n",
    "                t[i] = R.r0.real\n",
    "                \n",
    "            elif abs(R.r1.imag) < eps and -eps <= R.r1.real <= 1+eps:\n",
    "                t[i] = R.r1.real\n",
    "                \n",
    "            elif abs(R.r2.imag) < eps and -eps <= R.r2.real <= 1+eps:\n",
    "                t[i] = R.r2.real\n",
    "                \n",
    "            else:\n",
    "                raise Exception(\"Bezier interpolation: no real solution found.\")\n",
    "            \n",
    "        By = (1-t)**3 * y_a + 3*t*(1-t)**2 * y_1 + 3*(1-t)*t**2 * y_2 + t**3 * y_b\n",
    "        \n",
    "    return By\n",
    "\n",
    "\n",
    "@cython.cdivision(True)\n",
    "cdef double get_bisector(double x, double y, \n",
    "                         double xl, double yl, \n",
    "                         double xr, double yr):\n",
    "    cdef double x1 = x - xl\n",
    "    cdef double y1 = y - yl\n",
    "    cdef double x1_n = sqrt(x1*x1 + y1*y1)\n",
    "\n",
    "    cdef double x2 = xr - x\n",
    "    cdef double y2 = yr - y\n",
    "    cdef double x2_n = sqrt(x2*x2 + y2*y2)\n",
    "    \n",
    "    cdef double y3 = (y1 / x1_n + y2 / x2_n) / (x1 / x1_n + x2 / x2_n)\n",
    "    return y3\n",
    "\n",
    "@cython.boundscheck(False)\n",
    "@cython.wraparound(False)\n",
    "@cython.cdivision(True)\n",
    "def fill_gaps(y, int max_gap=10000, int spike_size=2, int window_size=10):\n",
    "    \n",
    "    cdef: \n",
    "        \n",
    "        double dy_a, dy_b\n",
    "        int a = 0, b = 0, p = 0, q = 0, i = 0, j = 0, k = 0\n",
    "        int n = y.size\n",
    "        int gap_size = 0\n",
    "\n",
    "    z = y.copy()\n",
    "        \n",
    "    for i in range(1, n):\n",
    "        \n",
    "        if y[i] > 0:\n",
    "            a = b; b = i  # a, b are non-negative gap bounds          \n",
    "            \n",
    "            if b - a > 1 and gap_size < max_gap:                \n",
    "                # left bounding condition\n",
    "                j = 0\n",
    "                while ( y[a - j] > 0 and a - j > 0 and j < window_size ) : \n",
    "                    j += 1\n",
    "\n",
    "                if j <= spike_size:\n",
    "                    p = 0\n",
    "                    while ( y[a - j - p] < 0 and j + p < max_gap ) : p += 1\n",
    "                    dy_a = get_bisector(a, y[a], a-j-p, y[a-j-p], b, y[b])                     \n",
    "                else:\n",
    "                    p = 0\n",
    "                    dy_a = (y[a] - y[a-j+1]) / j  \n",
    "\n",
    "                #right bounding condition\n",
    "                k = 0\n",
    "                while ( y[b + k] > 0 and b + k < n-1 and k < window_size ) : \n",
    "                    k += 1     \n",
    "                \n",
    "                if k <= spike_size:    \n",
    "                    q = 0\n",
    "                    while ( y[b + k + q] < 0 and k + q < max_gap ) : q += 1\n",
    "                    dy_b = get_bisector(b, y[b], a, y[a], b + k + q, y[b + k + q])                     \n",
    "                else:\n",
    "                    q = 0\n",
    "                    dy_b = (y[b + k - 1] - y[b]) / k\n",
    "                    \n",
    "                z[a:b] = bezier_interpolator(0, y[a], dy_a, b-a, y[b], dy_b, np.arange(b-a))\n",
    "                \n",
    "            gap_size = 0\n",
    "            \n",
    "        else:\n",
    "            gap_size += 1\n",
    "                \n",
    "    return z"
   ]
  },
  {
   "cell_type": "code",
   "execution_count": 33,
   "metadata": {
    "collapsed": false
   },
   "outputs": [
    {
     "name": "stdout",
     "output_type": "stream",
     "text": [
      "100 loops, best of 3: 3.35 ms per loop\n"
     ]
    }
   ],
   "source": [
    "%%timeit\n",
    "fill_gaps_cyth(Ym)"
   ]
  },
  {
   "cell_type": "code",
   "execution_count": 13,
   "metadata": {
    "collapsed": false
   },
   "outputs": [
    {
     "name": "stdout",
     "output_type": "stream",
     "text": [
      "10 loops, best of 3: 67.6 ms per loop\n"
     ]
    }
   ],
   "source": [
    "%%timeit\n",
    "fill_gaps(Ym)"
   ]
  },
  {
   "cell_type": "code",
   "execution_count": 25,
   "metadata": {
    "collapsed": false
   },
   "outputs": [
    {
     "name": "stdout",
     "output_type": "stream",
     "text": [
      "1601500\n"
     ]
    },
    {
     "data": {
      "image/png": "[encoded data removed]",
      "text/plain": [
       "<matplotlib.figure.Figure at 0x7f7df4c0fa58>"
      ]
     },
     "metadata": {},
     "output_type": "display_data"
    }
   ],
   "source": [
    "si = sid[23]\n",
    "\n",
    "Tm, Zm, Tc, Zc = get_data(db, si)\n",
    "dt = min((Tc[1:] - Tc[:-1]).min(), (Tm[1:] - Tm[:-1]).min())\n",
    "\n",
    "abs_thresh = np.median(Zm) + 15*np.subtract(*np.percentile(Zm, [90, 10]))\n",
    "dy_thr_max = +0.0010\n",
    "dy_thr_min = -0.0005\n",
    "Zm[Zm <= 0] = -1\n",
    "\n",
    "Ym, Yc = align_measurements(Tm, Zm, Tc, Zc)\n",
    "Qm = fill_gaps(Ym, max_gap = 2000, spike_size = 2, window_size = 1 * 86400 // dt)\n",
    "Qc = fill_gaps(Yc, max_gap = 2000, spike_size = 2, window_size = 1 * 86400 // dt)\n",
    "dQm = np.hstack([0, (Qm[1:] - Qm[:-1]) / dt])\n",
    "y_true = mark_anomaly(Qm, Qc, 0.05)\n",
    "y_pred = np.logical_or(dQm > dy_thr_max, dQm < dy_thr_min)\n",
    "\n",
    "plt.figure(figsize = (16,9))\n",
    "\n",
    "x1 = 65900\n",
    "x2 = 66300\n",
    "plt.subplot(3,1,1)\n",
    "plt.plot(Qm, 'r-')\n",
    "plt.plot(Ym, 'k-')\n",
    "plt.ylim(1.7,2.1)\n",
    "plt.xlim(x1, x2)\n",
    "\n",
    "plt.subplot(3,1,2)\n",
    "plt.plot(mark_anomaly(Qm, Qc, 0.05), 'k-')\n",
    "plt.ylim(-0.1,1.1)\n",
    "plt.xlim(x1, x2)\n",
    "\n",
    "plt.subplot(3,1,3)\n",
    "plt.plot(dQm, 'k-')\n",
    "plt.xlim(x1, x2)\n",
    "plt.grid()\n",
    "\n",
    "print(si)"
   ]
  },
  {
   "cell_type": "code",
   "execution_count": null,
   "metadata": {
    "collapsed": false
   },
   "outputs": [],
   "source": [
    "confusion_matrix(y_true, y_pred)"
   ]
  },
  {
   "cell_type": "code",
   "execution_count": null,
   "metadata": {
    "collapsed": false
   },
   "outputs": [],
   "source": [
    "plt.figure(figsize = (16,3))\n",
    "\n",
    "plt.plot(y_true, 'k-')\n",
    "plt.plot(y_pred, 'r-')\n",
    "\n",
    "#plt.xlim(45900, 46000)\n",
    "plt.ylim(-0.1, 1.1)\n"
   ]
  },
  {
   "cell_type": "code",
   "execution_count": null,
   "metadata": {
    "collapsed": false
   },
   "outputs": [],
   "source": []
  },
  {
   "cell_type": "code",
   "execution_count": null,
   "metadata": {
    "collapsed": false
   },
   "outputs": [],
   "source": [
    "plt.figure(figsize = (16,3))\n",
    "plt.plot(Ym, 'b.-')\n",
    "plt.plot(Qm, 'r-')\n",
    "plt.ylim(23,34)\n",
    "#plt.xlim(109750, 109800)\n",
    "\n",
    "plt.figure(figsize = (16,3))\n",
    "plt.plot(dZ, 'r.-')\n",
    "#plt.plot(ddZ, 'b.-')\n",
    "plt.ylim(-0.0005,0.0007)\n",
    "#plt.xlim(109750, 109800)\n",
    "print(si)"
   ]
  },
  {
   "cell_type": "raw",
   "metadata": {},
   "source": [
    "site no. 14137000 - average level > 600 ft. ( 100.0% /  1.3% ) -685\n",
    "\n",
    "site no. 7377500  - average level < 0 ft. ( 79.9% / 79.9% ) +2\n",
    "site no. 8186500  - average level < 0 ft. ( 39.6% / 38.9% ) +1\n",
    "site no. 11456000 - average level < 0 ft. ( 37.6% / 37.6% ) +2\n",
    "\n",
    "site no. 3144000  - measured and computed update frequencies aren't equal ( 75.5% / 53.9% )\n",
    "\n",
    "site no. 8376300  - no change in sensor readings ( 14.4% / 14.4% )\n",
    "\n",
    "site no. 2247510  - change in update frequency ( 58.0% / 57.9% )\n",
    "site no. 16200000 - change in update frequency ( 47.1% / 47.3% )\n",
    "site no. 4057510  - change in update frequency ( 46.9% / 47.4% )\n",
    "site no. 2359000  - change in update frequency ( 45.0% / 45.0% )\n",
    "site no. 16847000 - change in update frequency ( 38.0% / 38.0% )\n",
    "site no. 4040500  - change in update frequency ( 37.5% / 37.6% )\n",
    "site no. 7144200  - change in update frequency ( 36.7% / 36.6% )\n",
    "site no. 8013000  - change in update frequency ( 29.8% / 29.8% )\n",
    "site no. 8025500  - change in update frequency ( 27.9% / 27.8% )\n",
    "site no. 5588000  - change in update frequency ( 24.5% / 32.4% )\n",
    "site no. 7151500  - change in update frequency ( 19.2% / 21.6% )\n",
    "site no. 7172000  - change in update frequency ( 18.4% / 18.4% )\n",
    "site no. 5379500  - change in update frequency ( 13.8% / 13.4% )\n",
    "site no. 5379500  - change in update frequency (  9.3% /  9.2% )\n",
    "site no. 3183500  - change in update frequency (  8.4% /  8.3% )\n",
    "site no. 3151400  - change in update frequency (  6.4% /  6.2% )\n",
    "site no. 3114500  - change in update frequency (  5.9% /  5.8% )\n",
    "site no. 3069500  - change in update frequency (  5.0% /  4.9% )\n",
    "\n",
    "site no. 15743850 - gaps in data ( 19.1% / 12.3% )\n",
    "site no. 7332500  - gaps in data ( 19.0% / 25.8% )\n",
    "site no. 15302000 - gaps in data ( 18.3% /  0.0% )\n",
    "site no. 16620000 - gaps in data ( 12.4% / 12.4% )\n",
    "site no. 11152000 - gaps in data ( 12.3% / 12.7% )\n",
    "site no. 7288500  - gaps in data ( 11.9% / 12.2% )\n",
    "site no. 6037500  - gaps in data ( 11.9% /  1.3% )\n",
    "site no. 12411000 - gaps in data (  7.5% /  7.6% )\n",
    "site no. 9473000  - gaps in data (  5.1% /  5.1% )\n",
    "site no. 8427000  - gaps in data (  4.0% /  0.9% )\n",
    "site no. 2455000  - gaps in data (  3.9% /  4.9% )\n",
    "site no. 6154400  - gaps in data (  3.5% /  4.4% )\n",
    "\n",
    "site no. 8169000  - gap in data ( 32.9% /  0.0% )\n",
    "site no. 1495000  - gap in data ( 32.6% / 22.8% )\n",
    "site no. 3118500  - gap in data ( 31.0% / 31.1% )\n",
    "site no. 6340500  - gap in data ( 29.9% /  3.6% )\n",
    "site no. 6911490  - gap in data ( 20.5% / 20.5% )\n",
    "site no. 5342000  - gap in data ( 14.4% / 14.9% )\n",
    "site no. 16103000 - gap in data ( 11.6% / 10.9% )\n",
    "site no. 9507980  - gap in data ( 11.1% / 11.0% )\n",
    "site no. 4086000  - gap in data ( 10.0% / 10.4% )\n",
    "site no. 7301420  - gap in data (  9.8% / 12.9% )\n",
    "site no. 11151300 - gap in data (  8.4% /  8.7% )\n",
    "site no. 16518000 - gap in data (  6.5% /  6.5% )\n",
    "site no. 4256000  - gap in data (  6.1% /  0.0% )\n",
    "site no. 8171000  - gap in data (  5.9% /  6.1% )\n",
    "\n",
    "site no. 14178000 - gap in data and mis-alignment ( 13.2% /  8.1% )\n",
    "site no. 50136400 - gap in data and mis-alignment (  7.7% /  7.9% )\n",
    "site no. 50075000 - gap in data and mis-alignment (  7.3% / 11.0% )\n",
    "site no. 50065500 - gap in data and mis-alignment (  3.8% /  5.6% )\n",
    "\n",
    "site no. 7263580  - heavily corrupted ( 10.0% / 15.9% )\n",
    "site no. 2448000  - heavily corrupted (  3.5% /  0.2% )\n",
    "site no. 7268000  - heavily corrupted (  3.3% /  4.1% )\n",
    "site no. 2249500  - heavily corrupted (  3.3% /  2.7% )\n",
    "site no. 7291000  - heavily corrupted (  3.2% /  3.1% )\n",
    "\n",
    "site no. 9512280  - heavily corrupted and cut-off ( 3.7% / 3.6% )\n",
    "\n",
    "site no. 9481740  - heavily corrupted and mis-alignment ( 3.5% / 13.1% )\n",
    "\n",
    "site no. 50028000 - change in update frequency and gaps in data ( 5.3% /  5.3% )\n",
    "site no. 7160500  - change in update frequency and gaps in data ( 4.9% / 15.2% )\n",
    "site no. 7369500  - change in update frequency and gaps in data ( 4.3% /  0.7% )\n",
    "site no. 14211550 - change in update frequency and gaps in data ( 4.3% /  0.3% )\n",
    "\n",
    "site no. 8120500  - gap in data and cutoff ( 3.5% / 0.2% )"
   ]
  }
 ],
 "metadata": {
  "kernelspec": {
   "display_name": "Python 3",
   "language": "python",
   "name": "python3"
  },
  "language_info": {
   "codemirror_mode": {
    "name": "ipython",
    "version": 3
   },
   "file_extension": ".py",
   "mimetype": "text/x-python",
   "name": "python",
   "nbconvert_exporter": "python",
   "pygments_lexer": "ipython3",
   "version": "3.5.1"
  }
 },
 "nbformat": 4,
 "nbformat_minor": 0
}
