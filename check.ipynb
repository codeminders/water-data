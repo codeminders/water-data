{
 "cells": [
  {
   "cell_type": "code",
   "execution_count": 1,
   "metadata": {
    "collapsed": false
   },
   "outputs": [
    {
     "data": {
      "text/html": [
       "\n",
       "    <div class=\"bk-root\">\n",
       "        <a href=\"http://bokeh.pydata.org\" target=\"_blank\" class=\"bk-logo bk-logo-small bk-logo-notebook\"></a>\n",
       "        <span id=\"ad4ac7a7-442d-4db0-9b91-1f2c65143eee\">Loading BokehJS ...</span>\n",
       "    </div>"
      ]
     },
     "metadata": {},
     "output_type": "display_data"
    },
    {
     "data": {
      "application/javascript": [
       "\n",
       "(function(global) {\n",
       "  function now() {\n",
       "    return new Date();\n",
       "  }\n",
       "\n",
       "  if (typeof (window._bokeh_onload_callbacks) === \"undefined\") {\n",
       "    window._bokeh_onload_callbacks = [];\n",
       "  }\n",
       "\n",
       "  function run_callbacks() {\n",
       "    window._bokeh_onload_callbacks.forEach(function(callback) { callback() });\n",
       "    delete window._bokeh_onload_callbacks\n",
       "    console.info(\"Bokeh: all callbacks have finished\");\n",
       "  }\n",
       "\n",
       "  function load_libs(js_urls, callback) {\n",
       "    window._bokeh_onload_callbacks.push(callback);\n",
       "    if (window._bokeh_is_loading > 0) {\n",
       "      console.log(\"Bokeh: BokehJS is being loaded, scheduling callback at\", now());\n",
       "      return null;\n",
       "    }\n",
       "    if (js_urls == null || js_urls.length === 0) {\n",
       "      run_callbacks();\n",
       "      return null;\n",
       "    }\n",
       "    console.log(\"Bokeh: BokehJS not loaded, scheduling load and callback at\", now());\n",
       "    window._bokeh_is_loading = js_urls.length;\n",
       "    for (var i = 0; i < js_urls.length; i++) {\n",
       "      var url = js_urls[i];\n",
       "      var s = document.createElement('script');\n",
       "      s.src = url;\n",
       "      s.async = false;\n",
       "      s.onreadystatechange = s.onload = function() {\n",
       "        window._bokeh_is_loading--;\n",
       "        if (window._bokeh_is_loading === 0) {\n",
       "          console.log(\"Bokeh: all BokehJS libraries loaded\");\n",
       "          run_callbacks()\n",
       "        }\n",
       "      };\n",
       "      s.onerror = function() {\n",
       "        console.warn(\"failed to load library \" + url);\n",
       "      };\n",
       "      console.log(\"Bokeh: injecting script tag for BokehJS library: \", url);\n",
       "      document.getElementsByTagName(\"head\")[0].appendChild(s);\n",
       "    }\n",
       "  };\n",
       "\n",
       "  var js_urls = ['https://cdn.pydata.org/bokeh/release/bokeh-0.12.0.min.js', 'https://cdn.pydata.org/bokeh/release/bokeh-widgets-0.12.0.min.js', 'https://cdn.pydata.org/bokeh/release/bokeh-compiler-0.12.0.min.js'];\n",
       "\n",
       "  var inline_js = [\n",
       "    function(Bokeh) {\n",
       "      Bokeh.set_log_level(\"info\");\n",
       "    },\n",
       "    \n",
       "    function(Bokeh) {\n",
       "      Bokeh.$(\"#ad4ac7a7-442d-4db0-9b91-1f2c65143eee\").text(\"BokehJS successfully loaded\");\n",
       "    },\n",
       "    function(Bokeh) {\n",
       "      console.log(\"Bokeh: injecting CSS: https://cdn.pydata.org/bokeh/release/bokeh-0.12.0.min.css\");\n",
       "      Bokeh.embed.inject_css(\"https://cdn.pydata.org/bokeh/release/bokeh-0.12.0.min.css\");\n",
       "      console.log(\"Bokeh: injecting CSS: https://cdn.pydata.org/bokeh/release/bokeh-widgets-0.12.0.min.css\");\n",
       "      Bokeh.embed.inject_css(\"https://cdn.pydata.org/bokeh/release/bokeh-widgets-0.12.0.min.css\");\n",
       "    }\n",
       "  ];\n",
       "\n",
       "  function run_inline_js() {\n",
       "    for (var i = 0; i < inline_js.length; i++) {\n",
       "      inline_js[i](window.Bokeh);\n",
       "    }\n",
       "  }\n",
       "\n",
       "  if (window._bokeh_is_loading === 0) {\n",
       "    console.log(\"Bokeh: BokehJS loaded, going straight to plotting\");\n",
       "    run_inline_js();\n",
       "  } else {\n",
       "    load_libs(js_urls, function() {\n",
       "      console.log(\"Bokeh: BokehJS plotting callback run at\", now());\n",
       "      run_inline_js();\n",
       "    });\n",
       "  }\n",
       "}(this));"
      ]
     },
     "metadata": {},
     "output_type": "display_data"
    }
   ],
   "source": [
    "import json\n",
    "\n",
    "from pymongo import MongoClient\n",
    "\n",
    "import numpy as np\n",
    "import matplotlib.pyplot as plt\n",
    "import line_profiler\n",
    "\n",
    "from helpers import *\n",
    "from imputation import *\n",
    "\n",
    "from bokeh.io import output_notebook, push_notebook\n",
    "from bokeh.plotting import figure, show\n",
    "from bokeh.layouts import column\n",
    "from bokeh.models import *\n",
    "\n",
    "from ipywidgets.widgets import Button, HBox\n",
    "from IPython.display import display\n",
    "\n",
    "client = MongoClient(\"localhost\", 27017)\n",
    "db = client['usgs']\n",
    "output_notebook()\n",
    "%matplotlib inline"
   ]
  },
  {
   "cell_type": "code",
   "execution_count": 2,
   "metadata": {
    "collapsed": true
   },
   "outputs": [],
   "source": [
    "def extreme_values(y, continuity, high = True, low = True):\n",
    "    n = y.size // 2\n",
    "    res = y.copy()\n",
    "    \n",
    "    z = np.sort(np.abs(y))\n",
    "    dz = z[1:] - z[:-1]\n",
    "    \n",
    "    if low:\n",
    "        mask_min = dz[:n][::-1] > continuity\n",
    "        if mask_min.sum() > 0:\n",
    "            i_min = n - np.argmax(dz[:n][::-1] > continuity)\n",
    "            thr_min = 0.5*(z[i_min] + z[i_min - 1])\n",
    "        else:\n",
    "            thr_min = z[0] - 1\n",
    "    else:\n",
    "        thr_min = z[0] - 1\n",
    "        \n",
    "    if high:\n",
    "        mask_max = dz[n:] > continuity\n",
    "        if mask_max.sum() > 0:\n",
    "            i_max = n + np.argmax(dz[n:] > continuity)\n",
    "            thr_max = 0.5*(z[i_max] + z[i_max + 1])\n",
    "        else:\n",
    "            thr_max = z[-1] + 1   \n",
    "    else:\n",
    "        thr_max = z[-1] + 1  \n",
    "    \n",
    "    idx = np.logical_or(res < thr_min, res > thr_max)\n",
    "    return idx"
   ]
  },
  {
   "cell_type": "code",
   "execution_count": null,
   "metadata": {
    "collapsed": false
   },
   "outputs": [],
   "source": [
    "sid = json.load(open('revision_list_d.json'))['to_review']"
   ]
  },
  {
   "cell_type": "code",
   "execution_count": null,
   "metadata": {
    "collapsed": false
   },
   "outputs": [],
   "source": [
    "# mis-alignment\n",
    "2198000, 2422500, 2318700, 15743850"
   ]
  },
  {
   "cell_type": "code",
   "execution_count": null,
   "metadata": {
    "collapsed": false
   },
   "outputs": [],
   "source": [
    "good = [5124480, 2378500, 11057500, 6061500, 9447800, 2361000, 1022500, 3550000, 2329500, 11152000, 1372500, 3049000, \n",
    "        12043300, 10293000, 1193500, 9124500]"
   ]
  },
  {
   "cell_type": "code",
   "execution_count": null,
   "metadata": {
    "collapsed": false
   },
   "outputs": [],
   "source": [
    "si = 0\n",
    "print(sid[si])\n",
    "\n",
    "Tm, Zm, Tc, Zc = get_data(db, sid[si])\n",
    "Zm = feet_to_meters(Zm)\n",
    "Zc = feet_to_meters(Zc)\n",
    "\n",
    "z = Zm.copy()\n",
    "\n",
    "mask = extreme_values(z, continuity = 0.1, high = True, low = True)\n",
    "z[mask] = -1\n",
    "\n",
    "z = fill_gaps(z,  max_gap = 7 * 86400 // dt, spike_size = 2, window_size = 10)\n",
    "\n",
    "dz = np.hstack([0, (z[2:] - z[:-2]) / (Tm[2:] - Tm[:-2]) * 3600 , 0])\n",
    "mask = extreme_values(dz, continuity = 0.1, high = True, low = True)\n",
    "z[mask] = -1\n",
    "\n",
    "dt, Ym, Yc = align_measurements(Tm, Zm, Tc, Zc)\n",
    "dt, y, _ = align_measurements(Tm, z, Tc, Zc)\n",
    "\n",
    "Ym = fill_gaps(Ym, max_gap = 30 * 86400 // dt, spike_size = 2, window_size = 10)\n",
    "Yc = fill_gaps(Yc, max_gap = 30 * 86400 // dt, spike_size = 2, window_size = 10)\n",
    "y  = fill_gaps(y,  max_gap = 30 * 86400 // dt, spike_size = 2, window_size = 10)\n",
    "\n",
    "print(Ym.size, Yc.size, dt)"
   ]
  },
  {
   "cell_type": "code",
   "execution_count": null,
   "metadata": {
    "collapsed": true
   },
   "outputs": [],
   "source": [
    "bw_front = np.zeros(y.size, dtype = bool)\n",
    "fw_front = np.zeros(y.size, dtype = bool)\n",
    "\n",
    "thr = 0.2\n",
    "\n",
    "for i in range(1, y.size - 1):\n",
    "    dy_l = ( y[i]   - y[i-1] ) / dt * 3600\n",
    "    dy_r = ( y[i+1] - y[i]   ) / dt * 3600\n",
    "    if dy_l > 0 and dy_l > thr:\n",
    "        bw_front[i] = True\n",
    "    elif dy_r < 0 and dy_l < -thr:\n",
    "        fw_front[i] = True"
   ]
  },
  {
   "cell_type": "code",
   "execution_count": null,
   "metadata": {
    "collapsed": false
   },
   "outputs": [],
   "source": [
    "plt.figure(figsize = (16,4))\n",
    "plt.plot(Yc, 'c-')\n",
    "#plt.plot((y[1:] - y[:-1]) * 4, 'r-')\n",
    "plt.plot(y, 'k-')\n",
    "plt.plot(bw_front, 'g-')\n",
    "plt.plot(fw_front, 'r-')\n",
    "plt.ylim(0.5,3)\n",
    "plt.xlim(91000,98000)"
   ]
  },
  {
   "cell_type": "code",
   "execution_count": null,
   "metadata": {
    "collapsed": true
   },
   "outputs": [],
   "source": []
  },
  {
   "cell_type": "code",
   "execution_count": null,
   "metadata": {
    "collapsed": false
   },
   "outputs": [],
   "source": [
    "Ym[Ym <= 0] = -1\n",
    "Yc[Yc <= 0] = -1\n",
    "\n",
    "Ym = fill_gaps(Ym, max_gap = 4, spike_size = 2, window_size = 10)\n",
    "Yc = fill_gaps(Yc, max_gap = 4, spike_size = 2, window_size = 10)\n",
    "\n",
    "y_true = mark_anomaly(Ym, Yc, 0.05)\n",
    "\n",
    "#Ym[Ym <= 0] = np.nan\n",
    "#Yc[Yc <= 0] = np.nan\n",
    "\n",
    "n = 1000\n",
    "k = 50\n",
    "i = k\n",
    "count = 0\n",
    "idx = Ym > 30\n",
    "t = np.arange(Ym.size) * dt / 3600\n",
    "\n",
    "source = ColumnDataSource(\n",
    "    data = dict(\n",
    "        x = t, \n",
    "        m = Ym, \n",
    "        c = Yc, \n",
    "        a = y_true,\n",
    "        o = Ym > 30\n",
    "    )\n",
    ")\n",
    "\n",
    "gh_tools = [BoxZoomTool(), WheelZoomTool(dimensions=['width']), WheelZoomTool(dimensions=['height']), PanTool(), \n",
    "            SaveTool()]\n",
    "\n",
    "gh_plot = figure(title = 'Site %i' % sid[si], \n",
    "                 plot_height = 300, \n",
    "                 plot_width = 950, \n",
    "                 tools = gh_tools, \n",
    "                 toolbar_location = \"above\", \n",
    "                 x_axis_label = \"Time, hours\",\n",
    "                 y_axis_label = \"Gage Height, meters\",\n",
    "                 y_range = (-1, Zc.max()))\n",
    "\n",
    "anomaly_plot = figure(title = 'Site %i. Is Anomaly' % sid[si], plot_height = 200, plot_width = 950, y_range = (-0.5,1.5), \n",
    "                      x_range = gh_plot.x_range, toolbar_location = \"above\")\n",
    "\n",
    "gh_plot.line(\"x\", \"m\",  source = source, color = '#ff0000', line_width = 2, legend=\"GH Measured\")\n",
    "gh_plot.line(\"x\", \"c\",  source = source, color = '#0000ff', line_width = 2, legend=\"GH Computed\", alpha = 0.5)\n",
    "#gh_plot.circle(t[idx], Ym[idx],  source = source, color = '#00ff00', legend=\"Outlier\")\n",
    "\n",
    "gh_plot.ygrid.minor_grid_line_color = 'navy'\n",
    "gh_plot.ygrid.minor_grid_line_alpha = 0.1\n",
    "\n",
    "gh_plot.xgrid.minor_grid_line_color = 'navy'\n",
    "gh_plot.xgrid.minor_grid_line_alpha = 0.1\n",
    "\n",
    "anomaly_plot.line  (\"x\", \"a\", source = source, color = '#000000', line_width = 2)\n",
    "anomaly_plot.line  (\"x\", \"o\", source = source, color = '#00ff00', line_width = 2)\n",
    "\n",
    "show(column(gh_plot, anomaly_plot))"
   ]
  },
  {
   "cell_type": "code",
   "execution_count": null,
   "metadata": {
    "collapsed": true
   },
   "outputs": [],
   "source": [
    "cursor = db['cites'].find()\n",
    "sid = [c['site_no'] for c in cursor]"
   ]
  },
  {
   "cell_type": "code",
   "execution_count": null,
   "metadata": {
    "collapsed": true
   },
   "outputs": [],
   "source": [
    "M = list()\n",
    "m = list()\n",
    "for si in sid:\n",
    "    try:\n",
    "        _, _, _, Zc = get_data(db, si)\n",
    "        Zc = feet_to_meters(Zc)\n",
    "        M.append(Zc.max())\n",
    "        m.append(Zc.min())\n",
    "    except:\n",
    "        pass"
   ]
  },
  {
   "cell_type": "code",
   "execution_count": null,
   "metadata": {
    "collapsed": false
   },
   "outputs": [],
   "source": [
    "X = np.zeros((6500000, 5))\n",
    "k = 0\n",
    "\n",
    "for si in sid:\n",
    "    try:\n",
    "        Tm, Zm, Tc, Zc = get_data(db, si)\n",
    "        Zm = feet_to_meters(Zm)\n",
    "        Zc = feet_to_meters(Zc)\n",
    "        dt, Ym, Yc = align_measurements(Tm, Zm, Tc, Zc)\n",
    "        if dt != 900:\n",
    "            print('Bad dt: ', si, dt)\n",
    "            continue\n",
    "\n",
    "        Ym[Ym <= 0] = -1\n",
    "        Yc[Yc <= 0] = -1\n",
    "\n",
    "        Ym = fill_gaps(Ym, max_gap = 4, spike_size = 2, window_size = 10)\n",
    "        Yc = fill_gaps(Yc, max_gap = 4, spike_size = 2, window_size = 10)\n",
    "\n",
    "        y_true = mark_anomaly(Ym, Yc, 0.05)\n",
    "        idx = np.where(y_true > 0)[0]\n",
    "        for i in idx:\n",
    "            X[k] = Ym[i-2:i+3]\n",
    "            k += 1\n",
    "            \n",
    "            if k % 100000 == 0:\n",
    "                print(k)\n",
    "    except:\n",
    "        print('Bad SID: ', si)   "
   ]
  },
  {
   "cell_type": "code",
   "execution_count": null,
   "metadata": {
    "collapsed": false
   },
   "outputs": [],
   "source": [
    "X[:773891]\n",
    "n = 773891\n",
    "\n",
    "f0 = X[:n,2]\n",
    "f1 = (X[:n,3] -   X[:n,1]) / 8\n",
    "f2 = (X[:n,2] -   X[:n,1]) / 4\n",
    "f3 = (X[:n,3] - 2*X[:n,2] + X[:n,1]) * 16\n",
    "f4 = (X[:n,1] +   X[:n,3]) / 2 - X[:n,2]\n",
    "f5 = (X[:n,0] +   X[:n,1] + X[:n,3] + X[:n,4]) / 4 - X[:n,2]"
   ]
  },
  {
   "cell_type": "code",
   "execution_count": null,
   "metadata": {
    "collapsed": true
   },
   "outputs": [],
   "source": [
    "thr0 = 27.62 # max(y_computed)\n",
    "thr1_pos = [0.50, 1.10]\n",
    "thr1_neg = [0.05, 0.90]\n",
    "thr3_pos = [1.00, 5.00]\n",
    "thr3_neg = []\n",
    "thr4_abs = [0.10, 0.30]\n",
    "thr5_abs = [0.20, 1.00]"
   ]
  },
  {
   "cell_type": "code",
   "execution_count": null,
   "metadata": {
    "collapsed": false
   },
   "outputs": [],
   "source": [
    "y = np.sort(Ym[y_true > 0])\n",
    "t = np.linspace(0.6, 1, y.size)\n",
    "\n",
    "plt.figure(figsize = (16,4))\n",
    "#plt.semilogy(t, y)\n",
    "\n",
    "y = np.sort(f0)\n",
    "t = np.linspace(0, 1, y.size)\n",
    "plt.semilogy(t, y)\n",
    "\n",
    "plt.grid(which = 'both')\n",
    "#plt.plot([0,n], [32,32], 'r--')\n",
    "plt.ylim(1e+0,1e+2)\n",
    "plt.xlim(0.9, 1.0)"
   ]
  },
  {
   "cell_type": "code",
   "execution_count": null,
   "metadata": {
    "collapsed": false
   },
   "outputs": [],
   "source": [
    "plt.figure(figsize = (16,4))\n",
    "plt.hist(np.log10(f0[f0 > 10]), bins = 100);"
   ]
  }
 ],
 "metadata": {
  "kernelspec": {
   "display_name": "Python 3",
   "language": "python",
   "name": "python3"
  },
  "language_info": {
   "codemirror_mode": {
    "name": "ipython",
    "version": 3
   },
   "file_extension": ".py",
   "mimetype": "text/x-python",
   "name": "python",
   "nbconvert_exporter": "python",
   "pygments_lexer": "ipython3",
   "version": "3.5.2"
  }
 },
 "nbformat": 4,
 "nbformat_minor": 0
}
