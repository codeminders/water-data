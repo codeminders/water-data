{
 "cells": [
  {
   "cell_type": "code",
   "execution_count": 3,
   "metadata": {
    "collapsed": false
   },
   "outputs": [],
   "source": [
    "import pandas as pd\n",
    "import numpy as np\n",
    "import matplotlib.pyplot as plt\n",
    "from collections import deque\n",
    "\n",
    "from statsmodels.tsa.stattools import acf, pacf, ccovf\n",
    "from statsmodels.tsa.ar_model import AR\n",
    "from statsmodels.tsa.arima_model import ARMA\n",
    "\n",
    "from sklearn.metrics import mean_squared_error, r2_score\n",
    "from sklearn.cross_validation import train_test_split\n",
    "%matplotlib inline"
   ]
  },
  {
   "cell_type": "code",
   "execution_count": 4,
   "metadata": {
    "collapsed": true
   },
   "outputs": [],
   "source": [
    "from statsmodels.tsa.vector_ar.var_model import VAR"
   ]
  },
  {
   "cell_type": "code",
   "execution_count": 5,
   "metadata": {
    "collapsed": true
   },
   "outputs": [],
   "source": [
    "from nfn import NFN\n",
    "from helpers import Dataset"
   ]
  },
  {
   "cell_type": "code",
   "execution_count": 50,
   "metadata": {
    "collapsed": true
   },
   "outputs": [],
   "source": [
    "PI = np.pi\n",
    "TAU = 2 * np.pi\n",
    "\n",
    "def get_phase(duration, frequency, phase, sampling_rate):\n",
    "    n = int(duration * sampling_rate)\n",
    "    w = TAU * frequency / sampling_rate\n",
    "    return w, (w * np.arange(n) + phase) % TAU"
   ]
  },
  {
   "cell_type": "code",
   "execution_count": 53,
   "metadata": {
    "collapsed": false
   },
   "outputs": [
    {
     "data": {
      "text/plain": [
       "(-40, 440)"
      ]
     },
     "execution_count": 53,
     "metadata": {},
     "output_type": "execute_result"
    },
    {
     "data": {
      "image/png": "[encoded data removed]",
      "text/plain": [
       "<matplotlib.figure.Figure at 0x7f01f4665470>"
      ]
     },
     "metadata": {},
     "output_type": "display_data"
    }
   ],
   "source": [
    "w, t = get_phase(1, 440, 0, 44100)\n",
    "c = 2.0\n",
    "\n",
    "k = 400\n",
    "y = np.sign(np.sin(t[1:k]))\n",
    "z = np.tanh(c / w * np.sin(t[1:k]))\n",
    "plt.plot(y, 'k.-')\n",
    "plt.plot(z, 'r.-')\n",
    "plt.ylim(-1.5, 1.5)\n",
    "plt.xlim(-k // 10, k + k // 10)"
   ]
  },
  {
   "cell_type": "code",
   "execution_count": null,
   "metadata": {
    "collapsed": true
   },
   "outputs": [],
   "source": [
    "data = pd.read_csv('data.csv')\n",
    "data.drop('Unnamed: 0', axis=1, inplace=True)\n",
    "weather = pd.read_csv('weather.csv')\n",
    "weather.replace({'Precipitat': {'T': 0}}, inplace=True)\n",
    "data['precipitation'] = np.repeat(weather.Precipitat.values.astype(float), 96, axis=0)[20:20+data.shape[0]]\n",
    "data['temperature'] = np.repeat(weather.Temperat.values.astype(float), 96, axis=0)[20:20+data.shape[0]]"
   ]
  },
  {
   "cell_type": "code",
   "execution_count": null,
   "metadata": {
    "collapsed": true
   },
   "outputs": [],
   "source": [
    "g = data.groupby('day_id')['gh'].mean().values\n",
    "u = data.groupby('day_id')['precipitation'].mean().values\n",
    "t = data.groupby('day_id')['temperature'].mean().values\n",
    "\n",
    "#y = data.gh.values\n",
    "#u = data.precipitation.values\n",
    "#t = data.temperature.values"
   ]
  },
  {
   "cell_type": "code",
   "execution_count": null,
   "metadata": {
    "collapsed": true
   },
   "outputs": [],
   "source": [
    "DG = Dataset(g, range(1,11))\n",
    "DU = Dataset(u, range(1,3))\n",
    "DT = Dataset(t, range(1,5))"
   ]
  },
  {
   "cell_type": "code",
   "execution_count": null,
   "metadata": {
    "collapsed": false
   },
   "outputs": [],
   "source": [
    "X, y, x_ranges = DG.get_scaled()\n",
    "U, _, u_ranges = DU.get_scaled()\n",
    "T, _, t_ranges = DT.get_scaled()\n",
    "k = np.min([X.shape[0], U.shape[0], T.shape[0]])\n",
    "\n",
    "X = np.hstack([X[-k:], U[-k:], T[-k:]])\n",
    "ranges = np.vstack([x_ranges, u_ranges, t_ranges])\n",
    "\n",
    "X_train, X_test, y_train, y_test = train_test_split(X, y, train_size=0.8)"
   ]
  },
  {
   "cell_type": "code",
   "execution_count": null,
   "metadata": {
    "collapsed": false
   },
   "outputs": [],
   "source": [
    "y = np.array(data.gh.values)\n",
    "\"\"\"for i in range(y.size - 1000):\n",
    "    p = np.random.rand()\n",
    "    if p < 0.0005:\n",
    "        b = 2*np.round(np.random.rand()) - 1\n",
    "        y[i] += b * (2 + np.random.rand())\n",
    "        k = 1\n",
    "        while np.random.rand() < 0.99:\n",
    "            y[i+k] += b *(1 + 0.3*np.random.randn())\n",
    "            k += 1\"\"\""
   ]
  },
  {
   "cell_type": "code",
   "execution_count": null,
   "metadata": {
    "collapsed": false
   },
   "outputs": [],
   "source": [
    "k = 128\n",
    "m = k // 2 + 1\n",
    "n = y.size // k\n",
    "\n",
    "spectrogram = np.zeros((n, m))\n",
    "for i in range(n):\n",
    "    spectrogram[i] = np.abs(np.fft.rfft(y[k*i:k*(i+1)])[::-1])\n",
    "    \n",
    "avg_spectrum = spectrogram.mean(axis=1)\n",
    "energy = np.square(spectrogram).sum(axis=1) / np.square(avg_spectrum).sum()\n",
    "    \n",
    "j = 128\n",
    "plt.figure(figsize=(16,4))\n",
    "plt.plot(y[:j*k])\n",
    "plt.xlim(0,j*k)\n",
    "\n",
    "plt.figure(figsize=(16,4))\n",
    "plt.imshow(np.log(1 + spectrogram.T[:,:j]), aspect='auto', interpolation='nearest')\n",
    "\n",
    "plt.figure(figsize=(16,4))\n",
    "plt.plot(energy[:j])\n",
    "plt.xlim(0,j)"
   ]
  },
  {
   "cell_type": "code",
   "execution_count": null,
   "metadata": {
    "collapsed": false
   },
   "outputs": [],
   "source": [
    "plt.semilogy(1 + spectrogram[78])\n",
    "plt.grid(which='both')"
   ]
  },
  {
   "cell_type": "code",
   "execution_count": null,
   "metadata": {
    "collapsed": false
   },
   "outputs": [],
   "source": [
    "X = np.vstack([g, u, t]).T\n",
    "\n",
    "var = VAR(X)\n",
    "var_res = var.fit(maxlags=15, ic='aic', trend='c')\n",
    "\n",
    "plt.plot(X[15:,0])\n",
    "plt.plot(var_res.fittedvalues[:,0])\n",
    "plt.xlim(0,300)"
   ]
  },
  {
   "cell_type": "code",
   "execution_count": null,
   "metadata": {
    "collapsed": false
   },
   "outputs": [],
   "source": [
    "r2_score(X[15:,0], var_res.fittedvalues[:,0])"
   ]
  },
  {
   "cell_type": "code",
   "execution_count": null,
   "metadata": {
    "collapsed": false
   },
   "outputs": [],
   "source": [
    "X.shape, ranges.shape"
   ]
  },
  {
   "cell_type": "code",
   "execution_count": null,
   "metadata": {
    "collapsed": false
   },
   "outputs": [],
   "source": [
    "nfn = NFN(16, 32, ranges, init_X=X, init_y=y)"
   ]
  },
  {
   "cell_type": "code",
   "execution_count": null,
   "metadata": {
    "collapsed": false
   },
   "outputs": [],
   "source": [
    "i, best, train_error, test_error, steps = nfn.train(X, y, X_test, y_test, \n",
    "                                                    n_epochs=10000, max_no_best=32, tol=1e-7, is_adaptive=True,\n",
    "                                                    verbose=100, return_errors=True, return_steps=True)"
   ]
  },
  {
   "cell_type": "code",
   "execution_count": null,
   "metadata": {
    "collapsed": false
   },
   "outputs": [],
   "source": [
    "r2_score(y, y_pred)"
   ]
  },
  {
   "cell_type": "code",
   "execution_count": null,
   "metadata": {
    "collapsed": false
   },
   "outputs": [],
   "source": [
    "y_out = g.copy()\n",
    "y_out[500:600]   -= 0.02*np.arange(100)\n",
    "y_out[1000:1200] += 0.01*np.arange(200)\n",
    "y_out[1500:1800] += 0.01*np.arange(300)\n",
    "DO = Dataset(y_out, range(1,11))\n",
    "X, y_out, x_ranges = DO.get_scaled()\n",
    "\n",
    "k = np.min([X.shape[0], U.shape[0], T.shape[0]])\n",
    "\n",
    "X = np.hstack([X[-k:], U[-k:], T[-k:]])\n",
    "ranges = np.vstack([x_ranges, u_ranges, t_ranges])"
   ]
  },
  {
   "cell_type": "code",
   "execution_count": null,
   "metadata": {
    "collapsed": false
   },
   "outputs": [],
   "source": [
    "plt.plot(nfn._W[:,10])\n",
    "plt.plot(nfn._W[:,11])"
   ]
  },
  {
   "cell_type": "code",
   "execution_count": null,
   "metadata": {
    "collapsed": false
   },
   "outputs": [],
   "source": [
    "plt.hist(u[u>0], bins=100);"
   ]
  },
  {
   "cell_type": "code",
   "execution_count": null,
   "metadata": {
    "collapsed": false
   },
   "outputs": [],
   "source": [
    "plt.figure(figsize=(16,4))\n",
    "plt.plot(g[1:] - g[:-1])\n",
    "plt.plot(0.05*u - 4)\n",
    "plt.xlim(0,500)"
   ]
  },
  {
   "cell_type": "code",
   "execution_count": null,
   "metadata": {
    "collapsed": false
   },
   "outputs": [],
   "source": [
    "plt.figure(figsize=(16,4))\n",
    "e = y_out - y_pred\n",
    "plt.plot(e)"
   ]
  },
  {
   "cell_type": "code",
   "execution_count": null,
   "metadata": {
    "collapsed": false
   },
   "outputs": [],
   "source": [
    "plt.imshow(nfn._W, interpolation='nearest')"
   ]
  },
  {
   "cell_type": "code",
   "execution_count": null,
   "metadata": {
    "collapsed": false
   },
   "outputs": [],
   "source": [
    "plt.plot(nfn._W[:,9])\n",
    "plt.plot(nfn._W[:,8])\n",
    "plt.plot(nfn._W[:,7])\n",
    "plt.plot(nfn._W[:,10])"
   ]
  },
  {
   "cell_type": "code",
   "execution_count": null,
   "metadata": {
    "collapsed": false
   },
   "outputs": [],
   "source": [
    "def wiener_process(n, mu=0.0, sigma=1.0):\n",
    "    y = np.zeros(n)\n",
    "    for i in range(1,n):\n",
    "        y[i] = mu + y[i-1] + sigma*np.random.randn()\n",
    "    return y\n",
    "\n",
    "\n",
    "def ARMAX_sim(ar_params=list(), \n",
    "              ma_params=list(), \n",
    "              ex_params=list(), \n",
    "              c=0, \n",
    "              u=np.zeros(1), \n",
    "              init=None, \n",
    "              n=100, \n",
    "              sigma=1.0):\n",
    "    \n",
    "    p = len(ar_params)\n",
    "    q = len(ma_params)\n",
    "    r = len(ex_params)\n",
    "    k = np.max(p, q, r)\n",
    "    \n",
    "    if init is None:\n",
    "        y = np.zeros(n)\n",
    "        y[:k] = np.random.randn(k)\n",
    "    elif len(init) == k:\n",
    "        y = np.zeros(n)\n",
    "        y[:k] = init\n",
    "    else:\n",
    "        raise Exception('Bad initials')\n",
    "        \n",
    "    e = sigma*np.random.randn(n)\n",
    "    for i in range(k, n):\n",
    "        y[i] = c + np.dot(ar_params, y[i-p:i]) + np.dot(ma_params, e[i-q:i]) + np.dot(ex_params, u[i-r:i]) + e[i]\n",
    "    return y"
   ]
  },
  {
   "cell_type": "code",
   "execution_count": 5,
   "metadata": {
    "collapsed": false
   },
   "outputs": [
    {
     "data": {
      "text/plain": [
       "[<matplotlib.lines.Line2D at 0x7f6ccca9df60>]"
      ]
     },
     "execution_count": 5,
     "metadata": {},
     "output_type": "execute_result"
    },
    {
     "data": {
      "image/png": "[encoded data removed]",
      "text/plain": [
       "<matplotlib.figure.Figure at 0x7f6cccb38080>"
      ]
     },
     "metadata": {},
     "output_type": "display_data"
    }
   ],
   "source": [
    "n = 2000\n",
    "y = np.random.randn(n) #ARMAX_sim([0.8, 0.1], n=1000, sigma=0.1)\n",
    "plt.plot(y)"
   ]
  },
  {
   "cell_type": "code",
   "execution_count": 6,
   "metadata": {
    "collapsed": false
   },
   "outputs": [],
   "source": [
    "X = np.zeros((n-1,n-1))\n",
    "for i in range(n-1):\n",
    "    X[i,:i+1] = y[:i+1][::-1]"
   ]
  },
  {
   "cell_type": "code",
   "execution_count": 7,
   "metadata": {
    "collapsed": false
   },
   "outputs": [],
   "source": [
    "p, r, R, S = np.linalg.lstsq(X, y[1:])"
   ]
  },
  {
   "cell_type": "code",
   "execution_count": 8,
   "metadata": {
    "collapsed": false
   },
   "outputs": [],
   "source": [
    "y_pred = np.dot(X, p)"
   ]
  },
  {
   "cell_type": "code",
   "execution_count": 9,
   "metadata": {
    "collapsed": false
   },
   "outputs": [
    {
     "data": {
      "text/plain": [
       "(0.017468842198428286, 1.86657151124125)"
      ]
     },
     "execution_count": 9,
     "metadata": {},
     "output_type": "execute_result"
    }
   ],
   "source": [
    "np.square(y[1:] - y_pred).mean(), np.square(y[1:] - y[:-1]).mean()"
   ]
  },
  {
   "cell_type": "code",
   "execution_count": 10,
   "metadata": {
    "collapsed": false
   },
   "outputs": [
    {
     "data": {
      "text/plain": [
       "0.98187107816885288"
      ]
     },
     "execution_count": 10,
     "metadata": {},
     "output_type": "execute_result"
    }
   ],
   "source": [
    "from sklearn.metrics import r2_score\n",
    "\n",
    "r2_score(y_pred, y[1:])"
   ]
  },
  {
   "cell_type": "code",
   "execution_count": 11,
   "metadata": {
    "collapsed": false
   },
   "outputs": [
    {
     "data": {
      "text/plain": [
       "(0, 200)"
      ]
     },
     "execution_count": 11,
     "metadata": {},
     "output_type": "execute_result"
    },
    {
     "data": {
      "image/png": "[encoded data removed]",
      "text/plain": [
       "<matplotlib.figure.Figure at 0x7f6cc7202390>"
      ]
     },
     "metadata": {},
     "output_type": "display_data"
    }
   ],
   "source": [
    "plt.figure(figsize=(16,4))\n",
    "plt.plot(y_pred)\n",
    "plt.plot(y[1:])\n",
    "plt.xlim(0,200)"
   ]
  },
  {
   "cell_type": "code",
   "execution_count": null,
   "metadata": {
    "collapsed": false
   },
   "outputs": [],
   "source": [
    "plt.plot(y_pred - y[1:])"
   ]
  },
  {
   "cell_type": "code",
   "execution_count": null,
   "metadata": {
    "collapsed": false
   },
   "outputs": [],
   "source": [
    "n = 1000\n",
    "q = 3\n",
    "p = 3\n",
    "\n",
    "# y = ARMA_simulation(np.array([0.6, -0.4, 0.3]), 1, n = n, sigma=0.5) \n",
    "# y = np.random.randn(n) + 0.005*np.arange(n) \n",
    "# y = wiener_process(n)\n",
    "y = ARMA_simulation([0.45, 0.3, -0.2], [0.1, -0.2, 0.05], init=[4, 4, 4], n = n, sigma=0.1)\n",
    "z = np.zeros(:max(p,q))\n",
    "\n",
    "a = 0.01*np.random.randn(p)\n",
    "b = 0.01*np.random.randn(q)\n",
    "c = 0\n",
    "\n",
    "e = 0\n",
    "cache_a = np.zeros(p)\n",
    "cache_b = np.zeros(q)\n",
    "cache_c = 0\n",
    "alpha = 0.98"
   ]
  },
  {
   "cell_type": "code",
   "execution_count": null,
   "metadata": {
    "collapsed": false
   },
   "outputs": [],
   "source": [
    "arma = ARMA(y, (3, 3))\n",
    "arma_res = arma.fit(maxiter=1000)\n",
    "arma_res.arparams, arma_res.maparams"
   ]
  },
  {
   "cell_type": "code",
   "execution_count": null,
   "metadata": {
    "collapsed": false
   },
   "outputs": [],
   "source": [
    "e = np.mean(e) + np.zeros(n)\n",
    "e_max = 100\n",
    "step = 0.05\n",
    "\n",
    "for i in range(max(p,q),n):\n",
    "    z[i] = np.dot(a, y[i-p:i]) + np.dot(b, e[i-q:i]) + c\n",
    "    e[i] = z[i] - y[i]\n",
    "    \n",
    "    cache_a = alpha*cache_a + (1 - alpha)*np.square(y[i-p:i]*e[i])\n",
    "    cache_b = alpha*cache_b + (1 - alpha)*np.square(e[i-q:i]*e[i])\n",
    "    cache_c = alpha*cache_c + (1 - alpha)*np.square(e[i])    \n",
    "    \n",
    "    a -= (step / (1 + np.sqrt(cache_a))) * y[i-p:i]*e[i]\n",
    "    b -= (step / (1 + np.sqrt(cache_b))) * e[i-q:i]*e[i]\n",
    "    c -= (step / (1 + np.sqrt(cache_c))) * e[i]\n",
    "\n",
    "z = np.zeros(n)\n",
    "for i in range(max(p,q),n):\n",
    "    z[i] = np.dot(a, y[i-p:i]) + np.dot(b, e[i-q:i]) \n",
    "\n",
    "print(cache_a, cache_b, cache_c)\n",
    "print(a, b, c)\n",
    "print(mean_squared_error(y, z))\n",
    "print(r2_score(y, z))\n",
    "\n",
    "plt.figure(figsize=(16,3))\n",
    "plt.plot(y)\n",
    "plt.plot(z)"
   ]
  },
  {
   "cell_type": "code",
   "execution_count": null,
   "metadata": {
    "collapsed": false
   },
   "outputs": [],
   "source": [
    "z = np.zeros(n)\n",
    "for i in range(max(p,q),n):\n",
    "    z[i] = np.dot(a, y[i-p:i])\n",
    "\n",
    "plt.figure(figsize=(16,3))\n",
    "plt.plot(y)\n",
    "plt.plot(z)\n",
    "plt.xlim(0,200)"
   ]
  },
  {
   "cell_type": "code",
   "execution_count": null,
   "metadata": {
    "collapsed": true
   },
   "outputs": [],
   "source": [
    "from sklearn.metrics import mean_squared_error, r2_score"
   ]
  },
  {
   "cell_type": "code",
   "execution_count": null,
   "metadata": {
    "collapsed": false
   },
   "outputs": [],
   "source": [
    "plt.plot(acf(y))"
   ]
  },
  {
   "cell_type": "code",
   "execution_count": null,
   "metadata": {
    "collapsed": false
   },
   "outputs": [],
   "source": [
    "a, b"
   ]
  },
  {
   "cell_type": "code",
   "execution_count": null,
   "metadata": {
    "collapsed": false
   },
   "outputs": [],
   "source": [
    "plt.figure(figsize=(16,3))\n",
    "plt.plot()"
   ]
  },
  {
   "cell_type": "code",
   "execution_count": null,
   "metadata": {
    "collapsed": false
   },
   "outputs": [],
   "source": [
    "z = ARMA_simulation(0.5*np.random.randn(2), np.random.rand(5), n=1000, sigma=0.1)"
   ]
  },
  {
   "cell_type": "code",
   "execution_count": null,
   "metadata": {
    "collapsed": false
   },
   "outputs": [],
   "source": [
    "plt.figure(figsize=(16,4))\n",
    "plt.plot(z)\n",
    "plt.xlim(0,100)"
   ]
  },
  {
   "cell_type": "code",
   "execution_count": null,
   "metadata": {
    "collapsed": false
   },
   "outputs": [],
   "source": [
    "y = 2.5*np.sin(0.0172*t + 50)\n",
    "\n",
    "Z = np.zeros((100, 100))\n",
    "i = 0\n",
    "for w in np.linspace(0.01, 0.025, 100):\n",
    "    for f in range(100):\n",
    "        z = 2.5*np.sin(w*t + f)\n",
    "        Z[i,f] = mean_squared_error(y, z)\n",
    "    i += 1"
   ]
  },
  {
   "cell_type": "code",
   "execution_count": null,
   "metadata": {
    "collapsed": false
   },
   "outputs": [],
   "source": [
    "best_score = 1e+27\n",
    "best_phi = 0\n",
    "\n",
    "omega = 2 * np.pi / 365.25\n",
    "\n",
    "for omega in range(1,730):\n",
    "    \n",
    "\n",
    "for phi in range(365):\n",
    "    X = np.vstack([np.ones(t.size), t, np.sin(omega*t + phi)]).T\n",
    "    theta = np.linalg.lstsq(X, g)[0]\n",
    "    y = theta[0] + theta[1]*t + theta[2]*np.sin(omega*t + phi)\n",
    "    r = mean_squared_error(g, y)\n",
    "    if r < best_score:\n",
    "        best_score = r\n",
    "        best_phi = phi\n",
    "\n",
    "omega = 2 * np.pi / 365.25\n",
    "phi = best_phi\n",
    "X = np.vstack([np.ones(t.size), t, np.sin(omega*t + phi)]).T\n",
    "theta = np.linalg.lstsq(X, g)[0]"
   ]
  },
  {
   "cell_type": "code",
   "execution_count": null,
   "metadata": {
    "collapsed": true
   },
   "outputs": [],
   "source": [
    "def periodicity(y):\n",
    "    cf = acf(y, unbiased=True, nlags=g.size // 2)\n",
    "    idx = list()\n",
    "    for i in range(1,cf.size):\n",
    "        if cf[i] * cf[i-1] < 0:\n",
    "            idx.append(i)\n",
    "    T = [idx[i] - idx[i-2] for i in range(2,len(idx))]\n",
    "    return np.mean(T)"
   ]
  },
  {
   "cell_type": "code",
   "execution_count": null,
   "metadata": {
    "collapsed": false
   },
   "outputs": [],
   "source": [
    "plt.figure(figsize=(16,4))\n",
    "for k in range(20):\n",
    "    r = np.zeros(401)\n",
    "    r[191:210] = 1 / 19\n",
    "    p = r.copy()\n",
    "    for i in range(k):\n",
    "        p = np.convolve(p,r, mode='same')\n",
    "    plt.plot(p)"
   ]
  },
  {
   "cell_type": "code",
   "execution_count": null,
   "metadata": {
    "collapsed": true
   },
   "outputs": [],
   "source": [
    "from scipy import signal\n",
    "import pywt"
   ]
  },
  {
   "cell_type": "code",
   "execution_count": null,
   "metadata": {
    "collapsed": false
   },
   "outputs": [],
   "source": [
    "cA, cD = pywt.dwt(t, wavelet='haar')"
   ]
  },
  {
   "cell_type": "code",
   "execution_count": null,
   "metadata": {
    "collapsed": false
   },
   "outputs": [],
   "source": [
    "plt.plot(cA)"
   ]
  },
  {
   "cell_type": "code",
   "execution_count": null,
   "metadata": {
    "collapsed": false
   },
   "outputs": [],
   "source": [
    "n = 6000\n",
    "z = np.zeros(n)\n",
    "for i in range(1,n):\n",
    "    z[i] = z[i-1] + np.random.randn()\n",
    "\n",
    "k_max = 500\n",
    "cwmat = np.zeros((k_max,z.size))\n",
    "for k in range(1,k_max+1):\n",
    "    kernel = np.ones(2*k)\n",
    "    kernel[k:] = -1\n",
    "    kernel /= np.sqrt(kernel.size)\n",
    "    cwmat[k-1] = np.convolve(z, kernel, mode='same')\n",
    "    \n",
    "plt.figure(figsize=(16,4))\n",
    "plt.imshow(cwmat, aspect='auto', interpolation='nearest')"
   ]
  },
  {
   "cell_type": "code",
   "execution_count": null,
   "metadata": {
    "collapsed": false
   },
   "outputs": [],
   "source": [
    "plt.plot(z)"
   ]
  },
  {
   "cell_type": "code",
   "execution_count": null,
   "metadata": {
    "collapsed": false
   },
   "outputs": [],
   "source": [
    "n = 6000\n",
    "z = np.zeros(n)\n",
    "for i in range(1,n):\n",
    "    z[i] = z[i-1] + np.random.randn()"
   ]
  },
  {
   "cell_type": "code",
   "execution_count": null,
   "metadata": {
    "collapsed": false
   },
   "outputs": [],
   "source": [
    "widths = np.arange(1, 256)\n",
    "cwtmatr = signal.cwt(t, signal.ricker, widths)\n",
    "plt.figure(figsize=(16,4))\n",
    "plt.imshow(cwtmatr, aspect='auto') #, vmax = abs(cwtmatr).max(), vmin = -abs(cwtmatr).max())\n"
   ]
  },
  {
   "cell_type": "code",
   "execution_count": null,
   "metadata": {
    "collapsed": false
   },
   "outputs": [],
   "source": [
    "plt.figure(figsize=(16,4))\n",
    "plt.plot(g)\n",
    "plt.xlim(0,g.size)"
   ]
  },
  {
   "cell_type": "code",
   "execution_count": null,
   "metadata": {
    "collapsed": false
   },
   "outputs": [],
   "source": [
    "plt.figure(figsize=(16,4))\n",
    "plt.plot(cwmat[6])\n",
    "plt.xlim(0,g.size)"
   ]
  },
  {
   "cell_type": "code",
   "execution_count": null,
   "metadata": {
    "collapsed": false
   },
   "outputs": [],
   "source": []
  }
 ],
 "metadata": {
  "kernelspec": {
   "display_name": "Python 3",
   "language": "python",
   "name": "python3"
  },
  "language_info": {
   "codemirror_mode": {
    "name": "ipython",
    "version": 3
   },
   "file_extension": ".py",
   "mimetype": "text/x-python",
   "name": "python",
   "nbconvert_exporter": "python",
   "pygments_lexer": "ipython3",
   "version": "3.5.1"
  }
 },
 "nbformat": 4,
 "nbformat_minor": 0
}
