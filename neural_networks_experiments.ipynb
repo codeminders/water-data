{
 "cells": [
  {
   "cell_type": "code",
   "execution_count": 1,
   "metadata": {
    "collapsed": false
   },
   "outputs": [],
   "source": [
    "import json\n",
    "import numpy as np\n",
    "import matplotlib.pyplot as plt\n",
    "import line_profiler\n",
    "\n",
    "from helpers import *\n",
    "from imputation import *\n",
    "from pymongo import MongoClient\n",
    "\n",
    "client = MongoClient(\"localhost\", 27017)\n",
    "db = client['usgs']\n",
    "\n",
    "plt.rcParams['image.cmap'] = 'viridis'\n",
    "%matplotlib inline"
   ]
  },
  {
   "cell_type": "code",
   "execution_count": 2,
   "metadata": {
    "collapsed": true
   },
   "outputs": [],
   "source": [
    "def extreme_values(y, continuity, high = True, low = True):\n",
    "    n = y.size // 2\n",
    "    res = y.copy()\n",
    "    \n",
    "    z = np.sort(np.abs(y))\n",
    "    dz = z[1:] - z[:-1]\n",
    "    \n",
    "    if low:\n",
    "        mask_min = dz[:n][::-1] > continuity\n",
    "        if mask_min.sum() > 0:\n",
    "            i_min = n - np.argmax(mask_min)\n",
    "            thr_min = 0.5*(z[i_min] + z[i_min - 1])\n",
    "        else:\n",
    "            thr_min = z[0] - 1\n",
    "    else:\n",
    "        thr_min = z[0] - 1\n",
    "        \n",
    "    if high:\n",
    "        mask_max = dz[n:] > continuity\n",
    "        if mask_max.sum() > 0:\n",
    "            i_max = n + np.argmax(mask_max)\n",
    "            thr_max = 0.5*(z[i_max] + z[i_max + 1])\n",
    "        else:\n",
    "            thr_max = z[-1] + 1   \n",
    "    else:\n",
    "        thr_max = z[-1] + 1  \n",
    "    \n",
    "    idx = (res < thr_min) | (res > thr_max)\n",
    "    return idx\n",
    "\n",
    "\n",
    "def detect_spikes(y, min_amp = 0.5, thr = 0.25):\n",
    "    mask = np.zeros(y.size, dtype = bool)\n",
    "    for i in range(1, y.size - 1):\n",
    "        dL = ( y[i] - y[i-1] ) / dt * 3600\n",
    "        dR = ( y[i] - y[i+1] ) / dt * 3600 \n",
    "        \n",
    "        absL = abs(dL)\n",
    "        absR = abs(dR)\n",
    "        \n",
    "        d = abs(absL - absR)\n",
    "        \n",
    "        if ( dL * dR > 0 ) and \\\n",
    "                ( absL > min_amp ) and \\\n",
    "                ( absR > min_amp ) and \\\n",
    "                ( d < thr * max(absL, absR) ) :\n",
    "            mask[i] = True\n",
    "            \n",
    "    return mask\n",
    "\n",
    "\n",
    "def fix_spikes(y, mask):\n",
    "    z = y.copy()\n",
    "    idx = np.where(mask)[0]\n",
    "    z[idx] = 0.5*(y[idx - 1] + y[idx + 1])\n",
    "    return z"
   ]
  },
  {
   "cell_type": "markdown",
   "metadata": {},
   "source": [
    "# Samples generation"
   ]
  },
  {
   "cell_type": "code",
   "execution_count": null,
   "metadata": {
    "collapsed": true
   },
   "outputs": [],
   "source": [
    "cursor = db['cites'].find()\n",
    "\n",
    "X = list()\n",
    "Y = list()\n",
    "\n",
    "n = 30 * 86400 // 900\n",
    "\n",
    "for c in cursor:\n",
    "    sid = c['site_no']\n",
    "    try:\n",
    "        t_raw, z_raw, t_true, z_true = get_data(db, sid)\n",
    "    except:\n",
    "        continue\n",
    "        \n",
    "    z_raw  = feet_to_meters(z_raw)\n",
    "    z_true = feet_to_meters(z_true)\n",
    "    \n",
    "    z = z_raw.copy()\n",
    "    mask = extreme_values(z, continuity = 0.13, high = True, low = True)\n",
    "    z[mask] = -1\n",
    "    \n",
    "    dt, x, y = align_measurements(t_raw, z, t_true, z_true)\n",
    "    \n",
    "    if dt != 900:\n",
    "        continue\n",
    "        \n",
    "    x[np.isnan(x) | np.isinf(x)] = -1\n",
    "    y[np.isnan(y) | np.isinf(y)] = -1\n",
    "\n",
    "    x = fill_gaps(x, max_gap = 30 * 86400 // dt, window_size = 10)\n",
    "    y = fill_gaps(y, max_gap = 30 * 86400 // dt, window_size = 10)\n",
    "    \n",
    "    is_spike = detect_spikes(x, min_amp = 0.5, thr = 0.25)\n",
    "    x = fix_spikes(x, is_spike)\n",
    "    \n",
    "    k = n // 2\n",
    "    if k > 3:\n",
    "        for i in range(0, x.size - n, k):        \n",
    "            X.append(x[i:i+n])\n",
    "            Y.append(y[i:i+n])\n",
    "            \n",
    "import pickle\n",
    "pickle.dump(np.array(X, np.float32), open('X_2880_nospikes.pkl', 'wb'))\n",
    "pickle.dump(np.array(Y, np.float32), open('Y_2880_nospikes.pkl', 'wb'))"
   ]
  },
  {
   "cell_type": "code",
   "execution_count": 4,
   "metadata": {
    "collapsed": false
   },
   "outputs": [],
   "source": [
    "import pickle\n",
    "\n",
    "def iqr(a, axis = None, p_min = 25, p_max = 75):\n",
    "    return np.subtract(*np.percentile(a, [p_max, p_min], axis = axis))\n",
    "\n",
    "def rng(a, axis = None):\n",
    "    return a.max(axis = axis) - a.min(axis = axis)\n",
    "\n",
    "X = pickle.load(open('X_2880_nospikes.pkl', 'rb'))\n",
    "Y = pickle.load(open('Y_2880_nospikes.pkl', 'rb'))\n",
    "\n",
    "X[np.isnan(X) | np.isinf(X)] = -1\n",
    "Y[np.isnan(Y) | np.isinf(Y)] = -1\n",
    "\n",
    "dX  = 0.5*(X[:,2:] - X[:,:-2])\n",
    "dX  = np.hstack([dX[:,0].reshape(-1,1), dX, dX[:,-1].reshape(-1,1)])\n",
    "\n",
    "ddX = X[:,2:] - 2*X[:,1:-1] + X[:,:-2]\n",
    "ddX = np.hstack([ddX[:,0].reshape(-1,1), ddX, ddX[:,-1].reshape(-1,1)])\n",
    "\n",
    "X = np.stack([X, dX, ddX], axis = 2) / 100 + 3\n",
    "X = np.swapaxes(X, 1, 2)\n",
    "\n",
    "#m = np.min(X, axis = 1)\n",
    "#s = rng(X, axis = 1)\n",
    "#X -= m\n",
    "#X /= s"
   ]
  },
  {
   "cell_type": "code",
   "execution_count": 40,
   "metadata": {
    "collapsed": false
   },
   "outputs": [],
   "source": [
    "import time\n",
    "import theano\n",
    "import theano.tensor as T\n",
    "\n",
    "from lasagne.layers import Conv1DLayer, MaxPool1DLayer, LSTMLayer, InputLayer, \\\n",
    "                           FlattenLayer, SliceLayer, InverseLayer, Upscale1DLayer\n",
    "from lasagne.layers import get_output, get_all_params, batch_norm\n",
    "from lasagne.objectives import squared_error\n",
    "from lasagne.nonlinearities import rectify\n",
    "from lasagne.updates import adam"
   ]
  },
  {
   "cell_type": "code",
   "execution_count": 71,
   "metadata": {
    "collapsed": false
   },
   "outputs": [
    {
     "name": "stdout",
     "output_type": "stream",
     "text": [
      "Building network ...\n",
      "... done.\n"
     ]
    }
   ],
   "source": [
    "print(\"Building network ...\")\n",
    "\n",
    "n = X.shape[1]\n",
    "\n",
    "target_var = T.fmatrix('target')\n",
    "input_var  = T.ftensor3('input')\n",
    "\n",
    "inp = InputLayer(shape = (None, X.shape[1], X.shape[2]), input_var = input_var)\n",
    "\n",
    "conv_1 = Conv1DLayer(inp, \n",
    "                    num_filters = 16, \n",
    "                    filter_size = 3, \n",
    "                    nonlinearity = rectify, \n",
    "                    pad = 1)\n",
    "\n",
    "conv_2 = Conv1DLayer(conv_1, \n",
    "                     num_filters = 1,  \n",
    "                     filter_size = 3, \n",
    "                     nonlinearity = rectify, \n",
    "                     pad = 1)\n",
    "\n",
    "model = FlattenLayer(conv_2)\n",
    "\n",
    "#model = InputLayer(shape = (None, n, 1), input_var = input_var)\n",
    "#model = LSTMLayer(model, 128, backwards = True, grad_clipping = 100)\n",
    "#model = LSTMLayer(model, 2,  backwards = True, grad_clipping = 100)\n",
    "#model = SliceLayer(model, 0, axis = 2)\n",
    "\n",
    "output = get_output(model)\n",
    "loss = squared_error(output, target_var).mean()\n",
    "\n",
    "params  = get_all_params(model, trainable = True)\n",
    "train_prediction = get_output(model, deterministic = True)\n",
    "\n",
    "updates = adam(loss, params, learning_rate = 0.001)\n",
    "train_fn = theano.function([input_var, target_var], loss, updates = updates)\n",
    "val_fn = theano.function([input_var, target_var], loss)\n",
    "print(\"... done.\")"
   ]
  },
  {
   "cell_type": "code",
   "execution_count": 72,
   "metadata": {
    "collapsed": false
   },
   "outputs": [
    {
     "name": "stdout",
     "output_type": "stream",
     "text": [
      "Epoch \t| Train loss \t| Test loss \t| Time\n",
      "=========================================================\n",
      "0 \t| nan \t| nan \t| 26.0361 \t|\n"
     ]
    },
    {
     "ename": "KeyboardInterrupt",
     "evalue": "",
     "output_type": "error",
     "traceback": [
      "\u001b[1;31m---------------------------------------------------------------------------\u001b[0m",
      "\u001b[1;31mKeyboardInterrupt\u001b[0m                         Traceback (most recent call last)",
      "\u001b[1;32m<ipython-input-72-4b3275fb4e9f>\u001b[0m in \u001b[0;36m<module>\u001b[1;34m()\u001b[0m\n\u001b[0;32m     30\u001b[0m     \u001b[0mi\u001b[0m \u001b[1;33m=\u001b[0m \u001b[1;36m0\u001b[0m\u001b[1;33m\u001b[0m\u001b[0m\n\u001b[0;32m     31\u001b[0m     \u001b[1;32mfor\u001b[0m \u001b[0mx\u001b[0m\u001b[1;33m,\u001b[0m \u001b[0my\u001b[0m \u001b[1;32min\u001b[0m \u001b[0miterate_minibatches\u001b[0m\u001b[1;33m(\u001b[0m\u001b[0mnp\u001b[0m\u001b[1;33m.\u001b[0m\u001b[0mlog\u001b[0m\u001b[1;33m(\u001b[0m\u001b[1;36m1\u001b[0m \u001b[1;33m+\u001b[0m \u001b[0mX\u001b[0m\u001b[1;33m[\u001b[0m\u001b[1;33m:\u001b[0m\u001b[0mk\u001b[0m\u001b[1;33m]\u001b[0m\u001b[1;33m)\u001b[0m\u001b[1;33m,\u001b[0m \u001b[0mnp\u001b[0m\u001b[1;33m.\u001b[0m\u001b[0mlog\u001b[0m\u001b[1;33m(\u001b[0m\u001b[1;36m1\u001b[0m \u001b[1;33m+\u001b[0m \u001b[0mY\u001b[0m\u001b[1;33m[\u001b[0m\u001b[1;33m:\u001b[0m\u001b[0mk\u001b[0m\u001b[1;33m]\u001b[0m\u001b[1;33m)\u001b[0m\u001b[1;33m,\u001b[0m \u001b[0mnb\u001b[0m\u001b[1;33m)\u001b[0m\u001b[1;33m:\u001b[0m\u001b[1;33m\u001b[0m\u001b[0m\n\u001b[1;32m---> 32\u001b[1;33m         \u001b[0mloss_train\u001b[0m \u001b[1;33m+=\u001b[0m \u001b[0mtrain_fn\u001b[0m\u001b[1;33m(\u001b[0m\u001b[0mx\u001b[0m\u001b[1;33m,\u001b[0m \u001b[0my\u001b[0m\u001b[1;33m)\u001b[0m\u001b[1;33m\u001b[0m\u001b[0m\n\u001b[0m\u001b[0;32m     33\u001b[0m         \u001b[0mi\u001b[0m \u001b[1;33m+=\u001b[0m \u001b[1;36m1\u001b[0m\u001b[1;33m\u001b[0m\u001b[0m\n\u001b[0;32m     34\u001b[0m     \u001b[0mloss_train\u001b[0m \u001b[1;33m/=\u001b[0m \u001b[0mi\u001b[0m\u001b[1;33m\u001b[0m\u001b[0m\n",
      "\u001b[1;32m/home/dlevin/anaconda3/lib/python3.5/site-packages/theano/compile/function_module.py\u001b[0m in \u001b[0;36m__call__\u001b[1;34m(self, *args, **kwargs)\u001b[0m\n\u001b[0;32m    857\u001b[0m         \u001b[0mt0_fn\u001b[0m \u001b[1;33m=\u001b[0m \u001b[0mtime\u001b[0m\u001b[1;33m.\u001b[0m\u001b[0mtime\u001b[0m\u001b[1;33m(\u001b[0m\u001b[1;33m)\u001b[0m\u001b[1;33m\u001b[0m\u001b[0m\n\u001b[0;32m    858\u001b[0m         \u001b[1;32mtry\u001b[0m\u001b[1;33m:\u001b[0m\u001b[1;33m\u001b[0m\u001b[0m\n\u001b[1;32m--> 859\u001b[1;33m             \u001b[0moutputs\u001b[0m \u001b[1;33m=\u001b[0m \u001b[0mself\u001b[0m\u001b[1;33m.\u001b[0m\u001b[0mfn\u001b[0m\u001b[1;33m(\u001b[0m\u001b[1;33m)\u001b[0m\u001b[1;33m\u001b[0m\u001b[0m\n\u001b[0m\u001b[0;32m    860\u001b[0m         \u001b[1;32mexcept\u001b[0m \u001b[0mException\u001b[0m\u001b[1;33m:\u001b[0m\u001b[1;33m\u001b[0m\u001b[0m\n\u001b[0;32m    861\u001b[0m             \u001b[1;32mif\u001b[0m \u001b[0mhasattr\u001b[0m\u001b[1;33m(\u001b[0m\u001b[0mself\u001b[0m\u001b[1;33m.\u001b[0m\u001b[0mfn\u001b[0m\u001b[1;33m,\u001b[0m \u001b[1;34m'position_of_error'\u001b[0m\u001b[1;33m)\u001b[0m\u001b[1;33m:\u001b[0m\u001b[1;33m\u001b[0m\u001b[0m\n",
      "\u001b[1;31mKeyboardInterrupt\u001b[0m: "
     ]
    }
   ],
   "source": [
    "print(\"Epoch \\t| Train loss \\t| Test loss \\t| Time\")\n",
    "print(\"=========================================================\")\n",
    "\n",
    "def iterate_minibatches(X, Y, batch_size = 128):    \n",
    "    x = np.zeros((batch_size, X.shape[1], X.shape[2]), dtype = np.float32)\n",
    "    y = np.zeros((batch_size, Y.shape[1]), dtype = np.float32)\n",
    "    k = 0\n",
    "    for i in range(X.shape[0]):\n",
    "        x[k] = X[i]\n",
    "        y[k] = Y[i]\n",
    "        k += 1\n",
    "        if k >= batch_size:\n",
    "            k = 0\n",
    "            idx = np.random.permutation(batch_size)\n",
    "            yield x[idx], y[idx]\n",
    "\n",
    "\n",
    "nb = 128\n",
    "k = int(X.shape[0] * 0.7)\n",
    "\n",
    "train_err = list()\n",
    "test_err = list()\n",
    "\n",
    "for epoch in range(100):    \n",
    "    t = time.time()\n",
    "    \n",
    "    loss_train = 0\n",
    "    loss_test  = 0\n",
    "    \n",
    "    i = 0\n",
    "    for x, y in iterate_minibatches(np.log(1 + X[:k]), np.log(1 + Y[:k]), nb):\n",
    "        loss_train += train_fn(x, y)\n",
    "        i += 1\n",
    "    loss_train /= i\n",
    "    train_err.append(loss_train)\n",
    "    \n",
    "    i = 0\n",
    "    for x, y in iterate_minibatches(np.log(1 + X[k:]), np.log(1 + Y[k:]), nb):\n",
    "        loss_test += val_fn(x, y)\n",
    "        i += 1\n",
    "    loss_test /= i\n",
    "    test_err.append(loss_test)\n",
    "    \n",
    "    t = time.time() - t\n",
    "    \n",
    "    print(\"%i \\t| %.7f \\t| %.7f \\t| %.4f \\t|\" % \\\n",
    "          (epoch, loss_train * 1000, loss_test * 1000, t))"
   ]
  },
  {
   "cell_type": "code",
   "execution_count": 55,
   "metadata": {
    "collapsed": false
   },
   "outputs": [
    {
     "data": {
      "image/png": "[encoded data removed]",
      "text/plain": [
       "<matplotlib.figure.Figure at 0x7fc7cbf56f28>"
      ]
     },
     "metadata": {},
     "output_type": "display_data"
    }
   ],
   "source": [
    "plt.figure(figsize = (8,4))\n",
    "plt.semilogy(train_err, 'b.-')\n",
    "plt.semilogy(test_err, 'r.-')\n",
    "#plt.ylim(1e-6,1e-2)\n",
    "plt.grid(which = 'both')"
   ]
  },
  {
   "cell_type": "code",
   "execution_count": 57,
   "metadata": {
    "collapsed": false
   },
   "outputs": [],
   "source": [
    "network = theano.function([input_var], output)\n",
    "y_pred = network(X[:100])"
   ]
  },
  {
   "cell_type": "code",
   "execution_count": 69,
   "metadata": {
    "collapsed": false
   },
   "outputs": [
    {
     "data": {
      "text/plain": [
       "[<matplotlib.lines.Line2D at 0x7fc7d80e9e48>]"
      ]
     },
     "execution_count": 69,
     "metadata": {},
     "output_type": "execute_result"
    },
    {
     "data": {
      "image/png": "[encoded data removed]",
      "text/plain": [
       "<matplotlib.figure.Figure at 0x7fc7cbf56630>"
      ]
     },
     "metadata": {},
     "output_type": "display_data"
    }
   ],
   "source": [
    "i = np.random.randint(0,100)\n",
    "plt.figure(figsize = (16,4))\n",
    "plt.plot(X[i,:,0], 'b.-')\n",
    "plt.plot(Y[i], 'r-')\n",
    "plt.plot(y_pred[i], 'k-', lw = 2)\n",
    "#plt.ylim(X_train[i,:,0].min() - 0.005, X_train[i,:,0].max() + 0.005)"
   ]
  },
  {
   "cell_type": "code",
   "execution_count": null,
   "metadata": {
    "collapsed": false
   },
   "outputs": [],
   "source": [
    "n = 1024\n",
    "N = 10000\n",
    "\n",
    "X = np.zeros((N, n, 1))\n",
    "Y = np.zeros((N, n))\n",
    "\n",
    "for i in range(N):\n",
    "    k = np.random.randint(1, 6)\n",
    "    u = np.zeros(n)\n",
    "    idx = np.sort(np.random.randint(0, n, 2*k))\n",
    "    \n",
    "    for j in range(0, 2*k, 2):\n",
    "        u[idx[j]:idx[j+1]] = 0.5 + 3*np.random.rand()\n",
    "\n",
    "    idx = np.random.choice(np.arange(n), np.random.randint(10*k), replace = False)\n",
    "    u[idx] = 0.5 + 3*np.random.rand(idx.size)\n",
    "\n",
    "    c = 1 + 3*np.random.rand()\n",
    "    y = np.zeros(n) + c\n",
    "\n",
    "    a = np.zeros(2)\n",
    "    a[0] = 0.6*np.random.rand()\n",
    "    a[1] = 0.6 - a[0]\n",
    "    b = np.random.rand(2)\n",
    "\n",
    "    for j in range(2, n):\n",
    "        y[j] = c + np.dot(a, y[j-2:j]) + np.dot(b, u[j-2:j]) + 0.01*np.random.randn()\n",
    "\n",
    "    x = y.copy()\n",
    "\n",
    "    j = np.random.randint(0, n//2 - 1)\n",
    "    k = np.random.randint(0, n//3 - 1)\n",
    "    a = np.random.randn()\n",
    "    b = a + np.random.randn()\n",
    "    x[j:j+k] += np.linspace(a, b, k) \n",
    "\n",
    "    idx = np.random.choice(np.arange(n), 16, replace = False)\n",
    "    x[idx] += x.mean() + np.random.randn(idx.size)\n",
    "\n",
    "    X[i,:,0] = x\n",
    "    Y[i] = y"
   ]
  }
 ],
 "metadata": {
  "kernelspec": {
   "display_name": "Python 3",
   "language": "python",
   "name": "python3"
  },
  "language_info": {
   "codemirror_mode": {
    "name": "ipython",
    "version": 3
   },
   "file_extension": ".py",
   "mimetype": "text/x-python",
   "name": "python",
   "nbconvert_exporter": "python",
   "pygments_lexer": "ipython3",
   "version": "3.5.2"
  }
 },
 "nbformat": 4,
 "nbformat_minor": 0
}
